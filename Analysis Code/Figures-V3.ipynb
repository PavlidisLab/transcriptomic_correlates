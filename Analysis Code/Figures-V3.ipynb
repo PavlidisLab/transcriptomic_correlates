{
 "cells": [
  {
   "cell_type": "markdown",
   "metadata": {},
   "source": [
    "Based on linear model approach\n",
    "\n",
    "This version includes changes based on reviewer comments. Most importantly, PCA results and newer analysis without zero filtering step"
   ]
  },
  {
   "cell_type": "markdown",
   "metadata": {},
   "source": [
    "# Imports, load data, set up labels, functions, etc."
   ]
  },
  {
   "cell_type": "code",
   "execution_count": 1,
   "metadata": {
    "collapsed": true
   },
   "outputs": [],
   "source": [
    "import pandas as pd\n",
    "import pickle\n",
    "from matplotlib_venn import venn2\n",
    "from matplotlib_venn import venn3\n",
    "from matplotlib_venn import venn2_circles\n",
    "import matplotlib.pyplot as plt\n",
    "import matplotlib\n",
    "from matplotlib.gridspec import GridSpec\n",
    "from mpl_toolkits.axes_grid1.inset_locator import inset_axes\n",
    "import matplotlib.patches as mpatches\n",
    "import numpy as np\n",
    "import seaborn as sns\n",
    "from scipy import stats\n",
    "import sys\n",
    "import re\n",
    "from statsmodels.sandbox.stats.multicomp import fdrcorrection0\n",
    "from matplotlib.lines import Line2D\n",
    "from mpl_toolkits.axes_grid1.inset_locator import InsetPosition\n",
    "from scipy.stats import chi2_contingency\n",
    "from numpy.random import randint\n",
    "from numpy.random import shuffle\n",
    "import math\n",
    "import matplotlib.image as mpimg\n",
    "import itertools\n",
    "from matplotlib.patches import ConnectionPatch\n",
    "\n",
    "import mygene\n",
    "mg = mygene.MyGeneInfo()\n",
    "\n",
    "# matplotlib.style.use('seaborn-poster')\n",
    "matplotlib.style.use('seaborn-paper')\n",
    "%config InlineBackend.figure_format = 'svg'\n"
   ]
  },
  {
   "cell_type": "code",
   "execution_count": 2,
   "metadata": {
    "collapsed": true
   },
   "outputs": [],
   "source": [
    "# Load NE data\n",
    "\n",
    "ne = pd.read_csv('/Users/Claire/Dropbox/Allen_Institute_Stuff/Ephys_GE/Ephys_Data/discovery_dataset.csv', index_col = 0)\n",
    "celltypes = pd.read_csv('/Users/Claire/Dropbox/Allen_Institute_Stuff/Ephys_GE/Ephys_Data/journal.pcbi.1005814.s008.csv', index_col = 0)\n",
    "celltype_dict = {a: b for a, b in zip(celltypes.celltype, celltypes['Major Type'])}\n",
    "ne['Major_Type'] = [celltype_dict[type] for type in ne.celltype]\n",
    "ne_inh = ne[(ne.Major_Type != 'Glutamatergic') & (ne.Major_Type != 'MSN') & (ne.Major_Type != 'Pyramidal') & (ne.celltype != 'Ctx Htr3a') & (ne.celltype != 'Ctx Oxtr')]\n",
    "ne_exc = ne[(ne.Major_Type == 'Glutamatergic') | (ne.Major_Type == 'Pyramidal')]\n"
   ]
  },
  {
   "cell_type": "code",
   "execution_count": 3,
   "metadata": {
    "collapsed": true
   },
   "outputs": [],
   "source": [
    "# Set color names\n",
    "\n",
    "color_int = '#7B0192'\n",
    "color_par = '#018484'\n",
    "color_shared = '#FF6E62'\n",
    "color_reg = '#DBD100'\n",
    "color_exc = '#006DDB'\n",
    "color_inh = '#920000'"
   ]
  },
  {
   "cell_type": "code",
   "execution_count": 4,
   "metadata": {
    "collapsed": true
   },
   "outputs": [],
   "source": [
    "# Load ephys, morphology, and seq cell type averages from October 2018 analysis\n",
    "\n",
    "outer_folder = '/Users/Claire/Dropbox/Allen_Institute_Stuff/Ephys_GE/'\n",
    "analysis_folder = '/Users/Claire/Dropbox/Allen_Institute_Stuff/Ephys_GE/Analysis/2018-10-09/'\n",
    "analysis_folder_morph = '/Users/Claire/Dropbox/Allen_Institute_Stuff/Ephys_GE/Analysis/2018-10-16/'\n",
    "\n",
    "df_ephys = pd.read_csv(analysis_folder + 'ephys_mean.csv', index_col = 0)\n",
    "df_seq = pd.read_csv(analysis_folder + 'seq_mean.csv', index_col = 0)\n",
    "df_ephys_sem = pd.read_csv(analysis_folder + 'ephys_sem.csv', index_col = 0)\n",
    "\n",
    "df_morph = pd.read_csv(analysis_folder_morph + 'morph_mean.csv', index_col = 0)\n",
    "df_seq_morph = pd.read_csv(analysis_folder_morph + 'seq_mean.csv', index_col = 0)\n",
    "df_morph_sem = pd.read_csv(analysis_folder_morph + 'morph_sem.csv', index_col = 0)"
   ]
  },
  {
   "cell_type": "code",
   "execution_count": 5,
   "metadata": {
    "collapsed": true
   },
   "outputs": [],
   "source": [
    "# Load PCA analysis from March 2019\n",
    "\n",
    "analysis_folder_pca = '/Users/Claire/Dropbox/Allen_Institute_Stuff/Ephys_GE/Analysis/2019-03-21 PCA/'\n",
    "\n",
    "df_ephys_pca = pd.read_csv(analysis_folder_pca + 'ephys_mean_pca.csv', index_col = 0)\n",
    "df_morph_pca = pd.read_csv(analysis_folder_pca + 'morph_mean_pca.csv', index_col = 0)\n",
    "\n",
    "components_ephys = pd.read_csv(analysis_folder_pca + 'ephys_components.csv', index_col = 0)\n",
    "components_morph = pd.read_csv(analysis_folder_pca + 'morph_components.csv', index_col = 0)\n",
    "components_ephys.columns = [n.replace('_log10', '') for n in components_ephys.columns]\n",
    "components_morph.columns = [n.replace('_log10', '') for n in components_morph.columns]\n",
    "scale_list = pd.read_csv(analysis_folder_pca + 'scale.csv', index_col = 0)"
   ]
  },
  {
   "cell_type": "code",
   "execution_count": 6,
   "metadata": {},
   "outputs": [
    {
     "data": {
      "text/plain": [
       "True"
      ]
     },
     "execution_count": 6,
     "metadata": {},
     "output_type": "execute_result"
    }
   ],
   "source": [
    "(df_ephys.columns == df_ephys_pca.columns).all()"
   ]
  },
  {
   "cell_type": "code",
   "execution_count": 7,
   "metadata": {},
   "outputs": [
    {
     "data": {
      "text/plain": [
       "True"
      ]
     },
     "execution_count": 7,
     "metadata": {},
     "output_type": "execute_result"
    }
   ],
   "source": [
    "(df_morph.columns == df_morph_pca.columns).all()"
   ]
  },
  {
   "cell_type": "code",
   "execution_count": 8,
   "metadata": {
    "collapsed": true
   },
   "outputs": [],
   "source": [
    "df_ephys_pca.index = ['E_' + n for n in df_ephys_pca.index]\n",
    "df_morph_pca.index = ['M_' + n for n in df_morph_pca.index]\n",
    "\n",
    "df_ephys = pd.concat([df_ephys, df_ephys_pca])\n",
    "df_morph = pd.concat([df_morph, df_morph_pca])"
   ]
  },
  {
   "cell_type": "markdown",
   "metadata": {},
   "source": [
    "# Re-save as online tables 3 and 4\n",
    "property means per cell type, ephys & morphology respectively  \n",
    "ephys/morphology data combined with seq data from same analysis"
   ]
  },
  {
   "cell_type": "code",
   "execution_count": 9,
   "metadata": {
    "collapsed": true
   },
   "outputs": [],
   "source": [
    "pd.concat([df_ephys, df_seq]).to_csv('/Users/Claire/Dropbox/Allen_Institute_Stuff/Ephys_GE/Online Tables/online_table3.csv')\n",
    "pd.concat([df_morph, df_seq_morph]).to_csv('/Users/Claire/Dropbox/Allen_Institute_Stuff/Ephys_GE/Online Tables/online_table4.csv')"
   ]
  },
  {
   "cell_type": "code",
   "execution_count": 10,
   "metadata": {
    "collapsed": true
   },
   "outputs": [],
   "source": [
    "# Load linear model results\n",
    "\n",
    "lm_folder_ephys = '/Users/Claire/Dropbox/Allen_Institute_Stuff/Ephys_GE/Analysis/2019-03-27 Ephys/'\n",
    "lm_folder_ephys_i = '/Users/Claire/Dropbox/Allen_Institute_Stuff/Ephys_GE/Analysis/2019-04-11 Interneurons only Ephys/'\n",
    "lm_folder_morph = '/Users/Claire/Dropbox/Allen_Institute_Stuff/Ephys_GE/Analysis/2019-03-27 Morphology/'\n",
    "lm_folder_morph_i = '/Users/Claire/Dropbox/Allen_Institute_Stuff/Ephys_GE/Analysis/2019-04-11 Interneurons only Morphology/'\n",
    "\n",
    "res = pd.read_csv(lm_folder_ephys + 'results_table.csv', index_col = 0)\n",
    "res_i = pd.read_csv(lm_folder_ephys_i + 'results_table.csv', index_col = 0)\n",
    "res = pd.merge(res, res_i, how = 'left', on = ['property', 'gene_entrez_id', 'gene_symbol'])\n",
    "res_morph = pd.read_csv(lm_folder_morph + 'results_table.csv', index_col = 0)\n",
    "res_morph_i = pd.read_csv(lm_folder_morph_i + 'results_table.csv', index_col = 0)\n",
    "res_morph = pd.merge(res_morph, res_morph_i, how = 'left', on = ['property', 'gene_entrez_id', 'gene_symbol'])\n",
    "res['property'] = ['E_' + n if n.startswith('PC') else n for n in res['property']]\n",
    "res_morph['property'] = ['M_' + n if n.startswith('PC') else n for n in res_morph['property']]\n",
    "res = pd.concat([res, res_morph], axis = 0)"
   ]
  },
  {
   "cell_type": "code",
   "execution_count": 11,
   "metadata": {
    "collapsed": true
   },
   "outputs": [],
   "source": [
    "# remove log10 labels from working copy to make plotting easier, but record for which log10 was used\n",
    "measures_log10 = []\n",
    "for m in list(set(res['property'])):\n",
    "    if m.endswith('_log10'):\n",
    "        measures_log10.append(m)\n",
    "res.property = [m.replace('_log10', '') for m in res.property]\n",
    "measures_all = list(set(res['property']))"
   ]
  },
  {
   "cell_type": "code",
   "execution_count": 12,
   "metadata": {
    "collapsed": true
   },
   "outputs": [],
   "source": [
    "# set order of measures\n",
    "\n",
    "measures_all = ['E_PC3', 'E_PC2', 'E_PC1', 'rheo', 'apthr', 'aphw', 'apamp', 'ahpamp',\n",
    "                'cap', 'tau', 'ri', 'rmp', 'sag',\n",
    "                'avg_isi', 'isi_cv', 'latency', 'maxfreq', 'f_i_curve_slope', 'adratio', \n",
    "                'M_PC3', 'M_PC2', 'M_PC1', 'average_bifurcation_angle_local',\n",
    "                'branchiness', 'max_branch_order', 'total_length',\n",
    "                'total_volume', 'soma_surface']\n",
    "\n",
    "measures_ephys = ['rheo', 'apthr', 'aphw', 'apamp', 'ahpamp',\n",
    "                  'cap', 'tau', 'ri', 'rmp', 'sag',\n",
    "                  'avg_isi', 'isi_cv', 'latency', 'maxfreq', 'f_i_curve_slope', 'adratio']"
   ]
  },
  {
   "cell_type": "code",
   "execution_count": 13,
   "metadata": {
    "collapsed": true
   },
   "outputs": [],
   "source": [
    "# Load gene names & symbols\n",
    "\n",
    "gene_info = pd.read_csv('/Users/Claire/Dropbox/Allen_Institute_Stuff/Ephys_GE/mouse_VISp_gene_expression_matrices_2018-06-14/mouse_VISp_2018-06-14_genes-rows.csv', index_col = 3)\n",
    "\n",
    "id_to_symbol = gene_info['gene_symbol'].to_dict()\n",
    "id_to_name = gene_info['gene_name'].to_dict()"
   ]
  },
  {
   "cell_type": "code",
   "execution_count": 14,
   "metadata": {
    "collapsed": true
   },
   "outputs": [],
   "source": [
    "line_labels = [{'exc': 1, 'inh': 0}[line.split('__')[-1]] for line in df_ephys.columns]\n",
    "line_labels_morph = [{'exc': 1, 'inh': 0}[line.split('__')[-1]] for line in df_morph.columns]"
   ]
  },
  {
   "cell_type": "code",
   "execution_count": 15,
   "metadata": {
    "collapsed": true
   },
   "outputs": [],
   "source": [
    "res_dict = {}\n",
    "\n",
    "for measure in measures_all:\n",
    "    res_dict[measure] = res[res.property == measure]"
   ]
  },
  {
   "cell_type": "code",
   "execution_count": 16,
   "metadata": {
    "collapsed": true
   },
   "outputs": [],
   "source": [
    "# Percentages for PCs are % variance (see PCA notebook)\n",
    "\n",
    "measure_dict = {'E_PC4': 'Electrophysiology PC4 (7%)','E_PC3': 'Electrophysiology PC3 (9%)',\n",
    "                'E_PC2': 'Electrophysiology PC2 (18%)','E_PC1': 'Electrophysiology PC1 (47%)',\n",
    "                'M_PC4': 'Morphology PC4 (10%)','M_PC3': 'Morphology PC3 (19%)',\n",
    "                'M_PC2': 'Morphology PC2 (21%)','M_PC1': 'Morphology PC1 (44%)',\n",
    "                'apamp': 'AP Amplitude', 'ahpamp': 'AHP Amplitude', 'aphw': 'AP Half-width', \n",
    "                'maxfreq': 'Max Firing Frequency', 'tau' : 'Time Constant Tau', 'rmp': 'Resting Membrane Potential',\n",
    "                'avg_isi': 'Average Interspike Interval', 'f_i_curve_slope': 'Input-Output Curve Slope',\n",
    "                'cap' : 'Capacitance', 'sag': 'Sag', 'ri': 'Input Resistance', 'rheo': 'Rheobase',\n",
    "                'adratio': 'Adaptation Ratio', 'apthr': 'AP Threshold', \n",
    "                'latency' : 'Latency', 'isi_cv' : 'ISI CoV', \n",
    "                'average_bifurcation_angle_local' : 'Bifurcation Angle', 'max_branch_order' : 'Max Branch Order', \n",
    "                'branchiness' : 'Branchiness', 'total_length' : 'Total Length',\n",
    "                'total_volume' : 'Total Volume', 'soma_surface' : 'Soma Surface'}\n",
    "\n",
    "measure_dict_units = {'E_PC4': 'Electrophysiology PC4','E_PC3': 'Electrophysiology PC3',\n",
    "                      'E_PC2': 'Electrophysiology PC2','E_PC1': 'Electrophysiology PC1',\n",
    "                      'M_PC4': 'Morphology PC4','M_PC3': 'Morphology PC3',\n",
    "                      'M_PC2': 'Morphology PC2','M_PC1': 'Morphology PC1',\n",
    "                      'apamp': 'AP Amplitude (mV)', 'ahpamp': 'AHP Amplitude (mV)', 'aphw': 'AP Half-width (ms)', \n",
    "                      'maxfreq': 'Max Firing\\nFrequency (Hz)', 'maxfreq_log10': 'Max Firing\\nFrequency (Hz)', \n",
    "                      'tau' : 'Time Constant Tau (ms)', 'rmp': 'Resting Membrane Potential (mV)',\n",
    "                      'avg_isi': 'Average Interspike Interval (ms)', 'f_i_curve_slope': 'Input-Output Curve\\nSlope (Hz/pA)',\n",
    "                      'cap' : 'Capacitance (pF)', 'sag': 'Sag', 'ri': u'Input Resistance (MΩ)', 'rheo': 'Rheobase (pA)',\n",
    "                      'adratio': 'Adaptation Ratio', 'apthr': 'AP Threshold (mV)', \n",
    "                      'latency' : 'Latency (s)', 'isi_cv' : 'ISI CoV', \n",
    "                      'average_bifurcation_angle_local' : 'Bifurcation Angle (degrees)', 'max_branch_order' : 'Max Branch Order', \n",
    "                      'branchiness' : u'Branchiness\\n(branches/μm)', 'total_length' : u'Total Length (μm)',\n",
    "                      'total_volume' : u'Total Volume (μm^3)', 'soma_surface' : u'Soma Surface (μm^2)'}\n",
    "\n"
   ]
  },
  {
   "cell_type": "code",
   "execution_count": 17,
   "metadata": {
    "collapsed": true
   },
   "outputs": [],
   "source": [
    "def calculate_overlap(ds, corrtypes, col_labels, measure_dict, alpha = 0.1):\n",
    "\n",
    "    sig_dd = {}\n",
    "    overlap_df = pd.DataFrame(columns = col_labels, index = [measure_dict[measure] for measure in ds.keys()])\n",
    "    \n",
    "    for measure in measures_all:\n",
    "        sig_d = {}\n",
    "        qvals = ds[measure]\n",
    "        for n in range(len(corrtypes)):\n",
    "            sig_d[corrtypes[n]] = qvals.gene_symbol[qvals[corrtypes[n]] < alpha].values\n",
    "        sig_dd[measure] = sig_d\n",
    "        in_1 = len(sig_d[corrtypes[0]])\n",
    "        in_2 = len(sig_d[corrtypes[1]])\n",
    "        both = len(set(sig_d[corrtypes[0]]).intersection(set(sig_d[corrtypes[1]])))\n",
    "        overlap_df.loc[measure_dict[measure]] = [in_1, in_2, both]\n",
    "        \n",
    "    return overlap_df, sig_dd"
   ]
  },
  {
   "cell_type": "code",
   "execution_count": 18,
   "metadata": {
    "collapsed": true
   },
   "outputs": [],
   "source": [
    "def make_scatter(gene, measure, ax, df_seq, df_ephys, line_labels, alpha = 0.6, \n",
    "                 unit = 'CPM', s = 30, log = False, x_label = None, y_label = None, regression_lines = True):\n",
    "\n",
    "    if log:\n",
    "        ax.set_yscale('log')\n",
    "        \n",
    "    x = df_seq.loc[gene]        \n",
    "    y = df_ephys.loc[measure]\n",
    "    exc = [n > 0.5 for n in line_labels]\n",
    "    inh = [n <= 0.5 for n in line_labels]\n",
    "\n",
    "    x_exc = df_seq.loc[:, exc].loc[gene]\n",
    "    y_exc = df_ephys.loc[:, exc].loc[measure]    \n",
    "    x_inh = df_seq.loc[:, inh].loc[gene]\n",
    "    y_inh = df_ephys.loc[:, inh].loc[measure]    \n",
    "    \n",
    "    for x_subset, y_subset, color, marker in zip([x_inh, x_exc], [y_inh, y_exc], [color_inh, color_exc], ['o', 'D']):\n",
    "        ax.scatter(x_subset, y_subset, color = color, s = s, marker = marker, alpha = alpha)\n",
    "\n",
    "    if regression_lines:\n",
    "        fit_all = np.polyfit(x, np.log10(y) if log else y, deg = 1)\n",
    "        fit_exc = np.polyfit(x_exc, np.log10(y_exc) if log else y_exc, deg = 1)\n",
    "        fit_inh = np.polyfit(x_inh, np.log10(y_inh) if log else y_inh, deg = 1)        \n",
    "        \n",
    "        lim_all = pd.Series([x.min(), x.max()])\n",
    "        lim_exc = pd.Series([x_exc.min(), x_exc.max()])\n",
    "        lim_inh = pd.Series([x_inh.min(), x_inh.max()])\n",
    "\n",
    "        for lim, fit, linestyle in zip([lim_all, lim_exc, lim_inh], [fit_all, fit_exc, fit_inh], ['k--', 'k-', 'k-']):\n",
    "            if log:\n",
    "                fit_line = 10**(lim * fit[0] + fit[1])\n",
    "            else:\n",
    "                fit_line = lim * fit[0] + fit[1]\n",
    "            ax.plot(lim, fit_line, linestyle, linewidth = 1)\n",
    "\n",
    "    if x_label == None:\n",
    "        ax.set_xlabel(id_to_symbol[gene] + ' ($log_2$ ' + unit + '+1)')\n",
    "    else:\n",
    "        ax.set_xlabel(x_label)\n",
    "    if y_label == None:\n",
    "        ax.set_ylabel(measure_dict_units[measure])\n",
    "    else:\n",
    "        ax.set_ylabel(y_label)\n",
    "\n",
    "    ax.spines['right'].set_visible(False)\n",
    "    ax.spines['top'].set_visible(False)\n"
   ]
  },
  {
   "cell_type": "markdown",
   "metadata": {},
   "source": [
    "# Fig 1\n",
    "# Schematic of hypothetical genes showing partial/regular correlation only\n",
    "# + methods"
   ]
  },
  {
   "cell_type": "code",
   "execution_count": null,
   "metadata": {
    "collapsed": true
   },
   "outputs": [],
   "source": [
    "# # Generate \"true\" means for x and y variables\n",
    "# # Simulate \"class-driven\" data\n",
    "\n",
    "# means1 = np.random.multivariate_normal([50, 50], [[100, 0], [0, 100]], 16)\n",
    "# add1 = np.concatenate([(np.tile([0, 0], (8, 1))), (np.tile([50, 50], (8, 1)))])\n",
    "# means_df1 = pd.DataFrame(means1 + add1)\n",
    "\n",
    "\n",
    "# # Generate \"true\" means for x and y variables\n",
    "# # Simulate \"non-class-driven\" data\n",
    "\n",
    "# means2 = np.random.multivariate_normal([100, 100], [[100, 98], [98, 100]], 16)\n",
    "# add2 = np.concatenate([(np.tile([15, 0], (8, 1))), (np.tile([0, 30], (8, 1)))])\n",
    "# means_df2 = pd.DataFrame(means2 + add2)\n",
    "\n",
    "\n",
    "# # Generate \"true\" means for x and y variables\n",
    "# # Simulate data with interaction\n",
    "# means3 = np.random.multivariate_normal([100, 100], [[100, 95], [95, 100]], 8)\n",
    "# means4 = np.random.multivariate_normal([100, 100], [[100, -95], [-95, 100]], 8)\n",
    "# means_df3a = pd.DataFrame(means3)\n",
    "# means_df3b = pd.DataFrame(means4)\n",
    "\n",
    "# # Generate samples of individual cells based on \"true\" pop means\n",
    "\n",
    "# points1 = []\n",
    "# points2 = []\n",
    "# points3a = []\n",
    "# points3b = []\n",
    "\n",
    "# for points, means_df, cov, sign in[[points1, means_df1, 0.00001, 1], [points2, means_df2, 0.0095, 1], \n",
    "#                                    [points3a, means_df3a, 0.0095, 1], [points3b, means_df3b, 0.0095, -1]]:\n",
    "\n",
    "#     for mean in means_df.iterrows():\n",
    "#         new_points = np.random.multivariate_normal([mean[1][0], mean[1][1]], \n",
    "#                                                    [[mean[1][0] * 0.01, mean[1][0] * cov * sign], [mean[1][1] * cov * sign, mean[1][1] * 0.01]], 10)\n",
    "#         points.append(new_points)\n",
    "\n",
    "\n",
    "# means_df3 = pd.concat([means_df3a, means_df3b])\n",
    "# points3 = points3a + points3b"
   ]
  },
  {
   "cell_type": "code",
   "execution_count": null,
   "metadata": {
    "collapsed": true
   },
   "outputs": [],
   "source": [
    "# Save simulated data\n",
    "\n",
    "# means_df1.to_csv('/Users/Claire/Dropbox/Allen_Institute_Stuff/Ephys_GE/Figures/Fig1 Simulated data/means_df1.csv')\n",
    "# means_df2.to_csv('/Users/Claire/Dropbox/Allen_Institute_Stuff/Ephys_GE/Figures/Fig1 Simulated data/means_df2.csv')\n",
    "# means_df3.to_csv('/Users/Claire/Dropbox/Allen_Institute_Stuff/Ephys_GE/Figures/Fig1 Simulated data/means_df3.csv')\n",
    "# with open('/Users/Claire/Dropbox/Allen_Institute_Stuff/Ephys_GE/Figures/Fig1 Simulated data/points1.pkl', 'wb') as f:\n",
    "#     pickle.dump(points1, f)\n",
    "# with open('/Users/Claire/Dropbox/Allen_Institute_Stuff/Ephys_GE/Figures/Fig1 Simulated data/points2.pkl', 'wb') as f:\n",
    "#     pickle.dump(points2, f)\n",
    "# with open('/Users/Claire/Dropbox/Allen_Institute_Stuff/Ephys_GE/Figures/Fig1 Simulated data/points3.pkl', 'wb') as f:\n",
    "#     pickle.dump(points3, f)"
   ]
  },
  {
   "cell_type": "code",
   "execution_count": 19,
   "metadata": {
    "collapsed": true
   },
   "outputs": [],
   "source": [
    "# Load simulated data\n",
    "\n",
    "means_df1 = pd.read_csv('/Users/Claire/Dropbox/Allen_Institute_Stuff/Ephys_GE/Figures/Fig1 Simulated data/means_df1.csv', index_col = 0)\n",
    "means_df2 = pd.read_csv('/Users/Claire/Dropbox/Allen_Institute_Stuff/Ephys_GE/Figures/Fig1 Simulated data/means_df2.csv', index_col = 0)\n",
    "means_df3 = pd.read_csv('/Users/Claire/Dropbox/Allen_Institute_Stuff/Ephys_GE/Figures/Fig1 Simulated data/means_df3.csv', index_col = 0)\n",
    "with open('/Users/Claire/Dropbox/Allen_Institute_Stuff/Ephys_GE/Figures/Fig1 Simulated data/points1.pkl', 'rb') as f:\n",
    "    points1 = pickle.load(f)\n",
    "with open('/Users/Claire/Dropbox/Allen_Institute_Stuff/Ephys_GE/Figures/Fig1 Simulated data/points2.pkl', 'rb') as f:\n",
    "    points2 = pickle.load(f)\n",
    "with open('/Users/Claire/Dropbox/Allen_Institute_Stuff/Ephys_GE/Figures/Fig1 Simulated data/points3.pkl', 'rb') as f:\n",
    "    points3 = pickle.load(f)"
   ]
  },
  {
   "cell_type": "code",
   "execution_count": 29,
   "metadata": {
    "collapsed": true
   },
   "outputs": [],
   "source": [
    "%config InlineBackend.figure_format = 'svg'\n",
    "\n",
    "colors1 = sns.dark_palette(color_exc, 12)[4:] \n",
    "colors2 = sns.dark_palette(color_inh, 12)[4:]\n",
    "colors = colors1 + colors2\n",
    "\n",
    "# Plot individual cells as small points and \"observed\" means across cells in a type as large points\n",
    "fig = plt.figure(figsize = (7, 5.5), dpi = 300)\n",
    "gs = GridSpec(2, 3, height_ratios = [1.2, 1])\n",
    "\n",
    "\n",
    "axes = []\n",
    "for points, x_pos, title, letter in zip([points1, points2, points3], [0, 1, 2], \n",
    "                                        ['Class-driven', 'Non-class-driven', 'Interaction'], ['B', 'C', 'D']):\n",
    "\n",
    "    ax = plt.subplot(gs[1, x_pos])\n",
    "    axes.append(ax)\n",
    "    ax.set_title(title)\n",
    "    x = []\n",
    "    y = []\n",
    "    for a, n, color in zip(range(16), points, colors):\n",
    "        marker = 'D' if a < 8 else 'o'\n",
    "        points_df = pd.DataFrame(n)\n",
    "        x.append(points_df[0].mean())\n",
    "        y.append(points_df[1].mean())\n",
    "        ax.scatter(points_df[0], points_df[1], s = 3, c = color, alpha = 0.9, marker = marker)\n",
    "    x_exc = x[:8]\n",
    "    x_inh = x[8:]\n",
    "    y_exc = y[:8]\n",
    "    y_inh = y[8:]  \n",
    "    \n",
    "    fit = np.polyfit(x, y, deg = 1)\n",
    "    fit_exc = np.polyfit(x_exc, y_exc, deg = 1)\n",
    "    fit_inh = np.polyfit(x_inh, y_inh, deg = 1)\n",
    "\n",
    "    ax.scatter(x[:8], y[:8], s = 200, alpha = 0.3, c = colors[:8], marker = 'D')\n",
    "    ax.scatter(x[8:], y[8:], s = 200, alpha = 0.3, c = colors[8:], marker = 'o')\n",
    "    ax.set_xlabel('Gene ' + letter + ' Expression')\n",
    "    ax.set_xticklabels([])\n",
    "    ax.set_yticklabels([])\n",
    "    \n",
    "    lim = pd.Series([min(x), max(x)])\n",
    "    lim_exc = pd.Series([min(x_exc), max(x_exc)])\n",
    "    lim_inh = pd.Series([min(x_inh), max(x_inh)])\n",
    "    ax.plot(lim, lim * fit[0] + fit[1], 'k--', linewidth = 1)\n",
    "    ax.plot(lim_exc, lim_exc * fit_exc[0] + fit_exc[1], 'k-', linewidth = 1)\n",
    "    ax.plot(lim_inh, lim_inh * fit_inh[0] + fit_inh[1], 'k-', linewidth = 1)\n",
    "        \n",
    "    ax.spines['right'].set_visible(False)\n",
    "    ax.spines['top'].set_visible(False)\n",
    "    ax.tick_params(axis = 'both', length=0, width=0)\n",
    "\n",
    "axes[0].set_ylabel('Electrophysiological or \\nMorphological Property')\n",
    "\n",
    "e = ax.scatter([], [], color = color_exc, s = 3, alpha = 0.9, marker = 'D')\n",
    "i = ax.scatter([], [], color = color_inh, s = 3, alpha = 0.9, marker = 'o')\n",
    "e_lg = ax.scatter([], [], color = color_exc, s = 200, alpha = 0.3, marker = 'D')\n",
    "i_lg = ax.scatter([], [], color = color_inh, s = 200, alpha = 0.3, marker = 'o')\n",
    "axes[0].legend([(i, i_lg), (e, e_lg)], ['Inhibitory', 'Excitatory'], loc = (0.02, 0.65), \n",
    "               borderpad = 0.8, labelspacing = 1.5)        \n",
    "\n",
    "axes.append(plt.subplot(gs[0, :]))\n",
    "axes[3].imshow(plt.imread('/Users/Claire/Dropbox/Allen_Institute_Stuff/Ephys_GE/Figures/aibs_cre_line_schematic.png'), interpolation = 'none')\n",
    "axes[3].axis('off')\n",
    "\n",
    "for letter, ax in zip(['B', 'C', 'D', 'A'], axes):\n",
    "    ax.annotate(letter, (-0.05, 1.05), ha = 'right', va = 'bottom', xycoords = 'axes fraction', weight = 'bold')\n",
    "\n",
    "plt.savefig('/Users/Claire/Dropbox/Allen_Institute_Stuff/Ephys_GE/Figures/Fig1_draft7.tiff', bbox_inches = 'tight', dpi = 300)    \n",
    "plt.clf()\n",
    "# plt.show()"
   ]
  },
  {
   "cell_type": "markdown",
   "metadata": {},
   "source": [
    "# Fig S1 Average ephys differences between cell types from same line"
   ]
  },
  {
   "cell_type": "code",
   "execution_count": 30,
   "metadata": {
    "collapsed": true
   },
   "outputs": [],
   "source": [
    "c = pd.read_csv(analysis_folder + 'Counts.csv', index_col = 0)\n",
    "\n"
   ]
  },
  {
   "cell_type": "code",
   "execution_count": 31,
   "metadata": {
    "collapsed": true
   },
   "outputs": [],
   "source": [
    "seen = []\n",
    "crelines = []\n",
    "for celltype in c.index:\n",
    "    line = celltype.split('__')[0]\n",
    "    if (line in seen) & (not line in crelines):\n",
    "        crelines.append(line)\n",
    "    else:\n",
    "        seen.append(line)\n",
    "    "
   ]
  },
  {
   "cell_type": "code",
   "execution_count": 32,
   "metadata": {
    "collapsed": true
   },
   "outputs": [],
   "source": [
    "df_ephys_sem_new = df_ephys_sem.copy()\n"
   ]
  },
  {
   "cell_type": "code",
   "execution_count": 33,
   "metadata": {
    "collapsed": true
   },
   "outputs": [],
   "source": [
    "new_index = []\n",
    "new_index_cre = []\n",
    "\n",
    "for celltype in df_ephys.columns:\n",
    "    line = celltype.split('__')[0]\n",
    "    if line in crelines:\n",
    "        new_index.append(celltype)\n",
    "        new_index_cre.append(line)\n",
    "        \n",
    "        \n",
    "new_index.sort()"
   ]
  },
  {
   "cell_type": "code",
   "execution_count": 34,
   "metadata": {
    "collapsed": true
   },
   "outputs": [],
   "source": [
    "pal_sm = sns.husl_palette(len(crelines) / 2, h = 0.5, l=.7, s=.8) + sns.husl_palette(len(crelines) / 2, h = 0.5, l=.4, s=1)\n",
    "shuffle(pal_sm)\n",
    "\n",
    "pal_f2 = []\n",
    "for c, creline in zip(pal_sm, crelines):\n",
    "    for n in range(new_index_cre.count(creline)):\n",
    "        pal_f2.append(c)"
   ]
  },
  {
   "cell_type": "code",
   "execution_count": 35,
   "metadata": {
    "collapsed": true
   },
   "outputs": [],
   "source": [
    "%config InlineBackend.figure_format = 'svg'\n",
    "\n",
    "measures = ['tau', 'latency', 'ahpamp']\n",
    "star_pos = 1.03\n",
    "\n",
    "fig, axes = plt.subplots(len(measures), 1, figsize = (7, 7), sharex = 'col', dpi = 300)\n",
    "\n",
    "for y, var in enumerate(measures):\n",
    "    var_name = measure_dict_units[var]\n",
    "    ax = axes[y]\n",
    "\n",
    "    data = df_ephys.loc[var].reindex(new_index)\n",
    "    error = df_ephys_sem_new.loc[var].reindex(new_index).astype('float')\n",
    "    ind = np.arange(len(data))\n",
    "    graph = ax.bar(ind, data, yerr = error, color = pal_f2)\n",
    "\n",
    "    ax.set_ylabel(var_name)\n",
    "    ax.set_xticks(ind)\n",
    "    ax.set_xticklabels(data.index, rotation = 90)\n",
    "    ax.spines['right'].set_visible(False)\n",
    "    ax.spines['top'].set_visible(False)\n",
    "    ax.tick_params(axis = 'x', length=0, width=0)\n",
    "    \n",
    "plt.tight_layout()\n",
    "plt.savefig('/Users/Claire/Dropbox/Allen_Institute_Stuff/Ephys_GE/Figures/FigS1_draft4.tiff', bbox_inches = 'tight', dpi = 300)    \n",
    "plt.clf()\n",
    "# plt.show()"
   ]
  },
  {
   "cell_type": "markdown",
   "metadata": {},
   "source": [
    "# Fig 2, Table S2\n",
    "# Number and type of genes revealed by P~G vs P~G|C"
   ]
  },
  {
   "cell_type": "code",
   "execution_count": 36,
   "metadata": {
    "collapsed": true
   },
   "outputs": [],
   "source": [
    "counts_positive = []\n",
    "counts_negative = []\n",
    "counts_conditional = []\n",
    "counts_interaction = []\n",
    "\n",
    "for measure in measures_all:\n",
    "    res_measure = res[res.property == measure]\n",
    "    for direction in ['positive', 'negative']:\n",
    "        res_dir = res_measure[res_measure['beta_gene|class'] > 0.0 if direction == 'positive' else res_measure['beta_gene|class'] < 0.0]\n",
    "        res_dir_counts = []\n",
    "        conditional_counts = []\n",
    "        int_counts = []\n",
    "        for alpha, alpha2 in zip([0.1, 0.05, 0.01], [0.05, 0.01, 0.0]):\n",
    "            res_dir_counts.append(np.sum((res_dir['FDR_gene|class_anova'] < alpha) & (res_dir['FDR_gene|class_anova'] > alpha2)))\n",
    "            conditional_counts.append(np.sum((res_measure['FDR_gene|class_anova'] < alpha) & (res_measure['FDR_gene|class_anova'] > alpha2)))\n",
    "            int_counts.append(np.sum((res_measure['FDR_int_anova'] < alpha) & (res_measure['FDR_int_anova'] > alpha2)))\n",
    "        if direction == 'positive':\n",
    "            counts_positive.append(res_dir_counts)\n",
    "            counts_conditional.append(conditional_counts)\n",
    "            counts_interaction.append(int_counts)\n",
    "        else:\n",
    "            counts_negative.append(res_dir_counts)\n",
    "\n",
    "res_positive = pd.DataFrame(counts_positive, index = measures_all, columns = [0.1, 0.05, 0.01])\n",
    "res_negative = pd.DataFrame(counts_negative, index = measures_all, columns = [0.1, 0.05, 0.01])\n",
    "res_conditional = pd.DataFrame(counts_conditional, index = measures_all, columns = [0.1, 0.05, 0.01])\n",
    "res_interaction = pd.DataFrame(counts_interaction, index = measures_all, columns = [0.1, 0.05, 0.01])"
   ]
  },
  {
   "cell_type": "code",
   "execution_count": 37,
   "metadata": {
    "collapsed": true
   },
   "outputs": [],
   "source": [
    "measures_nonzero = []\n",
    "for measure in measures_all:\n",
    "    if (res_conditional).sum(axis = 1)[measure] > 0:\n",
    "        measures_nonzero.append(measure)"
   ]
  },
  {
   "cell_type": "code",
   "execution_count": 38,
   "metadata": {},
   "outputs": [
    {
     "data": {
      "text/plain": [
       "E_PC3                                40\n",
       "E_PC2                               567\n",
       "E_PC1                              5354\n",
       "rheo                               4148\n",
       "apthr                                33\n",
       "aphw                               4586\n",
       "apamp                              3496\n",
       "ahpamp                             6602\n",
       "cap                                1793\n",
       "tau                                1468\n",
       "ri                                 3402\n",
       "rmp                                 456\n",
       "sag                                   2\n",
       "avg_isi                            4508\n",
       "isi_cv                                0\n",
       "latency                               0\n",
       "maxfreq                            6366\n",
       "f_i_curve_slope                    7070\n",
       "adratio                            3247\n",
       "M_PC3                                 6\n",
       "M_PC2                                 0\n",
       "M_PC1                                 0\n",
       "average_bifurcation_angle_local       0\n",
       "branchiness                         114\n",
       "max_branch_order                      6\n",
       "total_length                          0\n",
       "total_volume                          0\n",
       "soma_surface                          0\n",
       "dtype: int64"
      ]
     },
     "execution_count": 38,
     "metadata": {},
     "output_type": "execute_result"
    }
   ],
   "source": [
    "res_conditional.sum(axis = 1)"
   ]
  },
  {
   "cell_type": "code",
   "execution_count": 39,
   "metadata": {
    "collapsed": true
   },
   "outputs": [],
   "source": [
    "ds = res_dict\n",
    "corrtypes = ['FDR_gene', 'FDR_gene|class_anova']\n",
    "col_labels = ['Class-independent model', 'Class-conditional model', 'Significant in both models']\n",
    "\n",
    "overlap_df, sig_dd = calculate_overlap(res_dict, corrtypes, col_labels, measure_dict, alpha = 0.1)\n",
    "\n",
    "overlap_df = overlap_df.reindex([measure_dict[m] for m in measures_all][::-1])\n"
   ]
  },
  {
   "cell_type": "code",
   "execution_count": null,
   "metadata": {
    "collapsed": true,
    "scrolled": false
   },
   "outputs": [],
   "source": [
    "# class-driven\n",
    "\n",
    "res[(res.property == 'ahpamp') & \n",
    "    (res['FDR_gene'] < 0.002) & \n",
    "    (res['FDR_gene|class_anova'] > 0.3) & \n",
    "    (res['FDR_int_anova'] > 0.3) & \n",
    "    (np.sign(res.beta_gene) != np.sign(res.slope_exc)) & \n",
    "    (np.sign(res.beta_gene) != np.sign(res.slope_inh)) & \n",
    "    (abs(res.beta_gene) > 0.1)]"
   ]
  },
  {
   "cell_type": "code",
   "execution_count": null,
   "metadata": {
    "collapsed": true
   },
   "outputs": [],
   "source": [
    "# non-class-driven, obscured, no interaction\n",
    "\n",
    "res[(res.property == 'ahpamp') & \n",
    "    (res['FDR_gene'] > 0.3) & \n",
    "    (res['FDR_gene|class_anova'] < 0.00005) & \n",
    "    (res['FDR_int_anova'] > 0.3)]"
   ]
  },
  {
   "cell_type": "code",
   "execution_count": null,
   "metadata": {
    "collapsed": true
   },
   "outputs": [],
   "source": [
    "# either, no interaction\n",
    "\n",
    "res[(res.property == 'ahpamp') & \n",
    "    (res['FDR_gene'] < 0.0002) & \n",
    "    (res['FDR_gene|class_anova'] < 0.0002) & \n",
    "    (res['FDR_int_anova'] > 0.3) & \n",
    "    (abs(res.beta_gene) > 0.08) & (abs(res['beta_gene|class']) > 0.08)]"
   ]
  },
  {
   "cell_type": "code",
   "execution_count": 44,
   "metadata": {},
   "outputs": [
    {
     "name": "stdout",
     "output_type": "stream",
     "text": [
      "SpearmanrResult(correlation=0.51792839188446416, pvalue=0.0)\n",
      "(247, 5)\n"
     ]
    }
   ],
   "source": [
    "%config InlineBackend.figure_format = 'svg'\n",
    "\n",
    "genes_plot = [67298, 12325, 268880]\n",
    "\n",
    "fig = plt.figure(figsize = (7, 9.6))\n",
    "gs_scatter = GridSpec(3, 1, hspace = 0.5)\n",
    "gs_sig = GridSpec(1, 1)\n",
    "gs_example = GridSpec(1, 1)\n",
    "gs_scatter.update(left = 0.62, bottom = 0.1)\n",
    "gs_sig.update(bottom = 0.42, left = 0.2, right = 0.5)\n",
    "gs_example.update(bottom = 0.1, top = 0.3, left = 0.2, right = 0.5)\n",
    "\n",
    "axes = []\n",
    "\n",
    "# Stacked bar graph for # of significant genes\n",
    "ax = plt.subplot(gs_sig[:, :])\n",
    "\n",
    "pal = sns.dark_palette(color_par, 4, reverse = True)[:-1]\n",
    "\n",
    "width = 0.8\n",
    "ind = np.arange(len(measures_nonzero))\n",
    "df_dir = res_conditional.reindex(measures_nonzero)\n",
    "b1 = ax.barh(ind + (width), df_dir[0.1], left = df_dir[0.01] + df_dir[0.05], height = width, \n",
    "             color = pal[0], edgecolor = 'lightgrey', label = 'FDR = 0.1', log = True)\n",
    "b2 = ax.barh(ind + (width), df_dir[0.05], left = df_dir[0.01], height = width, \n",
    "             color = pal[1], edgecolor = 'lightgrey', label = 'FDR = 0.05', log = True)\n",
    "b3 = ax.barh(ind + (width), df_dir[0.01], height = width, \n",
    "             color = pal[2], edgecolor = 'lightgrey', label = 'FDR = 0.01', log = True)\n",
    "ax.set_yticks(ind + width)\n",
    "ax.set_yticklabels([measure_dict[m] for m in measures_nonzero], rotation = 0, ha = 'right')\n",
    "leg = ax.legend(loc = 'upper left', bbox_to_anchor = (0, 0))\n",
    "ax_leg = ax.add_artist(leg)\n",
    "ax.set_xlabel('Gene count\\n(class-conditional)')\n",
    "ax.spines['right'].set_visible(False)\n",
    "ax.spines['bottom'].set_visible(False) \n",
    "ax.tick_params(axis = 'y', length=0, width=0)\n",
    "ax.xaxis.tick_top()\n",
    "ax.xaxis.set_label_position('top') \n",
    "axes.append(ax)\n",
    "\n",
    "# Venn diagrams\n",
    "v_list = []\n",
    "for ypos, measure in zip([float(n) / (len(measures_nonzero) + 1.8) + 0.005 for n in ind], measures_nonzero):\n",
    "    size = 0.12\n",
    "    xpos = -0.95\n",
    "    ip = InsetPosition(ax, [xpos, ypos, size, size])\n",
    "\n",
    "    ins_ax = plt.axes([xpos, ypos, size, size])\n",
    "    ins_ax.set_axes_locator(ip)\n",
    "\n",
    "    set1 = set(sig_dd[measure]['FDR_gene'])\n",
    "    set2 = set(sig_dd[measure]['FDR_gene|class_anova'])\n",
    "    v = venn2([set1, set2], set_labels = ('', ''), set_colors = (color_reg, color_par), alpha = 1, ax = ins_ax)\n",
    "    venn2_circles([set1, set2], ax = ins_ax, linewidth = 1)\n",
    "    if v.get_patch_by_id('11') != None:\n",
    "        v.get_patch_by_id('11').set_color(color_shared)\n",
    "    for text in v.subset_labels:\n",
    "        if text is not None:\n",
    "            text.set_text('') \n",
    "\n",
    "h = []\n",
    "for i in ['10', '01', '11']:\n",
    "    h.append(v.get_patch_by_id(i))\n",
    "    \n",
    "ax.legend(handles = h, labels = ['Class-independent model', 'Class-conditional model', 'Both models'], \n",
    "          loc = 'upper left', bbox_to_anchor = (xpos, 0))\n",
    "\n",
    "\n",
    "# Beta vs beta\n",
    "measure = 'ahpamp'\n",
    "ax = plt.subplot(gs_example[0, 0])\n",
    "axes.append(ax)\n",
    "res_subset = res[res.property == measure]\n",
    "x = res_subset['beta_gene']\n",
    "y = res_subset['beta_gene|class']\n",
    "z = res_subset['FDR_gene|class_anova']\n",
    "z2 = res_subset['FDR_gene']\n",
    "xy_id = res_subset['gene_entrez_id']\n",
    "xy = pd.DataFrame([xy_id, x, y, z, z2], index = ['id', 'x', 'y', 'z', 'z2']).T\n",
    "xy.dropna(inplace = True)\n",
    "r = stats.spearmanr(xy.x, xy.y)\n",
    "xy_new = xy[[n not in genes_plot for n in xy.id]].sample(frac = 0.02)\n",
    "xy = pd.concat([xy_new, xy[[n in genes_plot for n in xy.id]]])\n",
    "print(r)\n",
    "print(xy.shape)\n",
    "xy0 = xy[(xy.z < 0.1) & (xy.z2 < 0.1)]\n",
    "xy1 = xy[(xy.z < 0.1) & (xy.z2 >= 0.1)]\n",
    "xy2 = xy[(xy.z >= 0.1) & (xy.z2 < 0.1)]\n",
    "xy3 = xy[(xy.z >= 0.1) & (xy.z2 >= 0.1)]\n",
    "xy_examples = xy[[n in genes_plot for n in xy.id]]\n",
    "s3 = ax.scatter(xy3.x, xy3.y, color = 'grey', s = 20, marker = 'o', alpha = 0.5)\n",
    "s2 = ax.scatter(xy2.x, xy2.y, color = color_reg, s = 20, marker = '^', alpha = 0.5)\n",
    "s1 = ax.scatter(xy1.x, xy1.y, color = color_par, s = 20, marker = 's', alpha = 0.5)\n",
    "s0 = ax.scatter(xy0.x, xy0.y, color = color_shared, s = 20, marker = 'D', alpha = 0.5)\n",
    "for marker, g in zip(['s', '^', 'D'], xy_examples.index):\n",
    "    ax.scatter(xy_examples.loc[g, 'x'], xy_examples.loc[g, 'y'], s = 20, marker = marker, \n",
    "               facecolors = 'none', edgecolors = 'black', linewidths = 1)\n",
    "xlim = ax.get_xlim()\n",
    "ylim = ax.get_ylim()\n",
    "ax.plot(xlim, xlim, '--', color = 'grey')\n",
    "ax.plot([0, 0], ylim, 'k-')\n",
    "ax.plot(xlim, [0, 0], 'k-')\n",
    "ax.set_xlim(xlim)\n",
    "ax.set_ylim(ylim)\n",
    "\n",
    "ax.legend([s2, s1, s0, s3], ['FDR = 0.1 class-\\nindependent only', 'FDR = 0.1 class-\\nconditional only', \n",
    "                                      'FDR = 0.1 both models', 'n.s.'], \n",
    "          bbox_to_anchor = (-0.3, 1), loc = 'upper right', frameon = True)\n",
    "\n",
    "\n",
    "# ax.annotate('r = ' + str(r[0].round(2)), (0.05, 1), xycoords = 'axes fraction', ha = 'left', va = 'top')\n",
    "\n",
    "ax.set_xlabel('slope (class-independent)')\n",
    "ax.set_ylabel('slope (class-conditional)')\n",
    "ax.set_title(measure_dict[measure])\n",
    "ax.spines['right'].set_visible(False)\n",
    "ax.spines['top'].set_visible(False)\n",
    "\n",
    "# Example genes\n",
    "for gene, title, ypos in zip(genes_plot, ['Class-driven', 'Non-class-driven', 'Non-class-driven;\\nsig. in both models'], range(3)):\n",
    "    pt = res[(res.gene_entrez_id == gene) & (res.property == measure)]\n",
    "    xy = (pt['beta_gene'].values[0], pt['beta_gene|class'].values[0])\n",
    "    if ypos == 1:\n",
    "        xytext = (pt['beta_gene'].values[0] + 0.05, pt['beta_gene|class'].values[0] + 0.05)\n",
    "    else:\n",
    "        xytext = (pt['beta_gene'].values[0] + 0.05, pt['beta_gene|class'].values[0] - 0.05)\n",
    "    axes[1].annotate(pt['gene_symbol'].values[0], xy, xytext = xytext, \n",
    "                     arrowprops=dict(facecolor='black', width = 1, headwidth = 1, shrink=0.05))\n",
    "    ax = plt.subplot(gs_scatter[ypos, 0])\n",
    "    make_scatter(gene, measure, ax, df_seq, df_ephys, line_labels, unit = 'CPM', s = 50)\n",
    "    ax.set_title(title)\n",
    "    axes.append(ax)  \n",
    "    \n",
    "i = ax.scatter([], [], color = color_inh, marker = 'o', s = 50, alpha = 0.6)\n",
    "e = ax.scatter([], [], color = color_exc, marker = 'D', s = 50, alpha = 0.6)\n",
    "axes[2].legend([i, e], ['Inhibitory', 'Excitatory'], bbox_to_anchor=(1, 1.1), loc= 'lower right', frameon = True)\n",
    "\n",
    "for letter, ax in zip(['A', 'B', 'C', 'D', 'E'], axes):\n",
    "    ax.annotate(letter, (-0.1, 1), ha = 'right', va = 'bottom', xycoords = 'axes fraction', weight = 'bold')\n",
    "\n",
    "    \n",
    "plt.savefig('/Users/Claire/Dropbox/Allen_Institute_Stuff/Ephys_GE/Figures/Fig2_draft16.tiff', \n",
    "            bbox_inches = 'tight', dpi = 300)     \n",
    "plt.clf()\n",
    "# plt.show()"
   ]
  },
  {
   "cell_type": "code",
   "execution_count": 47,
   "metadata": {},
   "outputs": [
    {
     "data": {
      "text/plain": [
       "2.2250738585072014e-308"
      ]
     },
     "execution_count": 47,
     "metadata": {},
     "output_type": "execute_result"
    }
   ],
   "source": [
    "# How small is a 0 pvalue?\n",
    "\n",
    "np.finfo('float64').tiny"
   ]
  },
  {
   "cell_type": "code",
   "execution_count": 50,
   "metadata": {
    "collapsed": true
   },
   "outputs": [],
   "source": [
    "overlap_df.to_csv('/Users/Claire/Dropbox/Allen_Institute_Stuff/Ephys_GE/Tables/TableS2_draft2.csv')"
   ]
  },
  {
   "cell_type": "markdown",
   "metadata": {},
   "source": [
    "# Fig S2 - PCA"
   ]
  },
  {
   "cell_type": "code",
   "execution_count": 48,
   "metadata": {
    "collapsed": true,
    "scrolled": true
   },
   "outputs": [],
   "source": [
    "%config InlineBackend.figure_format = 'png'\n",
    "plt.style.use('seaborn-ticks')\n",
    "\n",
    "alpha = 0.1\n",
    "condition = 'FDR_gene|class_anova'\n",
    "\n",
    "# constructed manually, based on what I get using sns.clustermap on both corr and overlap-based heatmaps\n",
    "order = ['apthr', 'latency', 'sag', 'cap', 'rmp', 'rheo', 'avg_isi', 'ri', 'isi_cv', \n",
    "         'apamp', 'adratio', 'ahpamp', 'f_i_curve_slope', 'maxfreq', 'tau', 'aphw', 'Class']\n",
    "\n",
    "fig = plt.figure(figsize = (6, 9.5), dpi = 100)\n",
    "gs = GridSpec(4, 4, width_ratios = [1.5, 1, 1.5, 1], height_ratios = [1, 1, 0.6, 1], wspace = 1, hspace = 0.5)\n",
    "df1 = df_ephys.copy().loc[measures_ephys]\n",
    "df2 = df_morph.copy().loc[['average_bifurcation_angle_local',\n",
    "                             'branchiness',\n",
    "                             'max_branch_order',\n",
    "                             'total_length',\n",
    "                             'total_volume',\n",
    "                             'soma_surface']]\n",
    "\n",
    "axes = []\n",
    "\n",
    "for df_pca, df, var, features, labels, y, components in zip([df_ephys_pca, df_morph_pca], [df1, df2],\n",
    "                                                                ['Electrophysiology', 'Morphology'],\n",
    "                                                                [measures_all[3:19], measures_all[22:]], \n",
    "                                                                [line_labels, line_labels_morph], [0, 2],  \n",
    "                                                                [components_ephys, components_morph]):\n",
    "\n",
    "    df.loc['Class'] = labels\n",
    "    df_pca = df_pca.copy().reindex([var[0] + '_PC1', var[0] + '_PC2', var[0] + '_PC3'])\n",
    "\n",
    "    corr_table = []\n",
    "    for i in df.index:\n",
    "        corr_list = []\n",
    "        for j in df_pca.index:\n",
    "            corr_list.append(stats.spearmanr(df.loc[i], df_pca.loc[j])[0])\n",
    "        corr_table.append(corr_list)\n",
    "    corr_table = pd.DataFrame(corr_table, columns = df_pca.index, index = df.index)\n",
    "#     corr_table = corr_table.reindex(order)\n",
    "\n",
    "    overlap_table = []\n",
    "    for i in df.index:\n",
    "        overlap_list = []\n",
    "        qvals = res[res.property == i]\n",
    "        genes_sig = set(qvals[qvals[condition] < alpha]['gene_entrez_id'].values)\n",
    "        for j in df_pca.index:\n",
    "            qvals_pc = res[res.property == j]\n",
    "            genes_sig_pc = set(qvals_pc[qvals_pc[condition] < alpha]['gene_entrez_id'].values)\n",
    "            if len(genes_sig) > 0:\n",
    "                overlap_list.append(float(len(genes_sig.intersection(genes_sig_pc))) / float(len(genes_sig)))\n",
    "            else:\n",
    "                overlap_list.append(np.nan)\n",
    "        overlap_table.append(overlap_list)\n",
    "    overlap_table = pd.DataFrame(overlap_table, columns = df_pca.index, index = df.index)\n",
    "#     overlap_table = overlap_table.reindex(order)\n",
    "    overlap_table.dropna(inplace = True)\n",
    "    overlap_table = overlap_table * 100\n",
    "\n",
    "    for x, table, label, cmap in zip([1, 3], [corr_table, overlap_table], ['Spearman Correlation', 'Percent overlap'], \n",
    "                                            ['BrBG', 'viridis']):\n",
    "        ax = plt.subplot(gs[y, x])\n",
    "        axes.append(ax)\n",
    "        h = plt.imshow(table, aspect = 'auto', cmap = cmap)\n",
    "        ax.grid('off')\n",
    "        ax.set_xticks(range(len(table.columns)))\n",
    "        ax.set_xticklabels(table.columns, rotation = 90)\n",
    "        ax.set_yticks(range(len(table.index)))\n",
    "        ax.set_yticklabels([m if m == 'Class' else measure_dict[m] for m in table.index])\n",
    "        c = plt.colorbar(h)\n",
    "        c.set_label(label)\n",
    "\n",
    "    ax = plt.subplot(gs[y + 1, :])\n",
    "    axes.append(ax)\n",
    "    make_scatter(var[0] + '_PC1', var[0] + '_PC2', ax, df_pca, df_pca, labels,  \n",
    "                 x_label = var + ' PC1', y_label = var + ' PC2', regression_lines = False, alpha = 0.3)\n",
    "    if var == 'Electrophysiology':\n",
    "        ax.set_xlim(ax.get_xlim()[0] * 1.8, ax.get_xlim()[1])\n",
    "    for measure in features:\n",
    "        dx = components.loc['PC1', measure] * scale_list.loc[('ephys' if var == 'Electrophysiology' else 'morph') + '_PC1'].values[0]\n",
    "        dy = components.loc['PC2', measure] * scale_list.loc[('ephys' if var == 'Electrophysiology' else 'morph') + '_PC2'].values[0]\n",
    "        plt.arrow(0, 0, dx, dy)\n",
    "        # adjust text position to get rid of overlap\n",
    "        if measure in ['tau', 'maxfreq']:\n",
    "            dy -= 0.3\n",
    "        if measure == 'ahpamp':\n",
    "            dy -= 0.5\n",
    "        if measure == 'cap':\n",
    "            dy += 0.4\n",
    "        plt.text(dx * 1.1, dy * 1.1, measure_dict[measure], fontsize = 8, ha = 'right' if dx < 0 else 'left')\n",
    "\n",
    "i = ax.scatter([], [], color = color_inh, marker = 'o', s = 30, alpha = 0.3)\n",
    "e = ax.scatter([], [], color = color_exc, marker = 'D', s = 30, alpha = 0.3)\n",
    "axes[2].legend([i, e], ['Inhibitory', 'Excitatory'], bbox_to_anchor=(0, 1), loc= 'lower left', frameon = True)\n",
    "    \n",
    "    \n",
    "for letter, ax in zip(['A', 'B', 'C', 'D', 'E', 'F'], axes):\n",
    "    ax.annotate(letter, (-0.1, 1), ha = 'right', va = 'bottom', xycoords = 'axes fraction', weight = 'bold')\n",
    "    \n",
    "# plt.show()\n",
    "plt.savefig('/Users/Claire/Dropbox/Allen_Institute_Stuff/Ephys_GE/Figures/FigS2_draft2.tiff', \n",
    "            bbox_inches = 'tight', dpi = 300)\n"
   ]
  },
  {
   "cell_type": "code",
   "execution_count": 52,
   "metadata": {
    "scrolled": true
   },
   "outputs": [
    {
     "data": {
      "image/png": "[encoded data removed]",
      "text/plain": [
       "<matplotlib.figure.Figure at 0x132302050>"
      ]
     },
     "metadata": {},
     "output_type": "display_data"
    }
   ],
   "source": [
    "# How much do the PC1 genes overlap with the genes associated with ephys properties?\n",
    "\n",
    "alpha = 0.1\n",
    "condition = 'FDR_gene|class_anova'\n",
    "fig, ax = plt.subplots(3, 16, figsize = (20, 6))\n",
    "\n",
    "for y, pc in enumerate(['E_PC1', 'E_PC2', 'E_PC3']):\n",
    "    qvals_pc = res[res.property == pc]\n",
    "    genes_sig_pc = set(qvals_pc[qvals_pc[condition] < alpha]['gene_entrez_id'].values)\n",
    "    for x, measure in enumerate(['rheo', 'apthr', 'aphw', 'apamp', 'ahpamp', 'cap', 'tau', \n",
    "                                 'ri', 'rmp', 'sag', 'avg_isi', 'isi_cv', 'latency', \n",
    "                                 'maxfreq', 'f_i_curve_slope', 'adratio']):        \n",
    "        qvals = res[res.property == measure]\n",
    "        genes_sig = set(qvals[qvals[condition] < alpha]['gene_entrez_id'].values)\n",
    "        \n",
    "        venn = venn2([genes_sig_pc, genes_sig], set_labels = None, ax = ax[y, x])\n",
    "        if pc == 'E_PC1':\n",
    "            ax[y, x].set_title(measure, loc = 'center')\n",
    "\n",
    "plt.show()"
   ]
  },
  {
   "cell_type": "code",
   "execution_count": 53,
   "metadata": {},
   "outputs": [
    {
     "data": {
      "image/png": "[encoded data removed]",
      "text/plain": [
       "<matplotlib.figure.Figure at 0x132302290>"
      ]
     },
     "metadata": {},
     "output_type": "display_data"
    }
   ],
   "source": [
    "alpha = 0.1\n",
    "condition = 'FDR_gene|class_anova'\n",
    "fig, ax = plt.subplots(3, 3, figsize = (6, 6))\n",
    "\n",
    "for y, pc in enumerate(['E_PC1', 'E_PC2', 'E_PC3']):\n",
    "    qvals_pc = res[res.property == pc]\n",
    "    genes_sig_pc = set(qvals_pc[qvals_pc[condition] < alpha]['gene_entrez_id'].values)\n",
    "    for x, measure in enumerate(['E_PC1', 'E_PC2', 'E_PC3']):        \n",
    "        qvals = res[res.property == measure]\n",
    "        genes_sig = set(qvals[qvals[condition] < alpha]['gene_entrez_id'].values)\n",
    "        \n",
    "        venn = venn2([genes_sig_pc, genes_sig], set_labels = None, ax = ax[y, x])\n",
    "        if pc == 'E_PC1':\n",
    "            ax[y, x].set_title(measure, loc = 'center')\n",
    "\n",
    "plt.show()"
   ]
  },
  {
   "cell_type": "code",
   "execution_count": 54,
   "metadata": {},
   "outputs": [
    {
     "data": {
      "image/png": "[encoded data removed]",
      "text/plain": [
       "<matplotlib.figure.Figure at 0x118e80090>"
      ]
     },
     "metadata": {},
     "output_type": "display_data"
    },
    {
     "data": {
      "image/png": "[encoded data removed]",
      "text/plain": [
       "<matplotlib.figure.Figure at 0x125d4cfd0>"
      ]
     },
     "metadata": {},
     "output_type": "display_data"
    },
    {
     "data": {
      "image/png": "[encoded data removed]",
      "text/plain": [
       "<matplotlib.figure.Figure at 0x125502510>"
      ]
     },
     "metadata": {},
     "output_type": "display_data"
    },
    {
     "data": {
      "image/png": "[encoded data removed]",
      "text/plain": [
       "<matplotlib.figure.Figure at 0x126340a50>"
      ]
     },
     "metadata": {},
     "output_type": "display_data"
    },
    {
     "data": {
      "image/png": "[encoded data removed]",
      "text/plain": [
       "<matplotlib.figure.Figure at 0x1263592d0>"
      ]
     },
     "metadata": {},
     "output_type": "display_data"
    },
    {
     "data": {
      "image/png": "[encoded data removed]",
      "text/plain": [
       "<matplotlib.figure.Figure at 0x1264c6d10>"
      ]
     },
     "metadata": {},
     "output_type": "display_data"
    }
   ],
   "source": [
    "# Genes associated with the latent factor from Harris et al. 2018 versus E_PC1\n",
    "\n",
    "genes_LF = ['Atp1b1', 'Kcnc1', 'Gad1', 'Pvalb', '6330403K07Rik', 'Cnr1']\n",
    "genes_LF = [11931, 16502, 14415, 19293, 103712, 12801]\n",
    "\n",
    "for gene in genes_LF:\n",
    "    fig, ax = plt.subplots(figsize = (2, 2))\n",
    "    make_scatter(gene, 'E_PC1', ax, df_seq, df_ephys, line_labels)\n",
    "    plt.show()"
   ]
  },
  {
   "cell_type": "code",
   "execution_count": 55,
   "metadata": {
    "collapsed": true
   },
   "outputs": [],
   "source": [
    "# For which features is there a significant effect of class on feature?\n",
    "\n",
    "res_class = pd.read_csv('/Users/Claire/Dropbox/Allen_Institute_Stuff/Ephys_GE/Analysis/2019-03-27 Ephys/results_table_class.csv', index_col = 0)\n",
    "res_class_morph = pd.read_csv('/Users/Claire/Dropbox/Allen_Institute_Stuff/Ephys_GE/Analysis/2019-03-27 Morphology/results_table_class.csv', index_col = 0)\n",
    "\n",
    "res_class['property'] = ['E_' + n if n.startswith('PC') else n for n in res_class['property']]\n",
    "res_class_morph['property'] = ['M_' + n if n.startswith('PC') else n for n in res_class_morph['property']]\n",
    "\n",
    "res_class = pd.concat([res_class, res_class_morph])"
   ]
  },
  {
   "cell_type": "code",
   "execution_count": 56,
   "metadata": {
    "collapsed": true
   },
   "outputs": [],
   "source": [
    "res_class['Sig'] = [n < 0.05 for n in res_class.pval_class]"
   ]
  },
  {
   "cell_type": "code",
   "execution_count": 57,
   "metadata": {},
   "outputs": [
    {
     "data": {
      "text/html": [
       "<div>\n",
       "<style scoped>\n",
       "    .dataframe tbody tr th:only-of-type {\n",
       "        vertical-align: middle;\n",
       "    }\n",
       "\n",
       "    .dataframe tbody tr th {\n",
       "        vertical-align: top;\n",
       "    }\n",
       "\n",
       "    .dataframe thead th {\n",
       "        text-align: right;\n",
       "    }\n",
       "</style>\n",
       "<table border=\"1\" class=\"dataframe\">\n",
       "  <thead>\n",
       "    <tr style=\"text-align: right;\">\n",
       "      <th></th>\n",
       "      <th>property</th>\n",
       "      <th>beta_class</th>\n",
       "      <th>pval_class</th>\n",
       "      <th>Sig</th>\n",
       "    </tr>\n",
       "  </thead>\n",
       "  <tbody>\n",
       "    <tr>\n",
       "      <th>1</th>\n",
       "      <td>apthr</td>\n",
       "      <td>-1.099447</td>\n",
       "      <td>0.097739</td>\n",
       "      <td>False</td>\n",
       "    </tr>\n",
       "    <tr>\n",
       "      <th>4</th>\n",
       "      <td>ri_log10</td>\n",
       "      <td>0.045119</td>\n",
       "      <td>0.222223</td>\n",
       "      <td>False</td>\n",
       "    </tr>\n",
       "    <tr>\n",
       "      <th>7</th>\n",
       "      <td>rheo_log10</td>\n",
       "      <td>0.025550</td>\n",
       "      <td>0.699437</td>\n",
       "      <td>False</td>\n",
       "    </tr>\n",
       "    <tr>\n",
       "      <th>15</th>\n",
       "      <td>sag_log10</td>\n",
       "      <td>0.001145</td>\n",
       "      <td>0.985293</td>\n",
       "      <td>False</td>\n",
       "    </tr>\n",
       "    <tr>\n",
       "      <th>18</th>\n",
       "      <td>E_PC3</td>\n",
       "      <td>0.726728</td>\n",
       "      <td>0.064927</td>\n",
       "      <td>False</td>\n",
       "    </tr>\n",
       "    <tr>\n",
       "      <th>0</th>\n",
       "      <td>average_bifurcation_angle_local</td>\n",
       "      <td>0.963138</td>\n",
       "      <td>0.509815</td>\n",
       "      <td>False</td>\n",
       "    </tr>\n",
       "    <tr>\n",
       "      <th>1</th>\n",
       "      <td>soma_surface</td>\n",
       "      <td>-32.783324</td>\n",
       "      <td>0.316059</td>\n",
       "      <td>False</td>\n",
       "    </tr>\n",
       "    <tr>\n",
       "      <th>2</th>\n",
       "      <td>branchiness_log10</td>\n",
       "      <td>0.040693</td>\n",
       "      <td>0.156173</td>\n",
       "      <td>False</td>\n",
       "    </tr>\n",
       "    <tr>\n",
       "      <th>7</th>\n",
       "      <td>M_PC2</td>\n",
       "      <td>-0.181710</td>\n",
       "      <td>0.638329</td>\n",
       "      <td>False</td>\n",
       "    </tr>\n",
       "    <tr>\n",
       "      <th>8</th>\n",
       "      <td>M_PC3</td>\n",
       "      <td>0.321948</td>\n",
       "      <td>0.377581</td>\n",
       "      <td>False</td>\n",
       "    </tr>\n",
       "  </tbody>\n",
       "</table>\n",
       "</div>"
      ],
      "text/plain": [
       "                           property  beta_class  pval_class    Sig\n",
       "1                             apthr   -1.099447    0.097739  False\n",
       "4                          ri_log10    0.045119    0.222223  False\n",
       "7                        rheo_log10    0.025550    0.699437  False\n",
       "15                        sag_log10    0.001145    0.985293  False\n",
       "18                            E_PC3    0.726728    0.064927  False\n",
       "0   average_bifurcation_angle_local    0.963138    0.509815  False\n",
       "1                      soma_surface  -32.783324    0.316059  False\n",
       "2                 branchiness_log10    0.040693    0.156173  False\n",
       "7                             M_PC2   -0.181710    0.638329  False\n",
       "8                             M_PC3    0.321948    0.377581  False"
      ]
     },
     "execution_count": 57,
     "metadata": {},
     "output_type": "execute_result"
    }
   ],
   "source": [
    "res_class[res_class.Sig == False]"
   ]
  },
  {
   "cell_type": "markdown",
   "metadata": {},
   "source": [
    "# Fig 3, Table S3 - Interactions"
   ]
  },
  {
   "cell_type": "code",
   "execution_count": 58,
   "metadata": {
    "collapsed": true
   },
   "outputs": [],
   "source": [
    "measures_rev = list(measures_all)\n",
    "measures_rev.reverse()\n",
    "df_exc_inh = pd.DataFrame(index = measures_rev, columns = ['r_inh_exc', 'r_inh_beta', 'r_exc_beta'])\n",
    "\n",
    "x = 'slope_inh'\n",
    "y = 'slope_exc'\n",
    "z = 'beta_gene|class'\n",
    "\n",
    "for measure in measures_rev:\n",
    "    subset = res[res.property == measure]\n",
    "\n",
    "    r_inh_exc = stats.spearmanr(subset[x], subset[y], nan_policy = 'omit')[0]\n",
    "    r_inh = stats.spearmanr(subset[x], subset[z], nan_policy = 'omit')[0]\n",
    "    r_exc = stats.spearmanr(subset[y], subset[z], nan_policy = 'omit')[0]\n",
    "    df_exc_inh.loc[measure, 'r_inh_exc'] = r_inh_exc   \n",
    "    df_exc_inh.loc[measure, 'r_inh_beta'] = r_inh\n",
    "    df_exc_inh.loc[measure, 'r_exc_beta'] = r_exc\n",
    "\n",
    "df_exc_inh = df_exc_inh.astype('float')\n"
   ]
  },
  {
   "cell_type": "code",
   "execution_count": 59,
   "metadata": {
    "collapsed": true
   },
   "outputs": [],
   "source": [
    "measures_nonzero = []\n",
    "for measure in measures_all:\n",
    "    if (res_interaction).sum(axis = 1)[measure] > 0:\n",
    "        measures_nonzero.append(measure)"
   ]
  },
  {
   "cell_type": "code",
   "execution_count": 60,
   "metadata": {
    "scrolled": true
   },
   "outputs": [
    {
     "data": {
      "text/plain": [
       "E_PC3                                 3\n",
       "E_PC2                                 3\n",
       "E_PC1                               560\n",
       "rheo                                 88\n",
       "apthr                                 3\n",
       "aphw                                 93\n",
       "apamp                               660\n",
       "ahpamp                             3017\n",
       "cap                                 155\n",
       "tau                                 132\n",
       "ri                                  101\n",
       "rmp                                   8\n",
       "sag                                1109\n",
       "avg_isi                              62\n",
       "isi_cv                                0\n",
       "latency                               0\n",
       "maxfreq                             341\n",
       "f_i_curve_slope                     464\n",
       "adratio                             321\n",
       "M_PC3                                 0\n",
       "M_PC2                                 0\n",
       "M_PC1                                 0\n",
       "average_bifurcation_angle_local       0\n",
       "branchiness                           7\n",
       "max_branch_order                   1914\n",
       "total_length                          0\n",
       "total_volume                          0\n",
       "soma_surface                          0\n",
       "dtype: int64"
      ]
     },
     "execution_count": 60,
     "metadata": {},
     "output_type": "execute_result"
    }
   ],
   "source": [
    "res_interaction.sum(axis = 1)"
   ]
  },
  {
   "cell_type": "code",
   "execution_count": 61,
   "metadata": {
    "collapsed": true
   },
   "outputs": [],
   "source": [
    "ds = res_dict\n",
    "corrtypes = ['FDR_gene|class_anova', 'FDR_int_anova']\n",
    "col_labels = ['Class-conditional model', 'Interaction model', 'Significant in both models']\n",
    "\n",
    "overlap_df_int, sig_dd_int = calculate_overlap(res_dict, corrtypes, col_labels, measure_dict, alpha = 0.1)\n",
    "\n",
    "overlap_df_int = overlap_df_int.reindex([measure_dict[m] for m in measures_all][::-1])\n"
   ]
  },
  {
   "cell_type": "code",
   "execution_count": 62,
   "metadata": {
    "scrolled": true
   },
   "outputs": [
    {
     "name": "stdout",
     "output_type": "stream",
     "text": [
      "SpearmanrResult(correlation=-0.21166175850534968, pvalue=1.0544841185983415e-122)\n",
      "(242, 5)\n",
      "SpearmanrResult(correlation=-0.10122312692705569, pvalue=3.5507211547182428e-29)\n",
      "(246, 5)\n"
     ]
    }
   ],
   "source": [
    "genes_plot = [18191, 230815]\n",
    "\n",
    "axes = []\n",
    "\n",
    "fig = plt.figure(figsize = (7, 9.5))\n",
    "gs_scatter = GridSpec(1, 2, wspace = 0.25)\n",
    "gs_sig = GridSpec(1, 1)\n",
    "gs_example = GridSpec(2, 1, hspace = 0.5)\n",
    "gs_example.update(left = 0.65, bottom = 0.42)\n",
    "gs_sig.update(bottom = 0.42, left = 0.25, right = 0.55)\n",
    "gs_scatter.update(bottom = 0.1, top = 0.3, left = 0, right = 0.65)\n",
    "\n",
    "\n",
    "ax = plt.subplot(gs_sig[:, :])\n",
    "pal = sns.dark_palette(color_int, 4, reverse = True)[:-1]\n",
    "width = 0.8\n",
    "ind = np.arange(len(measures_nonzero))\n",
    "res_int_nonzero = res_interaction.reindex(measures_nonzero)\n",
    "b1 = ax.barh(ind, res_int_nonzero[0.1], left = res_int_nonzero[0.01] + res_int_nonzero[0.05], height = width, \n",
    "             color = pal[0], edgecolor = 'lightgrey', label = 'FDR = 0.1', log = True)\n",
    "b2 = ax.barh(ind, res_int_nonzero[0.05], left = res_int_nonzero[0.01], height = width, \n",
    "             color = pal[1], edgecolor = 'lightgrey', label = 'FDR = 0.05', log = True)\n",
    "b3 = ax.barh(ind, res_int_nonzero[0.01], height = width, \n",
    "             color = pal[2], edgecolor = 'lightgrey', label = 'FDR = 0.01', log = True)\n",
    "ax.set_yticks(ind)\n",
    "ax.set_yticklabels([measure_dict[m] for m in measures_nonzero], rotation = 0, ha = 'right')\n",
    "leg = ax.legend(loc = 'upper left', bbox_to_anchor = (0, 0))\n",
    "ax_leg = ax.add_artist(leg)\n",
    "ax.set_xlabel('Gene count (interaction)')\n",
    "ax.spines['right'].set_visible(False)\n",
    "ax.spines['bottom'].set_visible(False) \n",
    "ax.tick_params(axis = 'y', length=0, width=0)\n",
    "ax.xaxis.tick_top()\n",
    "ax.xaxis.set_label_position('top') \n",
    "axes.append(ax)\n",
    "\n",
    "# Venn diagrams\n",
    "v_list = []\n",
    "for ypos, measure in zip([float(n) / (len(measures_nonzero) + 1.6) + 0.005 for n in ind], measures_nonzero):\n",
    "    size = 0.12\n",
    "    ip = InsetPosition(ax, [-1, ypos, size, size])\n",
    "\n",
    "    ins_ax = plt.axes([-0.9, ypos, size, size])\n",
    "    ins_ax.set_axes_locator(ip)\n",
    "\n",
    "    set1 = set(sig_dd_int[measure]['FDR_gene|class_anova'])\n",
    "    set2 = set(sig_dd_int[measure]['FDR_int_anova'])\n",
    "    v = venn2([set1, set2], set_labels = ('', ''), set_colors = (color_par, color_int), alpha = 1, ax = ins_ax)\n",
    "    if measure == 'ahpamp':\n",
    "        v_legend = v\n",
    "    if v.get_patch_by_id('11') != None:\n",
    "        v.get_patch_by_id('11').set_color(color_shared)\n",
    "    venn2_circles([set1, set2], ax = ins_ax, linewidth = 1)\n",
    "    for text in v.subset_labels:\n",
    "        if text is not None:\n",
    "            text.set_text('') \n",
    "\n",
    "h = []\n",
    "for i in ['10', '01', '11']:\n",
    "    h.append(v_legend.get_patch_by_id(i))\n",
    "    \n",
    "ax.legend(handles = h, labels = ['Class-conditional model', 'Interaction model', 'Both models'], \n",
    "          loc = 'upper left', bbox_to_anchor = (-1, 0))\n",
    "\n",
    "\n",
    "for ypos, measure in enumerate(['max_branch_order', 'ahpamp']):\n",
    "    ax = plt.subplot(gs_example[ypos, 0])\n",
    "    subset = res[res.property == measure]\n",
    "    x = subset['slope_exc']\n",
    "    y = subset['slope_inh']\n",
    "    z = subset['FDR_int_anova']\n",
    "    z2 = subset['FDR_gene|class_anova']\n",
    "    xy_id = subset['gene_entrez_id']\n",
    "    xy = pd.DataFrame([xy_id, x, y, z, z2], index = ['id', 'x', 'y', 'z', 'z2']).T\n",
    "    xy.dropna(inplace = True)\n",
    "    r = stats.spearmanr(xy.x, xy.y)\n",
    "    print(r)\n",
    "    if measure == 'ahpamp':\n",
    "        xy_new = xy[[n not in genes_plot for n in xy.id]].sample(frac = 0.02)\n",
    "        xy = pd.concat([xy_new, xy[[n in genes_plot for n in xy.id]]])\n",
    "    else:\n",
    "        xy = xy.sample(frac = 0.02)\n",
    "    print(xy.shape)\n",
    "    xlim = (np.percentile(x.dropna(), 1), np.percentile(x.dropna(), 99))\n",
    "    ylim = (np.percentile(y.dropna(), 0.5), np.percentile(y.dropna(), 99.5))\n",
    "    ax.plot(xlim, xlim, '--', color = 'grey', linewidth = 1)\n",
    "    ax.plot(xlim, (-1 * xlim[0], -1 * xlim[1]), '--', color = 'grey', linewidth = 1)\n",
    "    ax.plot([0, 0], ylim, 'k-', linewidth = 1)\n",
    "    ax.plot(xlim, [0, 0], 'k-', linewidth = 1)\n",
    "    ax.set_xlim(xlim)\n",
    "    ax.set_ylim(ylim)\n",
    "    xy0 = xy[(xy.z < 0.1) & (xy.z2 < 0.1)]\n",
    "    xy1 = xy[(xy.z < 0.1) & (xy.z2 >= 0.1)]\n",
    "    xy2 = xy[(xy.z >= 0.1) & (xy.z2 < 0.1)]\n",
    "    xy3 = xy[(xy.z >= 0.1) & (xy.z2 >= 0.1)]\n",
    "    s3 = ax.scatter(xy3.x, xy3.y, color = 'grey', marker = 'o', s = 20, alpha = 0.5)\n",
    "    s2 = ax.scatter(xy2.x, xy2.y, color = color_par, marker = 's', s = 20, alpha = 0.5)\n",
    "    s0 = ax.scatter(xy0.x, xy0.y, color = color_shared, marker = 'D', s = 20, alpha = 0.5)\n",
    "    s1 = ax.scatter(xy1.x, xy1.y, color = color_int, marker = 'v', s = 20, alpha = 0.5)\n",
    "    if measure == 'ahpamp':\n",
    "        xy_examples = xy[[n in genes_plot for n in xy.id]]\n",
    "        for marker, g in zip(['D', 'v'], xy_examples.index):\n",
    "            ax.scatter(xy_examples.loc[g, 'x'], xy_examples.loc[g, 'y'], s = 20, marker = marker, \n",
    "                       facecolors = 'none', edgecolors = 'black', linewidths = 1)\n",
    "    ax.set_xlabel('Slope Excitatory')\n",
    "    ax.set_ylabel('Slope Inhibitory')\n",
    "    ax.set_title(measure_dict[measure])\n",
    "    axes.append(ax)\n",
    "\n",
    "axes[2].legend([s2, s1, s0, s3], ['FDR = 0.1 class-\\nconditional only', 'FDR = 0.1\\ninteraction only', \n",
    "                                       'FDR = 0.1\\nboth models', 'n.s.'], \n",
    "          bbox_to_anchor = (0, -0.3), loc = 'upper left', frameon = True)\n",
    "\n",
    "\n",
    "# ax.annotate('r = ' + str(r[0].round(2)), (0.1, 1), xycoords = 'axes fraction', ha = 'left', va = 'top')\n",
    "\n",
    "for n, gene in enumerate(genes_plot):\n",
    "    pt = res[(res.gene_entrez_id == gene) & (res.property == measure)]\n",
    "    xy_pos = (pt['slope_exc'].values[0], pt['slope_inh'].values[0])\n",
    "    xytext = (pt['slope_exc'].values[0] + 0.1, pt['slope_inh'].values[0] - 0.1)\n",
    "    axes[2].annotate(pt['gene_symbol'].values[0], xy_pos, xytext = xytext, \n",
    "                arrowprops=dict(facecolor='black', width = 1, headwidth = 1, shrink=0.05))\n",
    "    ax = plt.subplot(gs_scatter[0, n])\n",
    "    axes.append(ax)\n",
    "    make_scatter(gene, 'ahpamp', ax, df_seq, df_ephys, line_labels, unit = 'CPM', s = 50)\n",
    "i = ax.scatter([], [], color = color_inh, marker = 'o', s = 50, alpha = 0.6)\n",
    "e = ax.scatter([], [], color = color_exc, marker = 'D', s = 50, alpha = 0.6)\n",
    "axes[4].legend([i, e], ['Inhibitory', 'Excitatory'], bbox_to_anchor=(1, 0), \n",
    "               loc= 'lower left', frameon = True)\n",
    "\n",
    "\n",
    "for letter, ax in zip(['A', 'B', 'C', 'D', 'E'], axes):\n",
    "    ax.annotate(letter, (-0.1, 1.05), ha = 'right', va = 'bottom', xycoords = 'axes fraction', weight = 'bold')\n",
    "for ax in axes[1:]:\n",
    "    ax.spines['right'].set_visible(False)\n",
    "    ax.spines['top'].set_visible(False)     \n",
    "\n",
    "plt.savefig('/Users/Claire/Dropbox/Allen_Institute_Stuff/Ephys_GE/Figures/Fig3_draft14.tiff', \n",
    "            bbox_inches = 'tight', dpi = 300)\n",
    "plt.clf()"
   ]
  },
  {
   "cell_type": "code",
   "execution_count": 64,
   "metadata": {
    "collapsed": true
   },
   "outputs": [],
   "source": [
    "overlap_df_int.to_csv('/Users/Claire/Dropbox/Allen_Institute_Stuff/Ephys_GE/Tables/TableS3_draft2.csv')"
   ]
  },
  {
   "cell_type": "markdown",
   "metadata": {},
   "source": [
    "# Fig S3 - interactions are not only based on expression levels"
   ]
  },
  {
   "cell_type": "code",
   "execution_count": 65,
   "metadata": {
    "collapsed": true
   },
   "outputs": [],
   "source": [
    "# Do interactions have something to do with differences between E and I expression? (question from Paul)\n",
    "\n",
    "measure = 'ahpamp'\n",
    "subset = res[res.property == measure]\n",
    "x = subset['slope_exc']\n",
    "y = subset['slope_inh']\n",
    "fdr = subset['FDR_int_anova']\n",
    "xy_id = subset['gene_entrez_id']\n",
    "mean_dif_list = []\n",
    "for gene in xy_id:\n",
    "    e_mean = df_seq.loc[gene, [n == 1 for n in line_labels]].mean()\n",
    "    i_mean = df_seq.loc[gene, [n == 0 for n in line_labels]].mean()\n",
    "    mean_dif = e_mean - i_mean\n",
    "    mean_dif_list.append(mean_dif)\n",
    "mean_dif_list = pd.Series(mean_dif_list, index = xy_id.index)\n",
    "slope_dif_list = x - y\n",
    "\n",
    "xy = pd.DataFrame([xy_id, mean_dif_list, slope_dif_list, fdr], index = ['id', 'mean_dif', 'slope_dif', 'fdr']).T\n",
    "xy.dropna(inplace = True)\n"
   ]
  },
  {
   "cell_type": "code",
   "execution_count": 68,
   "metadata": {
    "scrolled": true
   },
   "outputs": [
    {
     "name": "stdout",
     "output_type": "stream",
     "text": [
      "ahpamp\n"
     ]
    }
   ],
   "source": [
    "\n",
    "print(measure)\n",
    "%config InlineBackend.figure_format = 'png'\n",
    "\n",
    "plt.figure(figsize = (4, 3))\n",
    "\n",
    "xy_sample = xy.sample(frac = 0.1)\n",
    "\n",
    "xy_ns = xy_sample[xy_sample.fdr >= 0.1]\n",
    "xy_s = xy_sample[xy_sample.fdr < 0.1]\n",
    "\n",
    "s1 = plt.scatter(xy_ns.mean_dif, xy_ns.slope_dif, s = 5, alpha = 0.3, c = 'grey')\n",
    "s2 = plt.scatter(xy_s.mean_dif, xy_s.slope_dif, s = 5, alpha = 1, c = xy_s.fdr, cmap = 'viridis_r')\n",
    "ax = plt.gca()\n",
    "ax.set_xlabel('Expression Excitatory - Expression Inhibitory')\n",
    "ax.set_ylabel('Slope Excitatory - Slope Inhibitory')\n",
    "xlim = np.percentile(xy_sample.mean_dif, 0.5), np.percentile(xy_sample.mean_dif, 99.5)\n",
    "ylim = np.percentile(xy_sample.slope_dif, 0.5), np.percentile(xy_sample.slope_dif, 99.5)\n",
    "ax.plot([0, 0], ylim, 'k-', linewidth = 1)\n",
    "ax.plot(xlim, [0, 0], 'k-', linewidth = 1)\n",
    "ax.set_xlim(xlim)\n",
    "ax.set_ylim(ylim)\n",
    "r = stats.spearmanr(xy.mean_dif, xy.slope_dif)\n",
    "ax.annotate('r=' + str(round(r[0], 3)), (0.95, 0.95), ha = 'right', xycoords = 'axes fraction')\n",
    "c = plt.colorbar(s2)\n",
    "c.set_label('q interaction')\n",
    "ax.spines['right'].set_visible(False)\n",
    "ax.spines['top'].set_visible(False)\n",
    "\n",
    "plt.savefig('/Users/Claire/Dropbox/Allen_Institute_Stuff/Ephys_GE/Figures/FigS3_draft2.tiff', \n",
    "            bbox_inches = 'tight', dpi = 300)\n",
    "plt.clf()"
   ]
  },
  {
   "cell_type": "code",
   "execution_count": null,
   "metadata": {
    "collapsed": true
   },
   "outputs": [],
   "source": [
    "# all measures, correlation values\n",
    "\n",
    "for measure in measures_all:\n",
    "    subset = res[res.property == measure]\n",
    "    x = subset['slope_exc']\n",
    "    y = subset['slope_inh']\n",
    "    fdr = subset['FDR_int_anova']\n",
    "    xy_id = subset['gene_entrez_id']\n",
    "    mean_dif_list = []\n",
    "    for gene in xy_id:\n",
    "        e_mean = df_seq.loc[gene, [n == 1 for n in line_labels]].mean()\n",
    "        i_mean = df_seq.loc[gene, [n == 0 for n in line_labels]].mean()\n",
    "        mean_dif = e_mean - i_mean\n",
    "        mean_dif_list.append(mean_dif)\n",
    "    mean_dif_list = pd.Series(mean_dif_list, index = xy_id.index)\n",
    "    slope_dif_list = x - y\n",
    "\n",
    "    xy = pd.DataFrame([xy_id, mean_dif_list, slope_dif_list, fdr], index = ['id', 'mean_dif', 'slope_dif', 'fdr']).T\n",
    "    xy.dropna(inplace = True)\n",
    "    r = stats.spearmanr(xy.mean_dif, xy.slope_dif)\n",
    "    print(measure_dict[measure], round(r[0], 3))\n",
    "\n"
   ]
  },
  {
   "cell_type": "code",
   "execution_count": 71,
   "metadata": {},
   "outputs": [
    {
     "name": "stdout",
     "output_type": "stream",
     "text": [
      "SpearmanrResult(correlation=-0.21166175850534968, pvalue=1.0544841185983415e-122)\n",
      "(2424, 5)\n"
     ]
    },
    {
     "data": {
      "image/png": "[encoded data removed]",
      "text/plain": [
       "<matplotlib.figure.Figure at 0x11aa533d0>"
      ]
     },
     "metadata": {},
     "output_type": "display_data"
    }
   ],
   "source": [
    "# Why are max branch order and sag different?\n",
    "\n",
    "fig, ax = plt.subplots()\n",
    "measure = 'max_branch_order'\n",
    "subset = res[res.property == measure]\n",
    "x = subset['slope_exc']\n",
    "y = subset['slope_inh']\n",
    "z = subset['FDR_int_anova']\n",
    "z2 = subset['FDR_gene|class_anova']\n",
    "xy_id = subset['gene_entrez_id']\n",
    "xy = pd.DataFrame([xy_id, x, y, z, z2], index = ['id', 'x', 'y', 'z', 'z2']).T\n",
    "xy.dropna(inplace = True)\n",
    "r = stats.spearmanr(xy.x, xy.y)\n",
    "print(r)\n",
    "# xy_new = xy[[n not in [18191, 230815] for n in xy.id]].sample(frac = 0.02)\n",
    "xy_new = xy.sample(frac = 0.2)\n",
    "xy = pd.concat([xy_new, xy[[n in [18191, 230815] for n in xy.id]]])\n",
    "print(xy.shape)\n",
    "ax.set_xlim(np.percentile(x.dropna(), 0.5), np.percentile(x.dropna(), 99.5))\n",
    "ax.set_ylim(np.percentile(y.dropna(), 0.1), np.percentile(y.dropna(), 99.9))\n",
    "xy0 = xy[(xy.z < 0.1) & (xy.z2 < 0.1)]\n",
    "xy1 = xy[(xy.z < 0.1) & (xy.z2 >= 0.1)]\n",
    "xy2 = xy[(xy.z >= 0.1) & (xy.z2 < 0.1)]\n",
    "xy3 = xy[(xy.z >= 0.1) & (xy.z2 >= 0.1)]\n",
    "# xy_examples = xy[[n in [18191, 230815] for n in xy.id]]\n",
    "# s3 = ax.scatter(xy3.x, xy3.y, color = 'grey', s = 20, alpha = 0.5)\n",
    "# s2 = ax.scatter(xy2.x, xy2.y, color = color_par, s = 20, alpha = 0.5)\n",
    "# s0 = ax.scatter(xy0.x, xy0.y, color = color_shared, s = 20, alpha = 0.5)\n",
    "s = ax.scatter(xy.x, xy.y, c = xy.z2, cmap = 'viridis', s = 20, alpha = 0.5)\n",
    "s1 = ax.scatter(xy1.x, xy1.y, color = 'black', s = 5, alpha = 1, label = 'Significant interaction')\n",
    "# ax.scatter(xy_examples.x, xy_examples.y, s = 20, facecolors = 'none', edgecolors = 'black')\n",
    "xlim = ax.get_xlim()\n",
    "ylim = ax.get_ylim()\n",
    "ax.plot(xlim, xlim, '--', color = 'grey')\n",
    "ax.plot(xlim, (-1 * xlim[0], -1 * xlim[1]), '--', color = 'grey')\n",
    "ax.plot([0, 0], ylim, 'k-')\n",
    "ax.plot(xlim, [0, 0], 'k-')\n",
    "ax.set_xlim(xlim)\n",
    "ax.set_ylim(ylim)\n",
    "ax.set_xlabel('Slope Excitatory')\n",
    "ax.set_ylabel('Slope Inhibitory')\n",
    "ax.set_title(measure_dict[measure])\n",
    "c = plt.colorbar(s)\n",
    "c.set_label('FDR class-conditional')\n",
    "ax.legend()\n",
    "\n",
    "plt.show()"
   ]
  },
  {
   "cell_type": "markdown",
   "metadata": {},
   "source": [
    "# Fig 4\n",
    "# Consistency between NE_inh & AIBS E~G vs E~G|C"
   ]
  },
  {
   "cell_type": "code",
   "execution_count": 72,
   "metadata": {
    "collapsed": true
   },
   "outputs": [],
   "source": [
    "measure_dict_ne = {'Rin' : 'ri', \n",
    "           'Vrest' : 'rmp', \n",
    "           'APthr' : 'apthr', \n",
    "           'APamp' : 'apamp', \n",
    "           'APhw' : 'aphw', \n",
    "           'Tau' : 'tau', \n",
    "           'AHPamp' : 'ahpamp', \n",
    "           'Rheo' : 'rheo',\n",
    "           'FRmax' : 'maxfreq', \n",
    "           'Cm' : 'cap',\n",
    "           'SFA' : 'adratio'}\n"
   ]
  },
  {
   "cell_type": "code",
   "execution_count": 73,
   "metadata": {
    "collapsed": true
   },
   "outputs": [],
   "source": [
    "def analyze_consistency(res_old, res_new, bootstrap = False, subset = 'inh'):\n",
    "    \n",
    "    # Relabel measures    \n",
    "    measures = measure_dict_ne.values()\n",
    "    res_old.property = [measure_dict_ne[m] for m in res_old.property]\n",
    "    set1 = 'NE'\n",
    "    set2 = 'AIBS'\n",
    "    \n",
    "    # Re-index to include only common genes\n",
    "    genes_intersect = set(res_old.gene).intersection(set(res_new.gene_symbol))\n",
    "    res_old = res_old[[gene in genes_intersect for gene in res_old.gene]]\n",
    "    res_old.index = [res_old.property, res_old.gene]\n",
    "    res_new.index = [res_new.property, res_new.gene_symbol]\n",
    "    res_new = res_new.reindex(res_old.index)\n",
    "    \n",
    "    res_new['E~G'] = res_new.beta_gene\n",
    "    res_new['E~G|C'] = res_new['beta_gene|class']\n",
    "    res_new['i_only'] = res_new.beta_gene_inh_only ###\n",
    "    \n",
    "    # Calculate overall correlations\n",
    "\n",
    "    df_comparison = pd.DataFrame(index = [measure_dict[m] for m in measures], \n",
    "                                 columns = ['r (' + set1 + '_' + subset + ' vs ' + set2 + '_E~G)',\n",
    "                                            'r (' + set1 + '_' + subset + ' vs ' + set2 + '_E~G|C)', \n",
    "                                            'r (' + set1 + '_' + subset + ' vs ' + set2 + '_i_only)'])\n",
    "\n",
    "    if bootstrap:\n",
    "        upper_bootstrap_list_list = []\n",
    "        lower_bootstrap_list_list = []\n",
    "        sig_list_class_cond = []\n",
    "        sig_list_i_only = [] ###\n",
    "\n",
    "    for measure in measures:\n",
    "        if bootstrap:\n",
    "            upper_bootstrap_list = []\n",
    "            lower_bootstrap_list = []\n",
    "            correlations_list = []\n",
    "        for a in ['E~G', 'E~G|C', 'i_only']: ###\n",
    "            x = res_old.loc[measure, :][subset + '_beta']\n",
    "            y = res_new.loc[measure, :][a]\n",
    "            r, p = stats.spearmanr(x, y, nan_policy = 'omit')\n",
    "            df_comparison.loc[measure_dict[measure], 'r (' + set1 + '_' + subset + ' vs ' + set2 + '_' + a + ')'] = round(r, 3)\n",
    "            \n",
    "            # Bootstrap confidence intervals\n",
    "            if bootstrap:\n",
    "                tmp = np.array([x, y]).T\n",
    "                length = tmp.shape[0]\n",
    "                samples = 100\n",
    "                correlations = []\n",
    "\n",
    "                for n in range(samples):\n",
    "                    resampled = tmp[randint(length, size = length)]\n",
    "                    r = stats.spearmanr(resampled[:, 0], resampled[:, 1], nan_policy = 'omit')[0]\n",
    "                    correlations.append(r)\n",
    "                mean = np.mean(correlations)\n",
    "                upper = np.percentile(correlations, 97.5) - mean\n",
    "                lower = mean - np.percentile(correlations, 2.5)\n",
    "                \n",
    "                upper_bootstrap_list.append(upper)\n",
    "                lower_bootstrap_list.append(lower)\n",
    "                correlations_list.append(correlations)\n",
    "        if bootstrap:\n",
    "            upper_bootstrap_list_list.append(upper_bootstrap_list)            \n",
    "            lower_bootstrap_list_list.append(lower_bootstrap_list)\n",
    "            for n, sig_list in enumerate([sig_list_class_cond, sig_list_i_only]):\n",
    "                differences = [a - b for a, b in zip(correlations_list[0], correlations_list[n + 1])]\n",
    "                upper = np.percentile(differences, 97.5)\n",
    "                lower = np.percentile(differences, 2.5)\n",
    "                if np.sign(upper) == np.sign(lower):\n",
    "                    sig_list.append(u'✻')\n",
    "                else:\n",
    "                    sig_list.append('')\n",
    "\n",
    "    if bootstrap:\n",
    "        df_upper = pd.DataFrame(upper_bootstrap_list_list, index = [measure_dict[m] for m in measures], \n",
    "                                columns = [subset + ' vs reg', subset + ' vs par', subset + ' vs i_only'])\n",
    "        df_lower = pd.DataFrame(lower_bootstrap_list_list, index = [measure_dict[m] for m in measures], \n",
    "                                columns = [subset + ' vs reg', subset + ' vs par', subset + ' vs i_only'])\n",
    "        df_sig = pd.DataFrame([sig_list_class_cond, sig_list_i_only], columns = [measure_dict[m] for m in measures], \n",
    "                              index = ['p < 0.05 vs par', 'p < 0.05 vs i_only']).T\n",
    "        return df_comparison, res_old, res_new, df_upper, df_lower, df_sig\n",
    "    else:\n",
    "        return df_comparison, res_old, res_new"
   ]
  },
  {
   "cell_type": "code",
   "execution_count": 74,
   "metadata": {
    "collapsed": true
   },
   "outputs": [],
   "source": [
    "# analysis_folder2 = '/Users/Claire/Dropbox/Allen_Institute_Stuff/Ephys_GE/Analysis/2018-07-19 Neuroelectro Neuroexpresso/'\n",
    "analysis_folder2 = '/Users/Claire/Dropbox/Allen_Institute_Stuff/Ephys_GE/Analysis/2019-04-11 Neuroelectro Neuroexpresso/'\n",
    "res_old = pd.read_csv(analysis_folder2 + 'rpq_all_genes_nonprojecting_exclude_Htr3a_Oxtr.csv', index_col = 0)\n",
    "res_old.rename({'ephys_measure' : 'property'}, axis = 'columns', inplace = True)\n",
    "\n",
    "res_new = res.copy()\n",
    "\n",
    "# With bootstrapping step - run once and then save since it takes some time to run\n",
    "# df_comparison, res_old, res_new, df_upper, df_lower, df_sig = analyze_consistency(res_old, res_new, \n",
    "#                                                                                   bootstrap = True)\n",
    "\n",
    "# No bootstrap\n",
    "df_comparison, res_old, res_new = analyze_consistency(res_old, res_new, bootstrap = False)\n"
   ]
  },
  {
   "cell_type": "code",
   "execution_count": 75,
   "metadata": {
    "collapsed": true
   },
   "outputs": [],
   "source": [
    "# Version for paper (initial submission)\n",
    "# df_upper.to_csv('/Users/Claire/Dropbox/Allen_Institute_Stuff/Ephys_GE/Analysis/2019-03-28 Bootstrap confidence intervals/error_upper.csv')\n",
    "# df_lower.to_csv('/Users/Claire/Dropbox/Allen_Institute_Stuff/Ephys_GE/Analysis/2019-03-28 Bootstrap confidence intervals/error_lower.csv')\n",
    "# df_sig.to_csv('/Users/Claire/Dropbox/Allen_Institute_Stuff/Ephys_GE/Analysis/2019-03-28 Bootstrap confidence intervals/significance.csv')\n",
    "\n",
    "# After reviewer comments\n",
    "# df_upper.to_csv('/Users/Claire/Dropbox/Allen_Institute_Stuff/Ephys_GE/Analysis/2019-04-11 Neuroelectro Neuroexpresso/error_upper.csv')\n",
    "# df_lower.to_csv('/Users/Claire/Dropbox/Allen_Institute_Stuff/Ephys_GE/Analysis/2019-04-11 Neuroelectro Neuroexpresso/error_lower.csv')\n",
    "# df_sig.replace(u'✻', '*').to_csv('/Users/Claire/Dropbox/Allen_Institute_Stuff/Ephys_GE/Analysis/2019-04-11 Neuroelectro Neuroexpresso/significance.csv')"
   ]
  },
  {
   "cell_type": "code",
   "execution_count": 76,
   "metadata": {
    "collapsed": true
   },
   "outputs": [],
   "source": [
    "df_upper = pd.read_csv('/Users/Claire/Dropbox/Allen_Institute_Stuff/Ephys_GE/Analysis/2019-04-11 Neuroelectro Neuroexpresso/error_upper.csv', index_col = 0)\n",
    "df_lower = pd.read_csv('/Users/Claire/Dropbox/Allen_Institute_Stuff/Ephys_GE/Analysis/2019-04-11 Neuroelectro Neuroexpresso/error_lower.csv', index_col = 0)\n",
    "df_sig = pd.read_csv('/Users/Claire/Dropbox/Allen_Institute_Stuff/Ephys_GE/Analysis/2019-04-11 Neuroelectro Neuroexpresso/significance.csv', index_col = 0).fillna('').replace('*', u'✻')"
   ]
  },
  {
   "cell_type": "code",
   "execution_count": 77,
   "metadata": {
    "collapsed": true
   },
   "outputs": [],
   "source": [
    "# Calculate whether at least one model has a positive consistency metric (including CIs)\n",
    "\n",
    "subset = 'inh'\n",
    "\n",
    "bootstrap_above_zero = []\n",
    "for m in df_comparison.index:\n",
    "    r_ind = df_comparison.loc[m, 'r (NE_' + subset + ' vs AIBS_E~G)']\n",
    "    r_cond = df_comparison.loc[m, 'r (NE_' + subset + ' vs AIBS_E~G|C)']\n",
    "    r_i_only = df_comparison.loc[m, 'r (NE_' + subset + ' vs AIBS_i_only)']\n",
    "    interval_ind = (r_ind - df_lower.loc[m, subset + ' vs reg'], r_ind + df_upper.loc[m, subset + ' vs reg'])\n",
    "    interval_cond = (r_cond - df_lower.loc[m, subset + ' vs par'], r_cond + df_upper.loc[m, subset + ' vs par'])\n",
    "    interval_i_only = (r_i_only - df_lower.loc[m, subset + ' vs i_only'], r_cond + df_upper.loc[m, subset + ' vs i_only'])\n",
    "    if (interval_ind[0] > 0) or (interval_cond[0] > 0) or (interval_i_only[0] > 0):\n",
    "        bootstrap_above_zero.append(True)\n",
    "    else:\n",
    "        bootstrap_above_zero.append(False)\n",
    "\n",
    "df_comparison['Above_zero'] = bootstrap_above_zero\n",
    "df_comparison['Significant vs par'] = df_sig['p < 0.05 vs par'].values\n",
    "df_comparison['Significant vs i_only'] = df_sig['p < 0.05 vs i_only'].values"
   ]
  },
  {
   "cell_type": "code",
   "execution_count": 78,
   "metadata": {
    "scrolled": true
   },
   "outputs": [
    {
     "data": {
      "text/html": [
       "<div>\n",
       "<style scoped>\n",
       "    .dataframe tbody tr th:only-of-type {\n",
       "        vertical-align: middle;\n",
       "    }\n",
       "\n",
       "    .dataframe tbody tr th {\n",
       "        vertical-align: top;\n",
       "    }\n",
       "\n",
       "    .dataframe thead th {\n",
       "        text-align: right;\n",
       "    }\n",
       "</style>\n",
       "<table border=\"1\" class=\"dataframe\">\n",
       "  <thead>\n",
       "    <tr style=\"text-align: right;\">\n",
       "      <th></th>\n",
       "      <th>r (NE_inh vs AIBS_E~G)</th>\n",
       "      <th>r (NE_inh vs AIBS_E~G|C)</th>\n",
       "      <th>r (NE_inh vs AIBS_i_only)</th>\n",
       "      <th>Above_zero</th>\n",
       "      <th>Significant vs par</th>\n",
       "      <th>Significant vs i_only</th>\n",
       "    </tr>\n",
       "  </thead>\n",
       "  <tbody>\n",
       "    <tr>\n",
       "      <th>AP Half-width</th>\n",
       "      <td>0.16</td>\n",
       "      <td>0.255</td>\n",
       "      <td>0.231</td>\n",
       "      <td>True</td>\n",
       "      <td>✻</td>\n",
       "      <td>✻</td>\n",
       "    </tr>\n",
       "    <tr>\n",
       "      <th>AHP Amplitude</th>\n",
       "      <td>-0.182</td>\n",
       "      <td>-0.098</td>\n",
       "      <td>-0.151</td>\n",
       "      <td>False</td>\n",
       "      <td>✻</td>\n",
       "      <td>✻</td>\n",
       "    </tr>\n",
       "    <tr>\n",
       "      <th>Max Firing Frequency</th>\n",
       "      <td>0.095</td>\n",
       "      <td>0.186</td>\n",
       "      <td>0.16</td>\n",
       "      <td>True</td>\n",
       "      <td>✻</td>\n",
       "      <td>✻</td>\n",
       "    </tr>\n",
       "    <tr>\n",
       "      <th>Rheobase</th>\n",
       "      <td>0.248</td>\n",
       "      <td>0.25</td>\n",
       "      <td>0.232</td>\n",
       "      <td>True</td>\n",
       "      <td></td>\n",
       "      <td></td>\n",
       "    </tr>\n",
       "    <tr>\n",
       "      <th>AP Threshold</th>\n",
       "      <td>-0.033</td>\n",
       "      <td>-0.111</td>\n",
       "      <td>-0.172</td>\n",
       "      <td>False</td>\n",
       "      <td>✻</td>\n",
       "      <td>✻</td>\n",
       "    </tr>\n",
       "    <tr>\n",
       "      <th>AP Amplitude</th>\n",
       "      <td>-0.05</td>\n",
       "      <td>0.063</td>\n",
       "      <td>0.017</td>\n",
       "      <td>True</td>\n",
       "      <td>✻</td>\n",
       "      <td>✻</td>\n",
       "    </tr>\n",
       "    <tr>\n",
       "      <th>Time Constant Tau</th>\n",
       "      <td>0.283</td>\n",
       "      <td>0.217</td>\n",
       "      <td>0.196</td>\n",
       "      <td>True</td>\n",
       "      <td>✻</td>\n",
       "      <td>✻</td>\n",
       "    </tr>\n",
       "    <tr>\n",
       "      <th>Capacitance</th>\n",
       "      <td>0.002</td>\n",
       "      <td>-0.101</td>\n",
       "      <td>-0.105</td>\n",
       "      <td>False</td>\n",
       "      <td>✻</td>\n",
       "      <td>✻</td>\n",
       "    </tr>\n",
       "    <tr>\n",
       "      <th>Input Resistance</th>\n",
       "      <td>0.213</td>\n",
       "      <td>0.252</td>\n",
       "      <td>0.247</td>\n",
       "      <td>True</td>\n",
       "      <td>✻</td>\n",
       "      <td>✻</td>\n",
       "    </tr>\n",
       "    <tr>\n",
       "      <th>Resting Membrane Potential</th>\n",
       "      <td>0.043</td>\n",
       "      <td>0.203</td>\n",
       "      <td>0.288</td>\n",
       "      <td>True</td>\n",
       "      <td>✻</td>\n",
       "      <td>✻</td>\n",
       "    </tr>\n",
       "    <tr>\n",
       "      <th>Adaptation Ratio</th>\n",
       "      <td>0.163</td>\n",
       "      <td>0.28</td>\n",
       "      <td>0.229</td>\n",
       "      <td>True</td>\n",
       "      <td>✻</td>\n",
       "      <td>✻</td>\n",
       "    </tr>\n",
       "  </tbody>\n",
       "</table>\n",
       "</div>"
      ],
      "text/plain": [
       "                           r (NE_inh vs AIBS_E~G) r (NE_inh vs AIBS_E~G|C)  \\\n",
       "AP Half-width                                0.16                    0.255   \n",
       "AHP Amplitude                              -0.182                   -0.098   \n",
       "Max Firing Frequency                        0.095                    0.186   \n",
       "Rheobase                                    0.248                     0.25   \n",
       "AP Threshold                               -0.033                   -0.111   \n",
       "AP Amplitude                                -0.05                    0.063   \n",
       "Time Constant Tau                           0.283                    0.217   \n",
       "Capacitance                                 0.002                   -0.101   \n",
       "Input Resistance                            0.213                    0.252   \n",
       "Resting Membrane Potential                  0.043                    0.203   \n",
       "Adaptation Ratio                            0.163                     0.28   \n",
       "\n",
       "                           r (NE_inh vs AIBS_i_only)  Above_zero  \\\n",
       "AP Half-width                                  0.231        True   \n",
       "AHP Amplitude                                 -0.151       False   \n",
       "Max Firing Frequency                            0.16        True   \n",
       "Rheobase                                       0.232        True   \n",
       "AP Threshold                                  -0.172       False   \n",
       "AP Amplitude                                   0.017        True   \n",
       "Time Constant Tau                              0.196        True   \n",
       "Capacitance                                   -0.105       False   \n",
       "Input Resistance                               0.247        True   \n",
       "Resting Membrane Potential                     0.288        True   \n",
       "Adaptation Ratio                               0.229        True   \n",
       "\n",
       "                           Significant vs par Significant vs i_only  \n",
       "AP Half-width                               ✻                     ✻  \n",
       "AHP Amplitude                               ✻                     ✻  \n",
       "Max Firing Frequency                        ✻                     ✻  \n",
       "Rheobase                                                             \n",
       "AP Threshold                                ✻                     ✻  \n",
       "AP Amplitude                                ✻                     ✻  \n",
       "Time Constant Tau                           ✻                     ✻  \n",
       "Capacitance                                 ✻                     ✻  \n",
       "Input Resistance                            ✻                     ✻  \n",
       "Resting Membrane Potential                  ✻                     ✻  \n",
       "Adaptation Ratio                            ✻                     ✻  "
      ]
     },
     "execution_count": 78,
     "metadata": {},
     "output_type": "execute_result"
    }
   ],
   "source": [
    "df_comparison"
   ]
  },
  {
   "cell_type": "code",
   "execution_count": 79,
   "metadata": {
    "collapsed": true,
    "scrolled": false
   },
   "outputs": [],
   "source": [
    "# Version including inh-only subset\n",
    "\n",
    "%config InlineBackend.figure_format = 'png'\n",
    "# NE vs AIBS\n",
    "\n",
    "subset = 'inh'\n",
    "\n",
    "df = df_comparison\n",
    "\n",
    "fig = plt.figure(figsize = (7, 8.5), dpi = 150)\n",
    "\n",
    "gs1 = GridSpec(2, 2, height_ratios = [2, 1])\n",
    "gs2 = GridSpec(1, 2)\n",
    "gs1.update(left = 0.25, right = 0.85, bottom = 0.5, wspace = 0.4)\n",
    "gs2.update(top = 0.35, wspace = 0.4)\n",
    "axes_list = []\n",
    "\n",
    "width = 0.3\n",
    "ax = plt.subplot(gs1[:, 0])\n",
    "axes_list.append(ax)\n",
    "ind = np.arange(len(df.index))\n",
    "ax.barh(ind + (2 * width), df['r (NE_' + subset + ' vs AIBS_E~G)'], xerr = [df_lower[subset + ' vs reg'], df_upper[subset + ' vs reg']],\n",
    "        height = width, color = color_reg, label = 'Class-independent model')\n",
    "ax.barh(ind + width, df['r (NE_' + subset + ' vs AIBS_E~G|C)'], xerr = [df_lower[subset + ' vs par'], df_upper[subset + ' vs par']], \n",
    "        height = width, color = color_par, label = 'Class-conditional model')\n",
    "ax.barh(ind, df['r (NE_' + subset + ' vs AIBS_i_only)'], xerr = [df_lower[subset + ' vs i_only'], df_upper[subset + ' vs i_only']], \n",
    "        height = width, color = 'grey', label = 'Inhibitory only')\n",
    "xlim = ax.get_xlim()\n",
    "ax.set_xlim(xlim[0] * 1.1, xlim[1] * 1.1)\n",
    "ylim = ax.get_ylim()\n",
    "ax.plot([0, 0], ylim, 'k-')\n",
    "ax.set_ylim(ylim)\n",
    "ax.set_yticks(ind + (0.5 * width))\n",
    "ax.set_yticklabels(df.index, rotation = 0, ha = 'right')\n",
    "ax.set_xlabel('Consistency AIBS vs NE')\n",
    "ax.spines['right'].set_visible(False)\n",
    "ax.spines['top'].set_visible(False)\n",
    "ax.tick_params(axis = 'y', length=0, width=0)\n",
    "ax.legend(loc = 'lower left', bbox_to_anchor = (1.1, 0), borderaxespad = 0)\n",
    "\n",
    "for i, measure in zip(ind, df_comparison.index):\n",
    "    above_zero = df_comparison.loc[measure, 'Above_zero']\n",
    "    for n, comparison in enumerate(['i_only', 'par']):\n",
    "        star = df_comparison.loc[measure, 'Significant vs ' + comparison]\n",
    "        ypos = df_comparison.loc[measure, 'r (NE_' + subset + ' vs AIBS' + ('_E~G|C' if comparison == 'par' else '_i_only') + ')']\n",
    "        ypos += (np.copysign(0.04, ypos))\n",
    "        if above_zero & (star == u'✻'):\n",
    "            ax.annotate(star, (ypos, i + (n * width)), \n",
    "                ha = 'center', va = 'center', fontsize = 10, rotation = 270, fontname = 'DejaVu Sans', xycoords = 'data')\n",
    "\n",
    "\n",
    "        \n",
    "measure = 'aphw'        \n",
    "\n",
    "ax = plt.subplot(gs1[0, 1])\n",
    "axes_list.append(ax)\n",
    "for xpos, var_x, label1, label2, label3, color in zip([1, 2, 3], ['beta_gene', 'beta_gene|class', 'beta_gene_inh_only'], \n",
    "                                                      ['Class-independent\\nmodel slope', 'Class-conditional\\nmodel slope', 'Inhibitory only slope'], \n",
    "                                                      ['_reg', '_par', '_inhib'], ['ind', 'cond', 'inhib'], [color_reg, color_par, 'grey']):\n",
    "    x = res_new[res_new.property == measure][var_x]\n",
    "    y = res_old[res_old.property == measure][subset + '_beta']\n",
    "    xy = pd.DataFrame([x, y], index = ['x', 'y']).dropna(axis = 1)\n",
    "    fit = np.polyfit(xy.loc['x'], xy.loc['y'], deg = 1)\n",
    "    r = round(stats.spearmanr(list(xy.loc['x'].values), list(xy.loc['y'].values))[0], 3)\n",
    "    xy = xy.sample(frac = 0.1, axis = 1)\n",
    "    lim = pd.Series([min(list(xy.loc['x'].values)), max(list(xy.loc['x'].values))])\n",
    "    \n",
    "    ax.scatter(xy.loc['x'], xy.loc['y'], alpha = 0.3, s = 2, color = color)\n",
    "\n",
    "    ax.plot(lim, lim * fit[0] + fit[1], '-', color = color, linewidth = 1)\n",
    "    ax.annotate(r'$r_{' + label3 + '}$ = ' + str(r), (lim[1], lim[1] * fit[0] + fit[1] + (0.1 if label3 == 'cond' else -0.05 if label3 == 'inhib' else -0.1)))\n",
    "    ax.set_xlabel('Model Slope (AIBS)')\n",
    "    ax.set_ylabel('Model Slope (NE non-projecting)')\n",
    "    ax.spines['right'].set_visible(False)\n",
    "    ax.spines['top'].set_visible(False)   \n",
    "    ax.set_title(measure_dict[measure])\n",
    "    ax.set_ylim([-1, 1])\n",
    "    ax.set_yticks([-1, 0, 1])\n",
    "    \n",
    "        \n",
    "gene = 'Atp2a2'\n",
    "gene_id = 11938\n",
    "\n",
    "# AIBS data\n",
    "ax = plt.subplot(gs2[0, 0])\n",
    "axes_list.append(ax)\n",
    "make_scatter(gene_id, measure, ax, df_seq = df_seq, df_ephys = df_ephys, \n",
    "             line_labels = line_labels, unit = 'CPM', s = 50)\n",
    "a1 = r'$\\beta_{ind}$ = ' + str(round(res[(res.gene_entrez_id == gene_id) & \n",
    "                                                        (res.property == measure)]['beta_gene'].values[0], 3))\n",
    "a2 = r'$\\beta_{cond}$ = ' + str(round(res[(res.gene_entrez_id == gene_id) & \n",
    "                                                        (res.property == measure)]['beta_gene|class'].values[0], 3))\n",
    "\n",
    "ax.annotate(a1 + ', ' + a2, (0.05, 1), xycoords = 'axes fraction', ha = 'left', va = 'bottom')\n",
    "\n",
    "# NE data\n",
    "ax = plt.subplot(gs2[0, 1])\n",
    "axes_list.append(ax)\n",
    "x = ne_inh[gene]\n",
    "y = ne_inh['APhw']\n",
    "ax.scatter(x, y, s = 50, alpha = 0.6, c = 'black')\n",
    "idx = np.isfinite(x) & np.isfinite(y)\n",
    "if len(x[idx]) > 1:\n",
    "    fit = np.polyfit(x[idx], y[idx], deg = 1)\n",
    "    lim = pd.Series([x[idx].min(), x[idx].max()])\n",
    "    ax.plot(lim, lim * fit[0] + fit[1], '-', linewidth = 1, color = 'black')\n",
    "    r = round(stats.spearmanr(x, y, nan_policy = 'omit')[0], 3)\n",
    "ax.set_xlabel(gene + ' ($log_2$ expr)')\n",
    "ax.set_ylabel(measure_dict[measure] + ' (ms)')\n",
    "ax.annotate('r = ' + str(r), (0.05, 1), xycoords = 'axes fraction', \n",
    "        ha = 'left', va = 'bottom')\n",
    "ax.spines['right'].set_visible(False)\n",
    "ax.spines['top'].set_visible(False)\n",
    "\n",
    "i = axes_list[2].scatter([], [], color = color_inh, marker = 'o', s = 50, alpha = 0.6)\n",
    "e = axes_list[2].scatter([], [], color = color_exc, marker = 'D', s = 50, alpha = 0.6)\n",
    "axes_list[2].legend([i, e], ['Inhibitory', 'Excitatory'], bbox_to_anchor=(0, -0.3), \n",
    "                    loc= 'upper left', frameon = True, ncol = 2, borderaxespad = 0, handletextpad = 0) \n",
    "\n",
    "axes_list[2].set_title('AIBS\\n')\n",
    "axes_list[3].set_title('NE (non-projecting)\\n')\n",
    "\n",
    "for letter, ax in zip(['A', 'B', 'C', 'D', 'E'], axes_list):\n",
    "    ax.annotate(letter, (-0.1, 1.02) if letter == 'A' else (-0.1, 1.04),\n",
    "                ha = 'right', va = 'bottom', xycoords = 'axes fraction', weight = 'bold')\n",
    "\n",
    "plt.savefig('/Users/Claire/Dropbox/Allen_Institute_Stuff/Ephys_GE/Figures/Fig4_draft17.png', bbox_inches = 'tight')\n",
    "plt.clf()"
   ]
  },
  {
   "cell_type": "code",
   "execution_count": 80,
   "metadata": {
    "collapsed": true
   },
   "outputs": [],
   "source": [
    "# Version for paper\n",
    "\n",
    "%config InlineBackend.figure_format = 'png'\n",
    "# NE vs AIBS\n",
    "\n",
    "subset = 'inh'\n",
    "\n",
    "df = df_comparison\n",
    "\n",
    "fig = plt.figure(figsize = (7, 8.5), dpi = 150)\n",
    "\n",
    "gs1 = GridSpec(2, 2, height_ratios = [2, 1])\n",
    "gs2 = GridSpec(1, 2)\n",
    "gs1.update(left = 0.25, right = 0.85, bottom = 0.5, wspace = 0.4)\n",
    "gs2.update(top = 0.35, wspace = 0.4)\n",
    "axes_list = []\n",
    "\n",
    "width = 0.4\n",
    "ax = plt.subplot(gs1[:, 0])\n",
    "axes_list.append(ax)\n",
    "ind = np.arange(len(df.index))\n",
    "ax.barh(ind + width, df['r (NE_' + subset + ' vs AIBS_E~G)'], xerr = [df_lower[subset + ' vs reg'], df_upper[subset + ' vs reg']],\n",
    "        height = width, color = color_reg, label = 'Class-independent model')\n",
    "ax.barh(ind, df['r (NE_' + subset + ' vs AIBS_E~G|C)'], xerr = [df_lower[subset + ' vs par'], df_upper[subset + ' vs par']], \n",
    "        height = width, color = color_par, label = 'Class-conditional model')\n",
    "\n",
    "xlim = ax.get_xlim()\n",
    "ax.set_xlim(xlim[0] * 1.1, xlim[1] * 1.1)\n",
    "ylim = ax.get_ylim()\n",
    "ax.plot([0, 0], ylim, 'k-')\n",
    "ax.set_ylim(ylim)\n",
    "ax.set_yticks(ind + (0.5 * width))\n",
    "ax.set_yticklabels(df.index, rotation = 0, ha = 'right')\n",
    "ax.set_xlabel('Consistency AIBS vs NE')\n",
    "ax.spines['right'].set_visible(False)\n",
    "ax.spines['top'].set_visible(False)\n",
    "ax.tick_params(axis = 'y', length=0, width=0)\n",
    "ax.legend(loc = 'lower left', bbox_to_anchor = (1.1, 0), borderaxespad = 0)\n",
    "\n",
    "for i, measure in zip(ind, df_comparison.index):\n",
    "    above_zero = df_comparison.loc[measure, 'Above_zero']\n",
    "    comparison = 'par'\n",
    "    star = df_comparison.loc[measure, 'Significant vs ' + comparison]\n",
    "    ypos = max([df_comparison.loc[measure, 'r (NE_' + subset + ' vs AIBS_E~G)'],\n",
    "                df_comparison.loc[measure, 'r (NE_' + subset + ' vs AIBS_E~G|C)']])\n",
    "    ypos += (np.copysign(0.03, ypos))\n",
    "    if above_zero & (star == u'✻'):\n",
    "        ax.annotate(star, (ypos + 0.02, i + (0.5 * width)), \n",
    "            ha = 'center', va = 'center', fontsize = 10, rotation = 270, fontname = 'DejaVu Sans', xycoords = 'data')\n",
    "        ax.annotate('', (ypos, i - (0.5 * width)), (ypos, i + (1.5 * width)), arrowprops=dict(arrowstyle = '-', linewidth = 1))\n",
    "\n",
    "\n",
    "        \n",
    "measure = 'aphw'        \n",
    "\n",
    "ax = plt.subplot(gs1[0, 1])\n",
    "axes_list.append(ax)\n",
    "for xpos, var_x, label1, label2, label3, color in zip([1, 2], ['beta_gene', 'beta_gene|class'], \n",
    "                                                      ['Class-independent\\nmodel slope', 'Class-conditional\\nmodel slope'], \n",
    "                                                      ['_reg', '_par'], ['ind', 'cond'], [color_reg, color_par]):\n",
    "    x = res_new[res_new.property == measure][var_x]\n",
    "    y = res_old[res_old.property == measure][subset + '_beta']\n",
    "    xy = pd.DataFrame([x, y], index = ['x', 'y']).dropna(axis = 1)\n",
    "    fit = np.polyfit(xy.loc['x'], xy.loc['y'], deg = 1)\n",
    "    r = round(stats.spearmanr(list(xy.loc['x'].values), list(xy.loc['y'].values))[0], 3)\n",
    "    xy = xy.sample(frac = 0.1, axis = 1)\n",
    "    lim = pd.Series([min(list(xy.loc['x'].values)), max(list(xy.loc['x'].values))])\n",
    "    \n",
    "    ax.scatter(xy.loc['x'], xy.loc['y'], alpha = 0.3, s = 2, color = color)\n",
    "\n",
    "    ax.plot(lim, lim * fit[0] + fit[1], '-', color = color, linewidth = 1)\n",
    "    ax.annotate(r'$r_{' + label3 + '}$ = ' + str(r), (lim[1], lim[1] * fit[0] + fit[1] + (0.1 if label3 == 'cond' else -0.05 if label3 == 'inhib' else -0.1)))\n",
    "    ax.set_xlabel('Model Slope (AIBS)')\n",
    "    ax.set_ylabel('Model Slope (NE non-projecting)')\n",
    "    ax.spines['right'].set_visible(False)\n",
    "    ax.spines['top'].set_visible(False)   \n",
    "    ax.set_title(measure_dict[measure])\n",
    "    ax.set_ylim([-1, 1])\n",
    "    ax.set_yticks([-1, 0, 1])\n",
    "    \n",
    "        \n",
    "gene = 'Atp2a2'\n",
    "gene_id = 11938\n",
    "\n",
    "# AIBS data\n",
    "ax = plt.subplot(gs2[0, 0])\n",
    "axes_list.append(ax)\n",
    "make_scatter(gene_id, measure, ax, df_seq = df_seq, df_ephys = df_ephys, \n",
    "             line_labels = line_labels, unit = 'CPM', s = 50)\n",
    "a1 = r'$\\beta_{ind}$ = ' + str(round(res[(res.gene_entrez_id == gene_id) & \n",
    "                                                        (res.property == measure)]['beta_gene'].values[0], 3))\n",
    "a2 = r'$\\beta_{cond}$ = ' + str(round(res[(res.gene_entrez_id == gene_id) & \n",
    "                                                        (res.property == measure)]['beta_gene|class'].values[0], 3))\n",
    "\n",
    "ax.annotate(a1 + ', ' + a2, (0.05, 1), xycoords = 'axes fraction', ha = 'left', va = 'bottom')\n",
    "\n",
    "# NE data\n",
    "ax = plt.subplot(gs2[0, 1])\n",
    "axes_list.append(ax)\n",
    "x = ne_inh[gene]\n",
    "y = ne_inh['APhw']\n",
    "ax.scatter(x, y, s = 50, alpha = 0.6, c = 'black')\n",
    "idx = np.isfinite(x) & np.isfinite(y)\n",
    "if len(x[idx]) > 1:\n",
    "    fit = np.polyfit(x[idx], y[idx], deg = 1)\n",
    "    lim = pd.Series([x[idx].min(), x[idx].max()])\n",
    "    ax.plot(lim, lim * fit[0] + fit[1], '-', linewidth = 1, color = 'black')\n",
    "    r = round(stats.spearmanr(x, y, nan_policy = 'omit')[0], 3)\n",
    "ax.set_xlabel(gene + ' ($log_2$ expr)')\n",
    "ax.set_ylabel(measure_dict[measure] + ' (ms)')\n",
    "ax.annotate('r = ' + str(r), (0.05, 1), xycoords = 'axes fraction', \n",
    "        ha = 'left', va = 'bottom')\n",
    "ax.spines['right'].set_visible(False)\n",
    "ax.spines['top'].set_visible(False)\n",
    "\n",
    "i = axes_list[2].scatter([], [], color = color_inh, marker = 'o', s = 50, alpha = 0.6)\n",
    "e = axes_list[2].scatter([], [], color = color_exc, marker = 'D', s = 50, alpha = 0.6)\n",
    "axes_list[2].legend([i, e], ['Inhibitory', 'Excitatory'], bbox_to_anchor=(0, -0.3), \n",
    "                    loc= 'upper left', frameon = True, ncol = 2, borderaxespad = 0, handletextpad = 0) \n",
    "\n",
    "axes_list[2].set_title('AIBS\\n')\n",
    "axes_list[3].set_title('NE (non-projecting)\\n')\n",
    "\n",
    "for letter, ax in zip(['A', 'B', 'C', 'D', 'E'], axes_list):\n",
    "    ax.annotate(letter, (-0.1, 1.02) if letter == 'A' else (-0.1, 1.04),\n",
    "                ha = 'right', va = 'bottom', xycoords = 'axes fraction', weight = 'bold')\n",
    "\n",
    "plt.savefig('/Users/Claire/Dropbox/Allen_Institute_Stuff/Ephys_GE/Figures/Fig4_draft18.tiff', \n",
    "            bbox_inches = 'tight', dpi = 300)\n",
    "plt.clf()"
   ]
  },
  {
   "cell_type": "markdown",
   "metadata": {},
   "source": [
    "# Fig 6\n",
    "# VG Potassium channels - E~G vs E~G|C"
   ]
  },
  {
   "cell_type": "code",
   "execution_count": 81,
   "metadata": {},
   "outputs": [
    {
     "name": "stdout",
     "output_type": "stream",
     "text": [
      "6602\n",
      "3238\n"
     ]
    }
   ],
   "source": [
    "# how many total genes for AHPamp at FDR < 0.01 versus 0.1?\n",
    "\n",
    "# Since this is a property with lots of significant genes, makes sense to use a more stringent threshold than for some others\n",
    "# If I didn't know anything about how this property were regulated I would probably be more interested in the \n",
    "    # FDR < 0.01 group than the FDR < 0.1.\n",
    "\n",
    "print(res[(res.property == 'ahpamp') & (res['FDR_gene|class_anova'] < 0.1)].shape[0])\n",
    "print(res[(res.property == 'ahpamp') & (res['FDR_gene|class_anova'] < 0.01)].shape[0])"
   ]
  },
  {
   "cell_type": "code",
   "execution_count": 82,
   "metadata": {
    "collapsed": true
   },
   "outputs": [],
   "source": [
    "# From Alexander et al. 2017\n",
    "\n",
    "channel_list = pd.read_csv('/Users/Claire/Dropbox/Allen_Institute_Stuff/Ephys_GE/targets_and_families.csv', index_col = 0)"
   ]
  },
  {
   "cell_type": "code",
   "execution_count": 83,
   "metadata": {
    "collapsed": true
   },
   "outputs": [],
   "source": [
    "genes_kch_list = list(channel_list[channel_list['Family name'] == 'Voltage-gated potassium channels']['Mouse Entrez Gene'].values)"
   ]
  },
  {
   "cell_type": "code",
   "execution_count": 84,
   "metadata": {
    "collapsed": true
   },
   "outputs": [],
   "source": [
    "r_kch_par = res[[str(gene) in genes_kch_list for gene in res.gene_entrez_id]][['gene_entrez_id', 'property', 'beta_gene|class', 'FDR_gene|class_anova']]\n",
    "r_kch_reg = res[[str(gene) in genes_kch_list for gene in res.gene_entrez_id]][['gene_entrez_id', 'property', 'beta_gene', 'FDR_gene']]\n",
    "r_kch_par.columns = ['gene', 'Measure', 'beta', 'FDR']\n",
    "r_kch_reg.columns = ['gene', 'Measure', 'beta', 'FDR']\n",
    "r_kch_par['corrtype'] = 'partial'\n",
    "r_kch_reg['corrtype'] = 'regular'\n",
    "kch_r_combined = pd.concat([r_kch_par, r_kch_reg])\n"
   ]
  },
  {
   "cell_type": "code",
   "execution_count": 85,
   "metadata": {
    "collapsed": true
   },
   "outputs": [],
   "source": [
    "kch_r_combined['Sig_Lvl'] = [0.01 if FDR < 0.01 else 0.05 if FDR < 0.05 else 0.1 if FDR < 0.1 else 'n.s.' for FDR in kch_r_combined.FDR]"
   ]
  },
  {
   "cell_type": "code",
   "execution_count": 86,
   "metadata": {
    "collapsed": true
   },
   "outputs": [],
   "source": [
    "kch_r_ahpamp = kch_r_combined[kch_r_combined.Measure == 'ahpamp']"
   ]
  },
  {
   "cell_type": "code",
   "execution_count": 87,
   "metadata": {
    "collapsed": true
   },
   "outputs": [],
   "source": [
    "kch_r_ahpamp = kch_r_ahpamp.sort_values('Sig_Lvl', ascending = False)"
   ]
  },
  {
   "cell_type": "code",
   "execution_count": 88,
   "metadata": {},
   "outputs": [
    {
     "data": {
      "text/plain": [
       "{16492}"
      ]
     },
     "execution_count": 88,
     "metadata": {},
     "output_type": "execute_result"
    }
   ],
   "source": [
    "set(kch_r_ahpamp[(kch_r_ahpamp.corrtype == 'partial') & \n",
    "                 (kch_r_ahpamp.Sig_Lvl == 0.05)]['gene']).intersection(set(kch_r_ahpamp[(kch_r_ahpamp.corrtype == 'regular') & \n",
    "                                                                                        (kch_r_ahpamp.Sig_Lvl == 0.01)]['gene']))\n",
    "\n"
   ]
  },
  {
   "cell_type": "code",
   "execution_count": 89,
   "metadata": {
    "collapsed": true
   },
   "outputs": [],
   "source": [
    "kch_beta = kch_r_ahpamp.pivot(index = 'gene', columns = 'corrtype', values = 'beta')\n",
    "kch_sig = kch_r_ahpamp.pivot(index = 'gene', columns = 'corrtype', values = 'FDR')\n",
    "kch_sig.columns = ['FDR_partial', 'FDR_regular']\n",
    "kch_beta = pd.concat([kch_beta, kch_sig], axis = 1)"
   ]
  },
  {
   "cell_type": "code",
   "execution_count": 90,
   "metadata": {},
   "outputs": [
    {
     "data": {
      "text/plain": [
       "(11, 6)"
      ]
     },
     "execution_count": 90,
     "metadata": {},
     "output_type": "execute_result"
    }
   ],
   "source": [
    "kch_r_ahpamp[(kch_r_ahpamp.corrtype == 'partial') & (kch_r_ahpamp.Sig_Lvl == 0.01) & (kch_r_ahpamp.beta > 0)].shape"
   ]
  },
  {
   "cell_type": "code",
   "execution_count": 91,
   "metadata": {},
   "outputs": [
    {
     "data": {
      "text/plain": [
       "<matplotlib.figure.Figure at 0x124fa9f10>"
      ]
     },
     "metadata": {},
     "output_type": "display_data"
    },
    {
     "data": {
      "text/plain": [
       "<matplotlib.figure.Figure at 0x118ecfa10>"
      ]
     },
     "metadata": {},
     "output_type": "display_data"
    },
    {
     "data": {
      "image/png": "[encoded data removed]",
      "text/plain": [
       "<matplotlib.figure.Figure at 0x11a826b90>"
      ]
     },
     "metadata": {},
     "output_type": "display_data"
    }
   ],
   "source": [
    "# VG Potassium channels with signficant interactions\n",
    "\n",
    "fig, axes = plt.subplots(2, 3, figsize = (8, 6))\n",
    "\n",
    "for gene, ax in zip(res[[str(gene) in genes_kch_list for gene in res.gene_entrez_id] &\n",
    "                        (res.FDR_int_anova < 0.1) & \n",
    "                        (res.property == 'ahpamp')]['gene_entrez_id'], axes.flat):\n",
    "    make_scatter(gene, 'ahpamp', ax, df_seq, df_ephys, line_labels, unit = 'CPM', s = 10)\n",
    "plt.tight_layout()\n",
    "plt.show()\n",
    "    \n",
    "    "
   ]
  },
  {
   "cell_type": "code",
   "execution_count": 92,
   "metadata": {
    "collapsed": true
   },
   "outputs": [],
   "source": [
    "%config InlineBackend.figure_format = 'svg'\n",
    "\n",
    "import seaborn as sns\n",
    "\n",
    "genes_plot = [16512, 170738, 268345]\n",
    "\n",
    "measure = 'ahpamp'\n",
    "rows = 2\n",
    "cols = 3\n",
    "\n",
    "fig = plt.figure(figsize = (7, 3.5))\n",
    "gs = GridSpec(rows, cols, width_ratios = [1, 1, 2.5])\n",
    "axes_list = []\n",
    "\n",
    "# Schematic\n",
    "img = mpimg.imread('/Users/Claire/Dropbox/Allen_Institute_Stuff/Ephys_GE/Figures/AHPamp.png')\n",
    "ax = plt.subplot(gs[0, 0])\n",
    "ax.axis('off')\n",
    "ax.imshow(img, cmap = 'gray', interpolation = 'None')\n",
    "axes_list.append(ax)\n",
    "\n",
    "# Example genes\n",
    "for gene, title, xpos, ypos in zip(genes_plot, ('Class-driven', 'Non-class-driven', 'Non-class-driven;\\nsig. in both models'), (1, 0, 1), (0, 1, 1)):\n",
    "    if xpos == 0:\n",
    "        ax = plt.subplot(gs[ypos, xpos])\n",
    "        ax_share = ax\n",
    "    elif (xpos == 1) & (ypos == 0):\n",
    "        ax = plt.subplot(gs[ypos, xpos])\n",
    "    else:\n",
    "        ax = plt.subplot(gs[ypos, xpos], sharey = ax_share)\n",
    "    axes_list.append(ax)\n",
    "    make_scatter(gene, measure, ax, df_seq, df_ephys, line_labels, unit = 'CPM', s = 15)\n",
    "\n",
    "    ax.set_title(title)\n",
    "\n",
    "# Summary scatter plot\n",
    "palette = {'regular' : color_reg, 'partial' : color_par}\n",
    "ax = plt.subplot(gs[:, 2])\n",
    "\n",
    "xy0 = kch_beta[(kch_beta.FDR_partial < 0.01) & (kch_beta.FDR_regular < 0.01)]\n",
    "xy1 = kch_beta[(kch_beta.FDR_partial < 0.01) & (kch_beta.FDR_regular >= 0.01)]\n",
    "xy2 = kch_beta[(kch_beta.FDR_partial >= 0.01) & (kch_beta.FDR_regular < 0.01)]\n",
    "xy3 = kch_beta[(kch_beta.FDR_partial >= 0.01) & (kch_beta.FDR_regular >= 0.01)]\n",
    "s3 = ax.scatter(xy3.regular, xy3.partial, color = 'grey', s = 50, marker = 'o', alpha = 0.5)\n",
    "s2 = ax.scatter(xy2.regular, xy2.partial, color = color_reg, s = 50, marker = '^', alpha = 0.5)\n",
    "s1 = ax.scatter(xy1.regular, xy1.partial, color = color_par, s = 50, marker = 's', alpha = 0.5)\n",
    "s0 = ax.scatter(xy0.regular, xy0.partial, color = color_shared, s = 50, marker = 'D', alpha = 0.5)\n",
    "\n",
    "xlim = ax.get_xlim()\n",
    "ylim = ax.get_ylim()\n",
    "ax.plot(xlim, xlim, '--', color = 'grey')\n",
    "ax.plot([0, 0], ylim, 'k-')\n",
    "ax.plot(xlim, [0, 0], 'k-')\n",
    "ax.set_xlim(xlim)\n",
    "ax.set_ylim(ylim)\n",
    "for gene, marker in zip(genes_plot, ['^', 's', 'D']):\n",
    "    xy_pos = (kch_beta.loc[gene].regular, kch_beta.loc[gene].partial)\n",
    "    xytext = (kch_beta.loc[gene].regular - 0.01, kch_beta.loc[gene].partial + 0.07)\n",
    "    ax.scatter(kch_beta.loc[gene].regular, kch_beta.loc[gene].partial, s = 50, marker = marker, \n",
    "               facecolors = 'none', edgecolors = 'black', linewidth = 1)\n",
    "    ax.annotate(res[(res.gene_entrez_id == gene) & (res.property == measure)]['gene_symbol'].values[0], \n",
    "                xy = xy_pos, xytext = xytext, \n",
    "                arrowprops=dict(facecolor='black', width = 1, headwidth = 1, shrink=0.05))\n",
    "\n",
    "ax.set_xlabel('slope (class-independent)')\n",
    "ax.set_ylabel('slope (class-conditional)')\n",
    "\n",
    "ax.legend([s2, s1, s0, s3], ['FDR = 0.01 class-\\nindependent only', 'FDR = 0.01 class-\\nconditional only', \n",
    "                                      'FDR = 0.01\\nboth models', 'n.s.'], \n",
    "          bbox_to_anchor = (1, 0), loc = 'lower right', frameon = True)\n",
    "\n",
    "ax.spines['right'].set_visible(False)\n",
    "ax.spines['top'].set_visible(False)\n",
    "axes_list.append(ax)    \n",
    "        \n",
    "    \n",
    "gs.tight_layout(fig)\n",
    "\n",
    "ax = axes_list[2]\n",
    "i = ax.scatter([], [], color = color_inh, marker = 'o', s = 15, alpha = 0.6)\n",
    "e = ax.scatter([], [], color = color_exc, marker = 'D', s = 15, alpha = 0.6)\n",
    "ax.legend([i, e], ['Inhibitory', 'Excitatory'], bbox_to_anchor=(0, 1.3), loc= 'lower left', frameon = True, fontsize = 10)\n",
    "\n",
    "\n",
    "\n",
    "for letter, ax in zip(['A', 'B', 'C', 'D', 'E'], axes_list):\n",
    "    ax.annotate(letter, (-0.1, 1.05), ha = 'right', va = 'bottom', xycoords = 'axes fraction', weight = 'bold')\n",
    "\n",
    "plt.savefig('/Users/Claire/Dropbox/Allen_Institute_Stuff/Ephys_GE/Figures/Fig6_draft13.tiff', \n",
    "            bbox_inches = 'tight', dpi = 300)    \n",
    "plt.clf()"
   ]
  },
  {
   "cell_type": "code",
   "execution_count": 93,
   "metadata": {},
   "outputs": [
    {
     "data": {
      "text/plain": [
       "(10, 6)"
      ]
     },
     "execution_count": 93,
     "metadata": {},
     "output_type": "execute_result"
    }
   ],
   "source": [
    "kch_r_ahpamp[(kch_r_ahpamp.corrtype == 'partial') & (kch_r_ahpamp.beta < 0)].shape"
   ]
  },
  {
   "cell_type": "code",
   "execution_count": 94,
   "metadata": {
    "collapsed": true
   },
   "outputs": [],
   "source": [
    "reg_pos = list(kch_r_ahpamp[(kch_r_ahpamp.FDR < 0.01) & (kch_r_ahpamp.corrtype == 'regular') & (kch_r_ahpamp.beta > 0)]['gene'].values)\n",
    "reg_neg = list(kch_r_ahpamp[(kch_r_ahpamp.FDR < 0.01) & (kch_r_ahpamp.corrtype == 'regular') & (kch_r_ahpamp.beta < 0)]['gene'].values)\n",
    "par_pos = list(kch_r_ahpamp[(kch_r_ahpamp.FDR < 0.01) & (kch_r_ahpamp.corrtype == 'partial') & (kch_r_ahpamp.beta > 0)]['gene'].values)\n",
    "par_neg = list(kch_r_ahpamp[(kch_r_ahpamp.FDR < 0.01) & (kch_r_ahpamp.corrtype == 'partial') & (kch_r_ahpamp.beta < 0)]['gene'].values)\n",
    "\n"
   ]
  },
  {
   "cell_type": "code",
   "execution_count": 95,
   "metadata": {
    "collapsed": true
   },
   "outputs": [],
   "source": [
    "both_pos = set(par_pos).intersection(set(reg_pos))\n",
    "par_only_pos = set(par_pos).difference(set(reg_pos))\n",
    "reg_only_pos = set(reg_pos).difference(set(par_pos))\n",
    "\n",
    "both_neg = set(par_neg).intersection(set(reg_neg))\n",
    "par_only_neg = set(par_neg).difference(set(reg_neg))\n",
    "reg_only_neg = set(reg_neg).difference(set(par_neg))"
   ]
  },
  {
   "cell_type": "code",
   "execution_count": 96,
   "metadata": {},
   "outputs": [
    {
     "name": "stdout",
     "output_type": "stream",
     "text": [
      "positive correlations:\n",
      "('class-independent only:', 8)\n",
      "('class-conditional only:', 11)\n",
      "('both', 6)\n",
      "negative correlations:\n",
      "('class-independent only:', 9)\n",
      "('class-conditional only:', 2)\n",
      "('both', 1)\n",
      "both directions\n",
      "('class-independent:', 17)\n",
      "('class-conditional:', 13)\n"
     ]
    }
   ],
   "source": [
    "print('positive correlations:')\n",
    "print('class-independent only:', len(reg_pos))\n",
    "print('class-conditional only:', len(par_pos))\n",
    "print('both', len(both_pos))\n",
    "print('negative correlations:')\n",
    "print('class-independent only:', len(reg_neg))\n",
    "print('class-conditional only:', len(par_neg))\n",
    "print('both', len(both_neg))\n",
    "print('both directions')\n",
    "print('class-independent:', len(reg_pos) + len(reg_neg))\n",
    "print('class-conditional:', len(par_pos) + len(par_neg))"
   ]
  },
  {
   "cell_type": "markdown",
   "metadata": {},
   "source": [
    "# Correlated ion channel genes"
   ]
  },
  {
   "cell_type": "code",
   "execution_count": null,
   "metadata": {
    "collapsed": true
   },
   "outputs": [],
   "source": [
    "import re\n",
    "from goatools.base import download_go_basic_obo\n",
    "from goatools.base import download_ncbi_associations\n",
    "from goatools.associations import read_ncbi_gene2go\n",
    "from goatools.go_search import GoSearch\n",
    "\n",
    "# Given a GO term, return a list of associated genes\n",
    "\n",
    "def goterm_to_genes(go_term):\n",
    "    obo_fname = download_go_basic_obo()\n",
    "    gene2go = download_ncbi_associations()\n",
    "    go2geneids_mouse = read_ncbi_gene2go(\"gene2go\", taxids=[10090], go2geneids=True)\n",
    "    print(\"{N} GO terms associated with mouse NCBI Entrez GeneIDs\".format(N=len(go2geneids_mouse)))\n",
    "\n",
    "    srchhelp = GoSearch(\"go-basic.obo\", go2items=go2geneids_mouse)\n",
    "    term_all = re.compile(go_term, flags=re.IGNORECASE)\n",
    "    term_not = re.compile(go_term + '.independent', flags=re.IGNORECASE)\n",
    "\n",
    "    fout_allgos = go_term + \"_gos_mouse.log\" \n",
    "    with open(fout_allgos, \"w\") as log:\n",
    "        gos_m_all = srchhelp.get_matching_gos(term_all, prt=log)\n",
    "        gos_no_m = srchhelp.get_matching_gos(term_not, gos=gos_m_all, prt=log)\n",
    "        gos = gos_m_all.difference(gos_no_m)\n",
    "        gos_all = srchhelp.add_children_gos(gos)\n",
    "        geneids = srchhelp.get_items(gos_all)\n",
    "    print('{N} mouse NCBI Entrez GeneIDs related to '.format(N=len(geneids)) + go_term + ' found.')\n",
    "    \n",
    "    return geneids"
   ]
  },
  {
   "cell_type": "code",
   "execution_count": null,
   "metadata": {
    "collapsed": true
   },
   "outputs": [],
   "source": [
    "channels_entrez = goterm_to_genes('ion channel activity')"
   ]
  },
  {
   "cell_type": "code",
   "execution_count": null,
   "metadata": {
    "collapsed": true,
    "scrolled": true
   },
   "outputs": [],
   "source": [
    "for measure in ['maxfreq', 'aphw']:\n",
    "\n",
    "    prop_channels = res[(res.property == measure) & \n",
    "                           ([gene in channels_entrez for gene in res.gene_entrez_id])]\n",
    "\n",
    "    prop_channels = prop_channels.sort_values('FDR_gene|class_anova')[:50]\n",
    "    \n",
    "    print(measure, prop_channels.iloc[-1]['FDR_gene|class_anova']) # FDR-corrected pval of #50 most significant gene\n",
    "    \n",
    "    prop_channels.to_csv('/Users/Claire/Dropbox/Allen_Institute_Stuff/Ephys_GE/Analysis/2019-04-01 Lit Curation/top50_' + measure + '.csv')"
   ]
  },
  {
   "cell_type": "markdown",
   "metadata": {},
   "source": [
    "# Fig 7, Table 2\n",
    "# Example genes"
   ]
  },
  {
   "cell_type": "code",
   "execution_count": 97,
   "metadata": {
    "collapsed": true
   },
   "outputs": [],
   "source": [
    "# Get only significant gene/ephys combos\n",
    "\n",
    "res_sig_gc = res[res['FDR_gene|class_anova'] < 0.1]\n",
    "counts_gc = res_sig_gc.groupby('gene_entrez_id')['property'].count()\n",
    "res_sig_int = res[res['FDR_int_anova'] < 0.1]\n",
    "counts_int = res_sig_int.groupby('gene_entrez_id')['property'].count()\n",
    "\n",
    "res_sig = pd.concat([res_sig_gc, res_sig_int])\n",
    "res_sig.drop_duplicates(inplace = True)"
   ]
  },
  {
   "cell_type": "code",
   "execution_count": 98,
   "metadata": {
    "collapsed": true
   },
   "outputs": [],
   "source": [
    "# Add count of number of significant features for a given gene (0.1) as a column\n",
    "\n",
    "counts_col_gc = []\n",
    "counts_col_int = []\n",
    "for gene in res_sig.gene_entrez_id:\n",
    "    counts_col_gc.append(counts_gc[gene] if gene in counts_gc.index else 0)\n",
    "    counts_col_int.append(counts_int[gene] if gene in counts_int.index else 0)\n",
    "res_sig.loc[:, 'n_significant_0.1_g|c'] = counts_col_gc\n",
    "res_sig.loc[:, 'n_significant_0.1_int'] = counts_col_int"
   ]
  },
  {
   "cell_type": "markdown",
   "metadata": {},
   "source": [
    "# Online tables 1 and 2 - beta, significance values"
   ]
  },
  {
   "cell_type": "code",
   "execution_count": 99,
   "metadata": {
    "collapsed": true
   },
   "outputs": [],
   "source": [
    "# Save as supplementary table\n",
    "\n",
    "tables_folder = '/Users/Claire/Dropbox/Allen_Institute_Stuff/Ephys_GE/Online Tables/'\n",
    "res_sig.to_csv(tables_folder + 'online_table1.csv')\n",
    "res.to_csv(tables_folder + 'online_table2.csv')"
   ]
  },
  {
   "cell_type": "code",
   "execution_count": 100,
   "metadata": {
    "collapsed": true
   },
   "outputs": [],
   "source": [
    "names_list = [id_to_name[gene] for gene in res_sig.gene_entrez_id]\n",
    "\n",
    "res_sig.loc[:, 'gene_name'] = names_list"
   ]
  },
  {
   "cell_type": "code",
   "execution_count": 101,
   "metadata": {
    "collapsed": true
   },
   "outputs": [],
   "source": [
    "# Select only genes that are:\n",
    "    # Significant (E~G|C)\n",
    "    # not near significance using E~G\n",
    "    # No interaction\n",
    "\n",
    "res_top = res_sig[(res_sig['FDR_gene|class_anova'] < 0.1) & \n",
    "                  (res_sig['FDR_gene'] > 0.2) & \n",
    "                  (res_sig['FDR_int_anova'] > 0.2)]\n",
    " \n",
    "res_top = res_top.sort_values('FDR_gene|class_anova')"
   ]
  },
  {
   "cell_type": "code",
   "execution_count": 102,
   "metadata": {},
   "outputs": [
    {
     "name": "stderr",
     "output_type": "stream",
     "text": [
      "//anaconda/envs/py27/lib/python2.7/site-packages/pandas/core/indexing.py:362: SettingWithCopyWarning: \n",
      "A value is trying to be set on a copy of a slice from a DataFrame.\n",
      "Try using .loc[row_indexer,col_indexer] = value instead\n",
      "\n",
      "See the caveats in the documentation: http://pandas.pydata.org/pandas-docs/stable/indexing.html#indexing-view-versus-copy\n",
      "  self.obj[key] = _infer_fill_value(value)\n",
      "//anaconda/envs/py27/lib/python2.7/site-packages/pandas/core/indexing.py:543: SettingWithCopyWarning: \n",
      "A value is trying to be set on a copy of a slice from a DataFrame.\n",
      "Try using .loc[row_indexer,col_indexer] = value instead\n",
      "\n",
      "See the caveats in the documentation: http://pandas.pydata.org/pandas-docs/stable/indexing.html#indexing-view-versus-copy\n",
      "  self.obj[item] = s\n"
     ]
    }
   ],
   "source": [
    "res_select = pd.DataFrame(columns = res_top.columns)\n",
    "\n",
    "# Select top 3 genes per property\n",
    "for measure in measures_all:\n",
    "    res_select = pd.concat([res_select, res_top[res_top.property == measure].iloc[:3]])\n",
    "\n",
    "# Add hand-selected genes to table & heatmap\n",
    "genes = [16485, 20266, 66725, 16498, 19337, 70208, 260305, 208846]\n",
    "measures = ['maxfreq', 'aphw', 'branchiness', 'maxfreq', 'ahpamp', 'ahpamp', 'aphw', 'aphw']\n",
    "\n",
    "for gene, measure in zip(genes, measures):\n",
    "    res_select = pd.concat([res_select, res_sig[(res_sig.gene_entrez_id == gene) & (res_sig.property == measure)]])\n",
    "    \n",
    "# Make prettier version for Table 2\n",
    "table2 = res_select[['property',\n",
    "                         'gene_symbol',\n",
    "                         'gene_name',\n",
    "                         'FDR_gene|class_anova',\n",
    "                         'beta_gene|class']]\n",
    "\n",
    "directions = ['+' if n > 0 else '-' for n in table2['beta_gene|class']]\n",
    "table2.loc[:, 'Direction'] = directions\n",
    "\n",
    "table2.loc[:, 'gene_symbol'] = [n + ('*' if n in [id_to_symbol[g] for g in genes] else '') for n in table2['gene_symbol']] \n",
    "\n",
    "table2.columns = ['Property', 'Gene', 'Gene Name', 'FDR', 'Slope', 'Direction']\n",
    "\n",
    "properties = [measure_dict[m] for m in table2.Property]\n",
    "table2.loc[:, 'Property'] = properties    "
   ]
  },
  {
   "cell_type": "code",
   "execution_count": 104,
   "metadata": {
    "collapsed": true
   },
   "outputs": [],
   "source": [
    "table2.to_csv('/Users/Claire/Dropbox/Allen_Institute_Stuff/Ephys_GE/Tables/Table2_draft3.csv')"
   ]
  },
  {
   "cell_type": "code",
   "execution_count": 105,
   "metadata": {
    "collapsed": true
   },
   "outputs": [],
   "source": [
    "measures_hm = list(res_select.property.unique())\n",
    "genes_hm = res_select.gene_symbol\n",
    "\n",
    "res_hm = res[[gene in genes_hm.values for gene in res.gene_symbol]]\n",
    "res_hm = res_hm[[m in measures_hm for m in res_hm.property]]\n",
    "\n",
    "res_hm = res_hm.pivot('gene_symbol', 'property', 'FDR_gene|class_anova')\n",
    "res_hm.columns = [measure_dict[m] for m in res_hm.columns]\n",
    "res_hm.index = [n + ('*' if n in [id_to_symbol[g] for g in genes] else '') for n in res_hm.index]    \n"
   ]
  },
  {
   "cell_type": "code",
   "execution_count": 106,
   "metadata": {
    "collapsed": true
   },
   "outputs": [],
   "source": [
    "# Without filtering for specificity, directionless, log10\n",
    "from matplotlib.colors import LogNorm\n",
    "from __future__ import unicode_literals\n",
    "\n",
    "genes = [16485, 20266, 66725, 16498, 19337, 70208, 260305, 208846]\n",
    "measures = ['maxfreq', 'aphw', 'branchiness', 'maxfreq', 'ahpamp', 'ahpamp', 'aphw', 'aphw']\n",
    "\n",
    "axes = []\n",
    "\n",
    "cmap = matplotlib.cm.viridis_r\n",
    "cmap.set_bad('lightgray',1.)\n",
    "cbar_ticks = [1e-1, 1e-3, 1e-5]\n",
    "c = sns.clustermap(res_hm, figsize = (7, 9.5), cmap = cmap, mask = res_hm >= 0.1, norm = LogNorm(vmin = res_hm.min(), vmax = 0.1), \n",
    "                   vmax = 0.1, cbar_kws = {'label' : '             q', 'ticks' : cbar_ticks}, \n",
    "                   robust = True, yticklabels = True)\n",
    "c.ax_row_dendrogram.set_visible(False)\n",
    "ax_hm = plt.gca()\n",
    "\n",
    "gs1 = GridSpec(4, 1, hspace = 0.5)\n",
    "gs2 = c.gs\n",
    "gs3 = GridSpec(4, 1, hspace = 0.5)\n",
    "gs2.set_width_ratios([0.05, 0, 1])\n",
    "ratios = gs2.get_height_ratios()\n",
    "gs2.set_height_ratios([ratios[0] / 1.2, ratios[1] / 1.2, ratios[2]])\n",
    "gs1.update(left = 0.1, right = 0.27)\n",
    "gs2.update(left = 0.32, right = 0.61, bottom = 0.25)\n",
    "gs3.update(left = 0.83, right = 1)\n",
    "\n",
    "ax_hm.yaxis.set_ticks_position('left')\n",
    "ax_hm.tick_params(axis = 'y', length=2)\n",
    "ax_hm.yaxis.set_tick_params(pad=1)\n",
    "\n",
    "axes = []\n",
    "\n",
    "for gene, measure, ypos in zip(genes[:4], measures[:4], range(4)):\n",
    "    ax = plt.subplot(gs1[ypos, 0])\n",
    "    axes.append(ax)\n",
    "    if measure == 'branchiness':\n",
    "        make_scatter(gene, measure, ax, df_seq = df_seq_morph, df_ephys = df_morph, \n",
    "                     line_labels = line_labels_morph, unit = 'CPM', s = 30) \n",
    "        ax.set_ylim(0.01, 0.04)\n",
    "    else:\n",
    "        make_scatter(gene, measure, ax, df_seq = df_seq, df_ephys = df_ephys, \n",
    "                     line_labels = line_labels, unit = 'CPM', s = 30, log = True if measure == 'maxfreq' else False)\n",
    "\n",
    "i = ax.scatter([], [], color = color_inh, marker = 'o', s = 30, alpha = 0.6)\n",
    "e = ax.scatter([], [], color = color_exc, marker = 'D', s = 30, alpha = 0.6)\n",
    "axes[0].legend([i, e], ['Inhibitory', 'Excitatory'], bbox_to_anchor=(0, 1), loc= 'lower left', frameon = True)\n",
    "\n",
    "axes.append(ax_hm)\n",
    "\n",
    "genes = [19337, 70208, 260305, 208846]\n",
    "measures = ['ahpamp', 'ahpamp', 'aphw', 'aphw']\n",
    "\n",
    "for gene, measure, ypos in zip(genes, measures, range(4)):\n",
    "    ax = plt.subplot(gs3[ypos, 0])\n",
    "    axes.append(ax)\n",
    "    make_scatter(gene, measure, ax, df_seq = df_seq, df_ephys = df_ephys, \n",
    "                     line_labels = line_labels, unit = 'CPM', s = 30)\n",
    "    \n",
    "\n",
    "for letter, ax in zip(['A', 'B', 'C', 'D', 'E', 'F', 'G', 'H', 'I'], axes):\n",
    "    y = 1.1 if letter == 'E' else 1.02\n",
    "    ax.annotate(letter, (-0.05, y), ha = 'right', va = 'bottom', xycoords = 'axes fraction', weight = 'bold')        \n",
    "    \n",
    "plt.savefig('/Users/Claire/Dropbox/Allen_Institute_Stuff/Ephys_GE/Figures/Fig7_draft6.tiff', \n",
    "            bbox_inches = 'tight', dpi = 300)    \n",
    "plt.clf()"
   ]
  },
  {
   "cell_type": "markdown",
   "metadata": {
    "collapsed": true
   },
   "source": [
    "# Table S1 - cell type definitions & counts"
   ]
  },
  {
   "cell_type": "code",
   "execution_count": null,
   "metadata": {
    "collapsed": true
   },
   "outputs": [],
   "source": [
    "counts_ephys = pd.read_csv('/Users/Claire/Dropbox/Allen_Institute_Stuff/Ephys_GE/Analysis/2018-10-09/Counts.csv', index_col = 0)\n",
    "counts_morph = pd.read_csv('/Users/Claire/Dropbox/Allen_Institute_Stuff/Ephys_GE/Analysis/2018-10-16/Counts.csv', index_col = 0)\n",
    "\n",
    "counts_ephys.index = pd.MultiIndex.from_tuples([tuple(n.split('__')) for n in counts_ephys.index])\n",
    "counts_morph.index = pd.MultiIndex.from_tuples([tuple(n.split('__')) for n in counts_morph.index])\n",
    "\n",
    "counts_morph.columns = ['RNA_seq_duplicate', 'Morphology']\n",
    "counts_combined = pd.concat([counts_ephys, counts_morph], axis = 1)\n",
    "counts_combined.RNA_seq = counts_combined.RNA_seq.combine_first(counts_combined.RNA_seq_duplicate)\n",
    "counts_combined.drop(['RNA_seq_duplicate'], axis = 1, inplace = True)\n",
    "\n",
    "count_cells = counts_combined.sum(axis = 0)\n",
    "count_types = counts_combined.count(axis = 0)\n",
    "\n",
    "counts_combined.loc[('Number of Cells', '', '')] = count_cells\n",
    "counts_combined.loc[('Number of Types', '', '')] = count_types\n",
    "\n",
    "counts_combined.to_csv('/Users/Claire/Dropbox/Allen_Institute_Stuff/Ephys_GE/Tables/TableS1.csv')"
   ]
  },
  {
   "cell_type": "markdown",
   "metadata": {},
   "source": [
    "# AIC plots"
   ]
  },
  {
   "cell_type": "code",
   "execution_count": null,
   "metadata": {
    "collapsed": true
   },
   "outputs": [],
   "source": [
    "fig, axes = plt.subplots(3, 3, figsize = (7, 7))\n",
    "\n",
    "df = res[res.ephys_measure == 'ahpamp']\n",
    "\n",
    "for ypos, x in enumerate(['model1', 'model2', 'model3']):\n",
    "    for xpos, y, c in zip(range(3), ['model2', 'model3', 'model4'], ['pval_gene', 'pval_gene|class_anova', 'pval_int_anova']):\n",
    "        ax = axes[ypos, xpos]\n",
    "        if (x != y) & (xpos >= ypos):\n",
    "            s = ax.scatter(df[x + '_aic'], df[y + '_aic'], c = df['pval_gene|class_anova'], cmap = 'viridis', s = 3, alpha = 0.5)\n",
    "            ax.set_xlabel(x + ' AIC')\n",
    "            ax.set_ylabel(y + ' AIC')\n",
    "            ax.plot([ax.get_xlim()[0], ax.get_xlim()[1]], [ax.get_xlim()[0], ax.get_xlim()[1]], '-', color = 'black', linewidth = 0.5)\n",
    "        else:\n",
    "            ax.axis('off')\n",
    "\n",
    "# plt.colorbar(s)\n",
    "plt.tight_layout()\n",
    "plt.show()"
   ]
  },
  {
   "cell_type": "markdown",
   "metadata": {},
   "source": [
    "# Interactions and EI balance\n",
    "cool idea but didn't work\n",
    "\n",
    "We wanted to see whether genes with a known association with epilepsy would be more likely to show a significant interaction for properties like maximum frequency or F/I curve slope. This would make sense, since differentially regulating these properties in different classes might make perturbing them more likely to shift E/I balance. This didn't really pan out, which I think it just attributable to things like circuit effects, indirect regulation of firing frequency, biology is complicated, etc.\n",
    "\n",
    "Epilepsy gene lists from:  \n",
    "http://www.wzgenomics.cn/EpilepsyGene/download.php  \n",
    "https://erminej.msl.ubc.ca/help/input-files/gene-sets/"
   ]
  },
  {
   "cell_type": "code",
   "execution_count": null,
   "metadata": {
    "collapsed": true
   },
   "outputs": [],
   "source": [
    "fi = res[(res.ephys_measure == 'f_i_curve_slope') & \n",
    "    (res.FDR_int_anova < 0.1) & \n",
    "    (res.slope_inh > res.slope_exc)]['gene_entrez_id'].values\n",
    "\n",
    "mf = res[(res.ephys_measure == 'maxfreq') & \n",
    "    (res.FDR_int_anova < 0.1) & \n",
    "    (res.slope_inh > res.slope_exc)]['gene_entrez_id'].values\n",
    "\n"
   ]
  },
  {
   "cell_type": "code",
   "execution_count": null,
   "metadata": {
    "collapsed": true
   },
   "outputs": [],
   "source": [
    "len(fi)"
   ]
  },
  {
   "cell_type": "code",
   "execution_count": null,
   "metadata": {
    "collapsed": true
   },
   "outputs": [],
   "source": [
    "len(mf)"
   ]
  },
  {
   "cell_type": "code",
   "execution_count": null,
   "metadata": {
    "collapsed": true
   },
   "outputs": [],
   "source": [
    "fi_mf = list(set(fi).union(set(mf)))"
   ]
  },
  {
   "cell_type": "code",
   "execution_count": null,
   "metadata": {
    "collapsed": true
   },
   "outputs": [],
   "source": [
    "len(fi_mf)"
   ]
  },
  {
   "cell_type": "code",
   "execution_count": null,
   "metadata": {
    "collapsed": true
   },
   "outputs": [],
   "source": [
    "fi_mf_names = [id_to_symbol[n] for n in fi_mf]"
   ]
  },
  {
   "cell_type": "code",
   "execution_count": null,
   "metadata": {
    "collapsed": true
   },
   "outputs": [],
   "source": [
    "'Scn1a' in fi_mf_names"
   ]
  },
  {
   "cell_type": "code",
   "execution_count": null,
   "metadata": {
    "collapsed": true
   },
   "outputs": [],
   "source": [
    "epilepsy = []\n",
    "\n",
    "with open('/Users/Claire/Dropbox/Allen_Institute_Stuff/Ephys_GE/Phenocarta_ErmineJ_mouseGenesets.tsv', 'r') as f:\n",
    "    for line in f:\n",
    "        l = line.strip().split('\\t')\n",
    "        if len(l) > 2:\n",
    "            if 'epilepsy' in str(l[1]):\n",
    "                epilepsy = epilepsy + l[2:]\n",
    "\n",
    "epilepsy = [str(n) for n in epilepsy]"
   ]
  },
  {
   "cell_type": "code",
   "execution_count": null,
   "metadata": {
    "collapsed": true
   },
   "outputs": [],
   "source": [
    "epilepsy_specific = []\n",
    "epilepsy_labels = []\n",
    "\n",
    "with open('/Users/Claire/Dropbox/Allen_Institute_Stuff/Ephys_GE/Phenocarta_ErmineJ_mouseGenesets.tsv', 'r') as f:\n",
    "    for line in f:\n",
    "        l = line.strip().split('\\t')\n",
    "        if len(l) > 2:\n",
    "            if 'epilepsy' in str(l[1]):\n",
    "                epilepsy_specific.append([str(n) for n in l[2:]])\n",
    "                epilepsy_labels.append(str(l[1]))\n",
    "\n"
   ]
  },
  {
   "cell_type": "code",
   "execution_count": null,
   "metadata": {
    "collapsed": true
   },
   "outputs": [],
   "source": [
    "set(fi_mf_names).intersection(set(epilepsy))"
   ]
  },
  {
   "cell_type": "code",
   "execution_count": null,
   "metadata": {
    "collapsed": true
   },
   "outputs": [],
   "source": [
    "len(fi_mf_names)"
   ]
  },
  {
   "cell_type": "code",
   "execution_count": null,
   "metadata": {
    "collapsed": true
   },
   "outputs": [],
   "source": [
    "epilepsy2 = pd.read_table('/Users/Claire/Dropbox/Allen_Institute_Stuff/Ephys_GE/high-confidence-gene.xls')\n",
    "\n",
    "epilepsy2.columns = ['Category',\n",
    " 'Gene_symbol',\n",
    " 'Number of mutations',\n",
    " 'Score',\n",
    " 'Related phenotpes']"
   ]
  },
  {
   "cell_type": "code",
   "execution_count": null,
   "metadata": {
    "collapsed": true
   },
   "outputs": [],
   "source": [
    "# gene_map = pd.read_csv('/Users/Claire/Dropbox/Allen_Institute_Stuff/Ephys_GE/Transcription_Factors/all_genes_human_mouse.csv', index_col = 0)\n",
    "\n",
    "# m_to_h = {}\n",
    "# h_to_m = {}\n",
    "# for hgene in gene_map.index:\n",
    "#     mgene = gene_map.loc[hgene].values[0]\n",
    "#     if isinstance(mgene, np.ndarray):\n",
    "#         mgene = mgene[0]\n",
    "#     if isinstance(mgene, str) and isinstance(hgene, str):\n",
    "#         m_to_h[mgene] = hgene\n",
    "#         h_to_m[hgene] = mgene"
   ]
  },
  {
   "cell_type": "code",
   "execution_count": null,
   "metadata": {
    "collapsed": true
   },
   "outputs": [],
   "source": [
    "epilepsy2['gene_symbol_mouse'] = [h_to_m[n] if n in h_to_m.keys() else np.nan for n in epilepsy2.Gene_symbol]"
   ]
  },
  {
   "cell_type": "code",
   "execution_count": null,
   "metadata": {
    "collapsed": true
   },
   "outputs": [],
   "source": [
    "epilepsy2.dropna(inplace = True)"
   ]
  },
  {
   "cell_type": "code",
   "execution_count": null,
   "metadata": {
    "collapsed": true
   },
   "outputs": [],
   "source": [
    "epilepsy_all = set(epilepsy2['gene_symbol_mouse']).union(epilepsy)"
   ]
  },
  {
   "cell_type": "code",
   "execution_count": null,
   "metadata": {
    "collapsed": true
   },
   "outputs": [],
   "source": [
    "len(epilepsy_all)"
   ]
  },
  {
   "cell_type": "code",
   "execution_count": null,
   "metadata": {
    "collapsed": true
   },
   "outputs": [],
   "source": [
    "set(fi_mf_names).intersection(set(epilepsy))"
   ]
  },
  {
   "cell_type": "code",
   "execution_count": null,
   "metadata": {
    "collapsed": true
   },
   "outputs": [],
   "source": [
    "for label, epgenes in zip(epilepsy_labels, epilepsy_specific):\n",
    "    fig, ax = plt.subplots()\n",
    "\n",
    "    measure = 'f_i_curve_slope'\n",
    "    res_subset = res[res.ephys_measure == measure]\n",
    "    xy_genes = subset['gene_symbol']\n",
    "    x = subset['slope_exc']\n",
    "    y = subset['slope_inh']\n",
    "    z = subset['FDR_int_anova']\n",
    "    xy = pd.DataFrame([xy_genes, x, y, z], index = ['gene_symbol', 'x', 'y', 'z']).T\n",
    "    xy.dropna(inplace = True)\n",
    "    xy1 = xy[xy.z < 0.1]\n",
    "    xy2 = xy[xy.z >= 0.1]\n",
    "    s2 = ax.scatter(xy2.x, xy2.y, color = 'grey', s = 1, alpha = 1, label = 'no interaction')\n",
    "    s1 = ax.scatter(xy1.x, xy1.y, color = color_int, s = 1, alpha = 1, label = 'interaction')\n",
    "    xy['epilepsy'] = [1 if n in epgenes else 0 for n in xy.gene_symbol]\n",
    "    xy_epilepsy = xy[xy.epilepsy == 1]\n",
    "    s0 = ax.scatter(xy_epilepsy.x, xy_epilepsy.y, color = 'red', s = 5, alpha = 1, label = label)\n",
    "    xlim = np.percentile(xy.x, 1), np.percentile(xy.x, 99)\n",
    "    ylim = np.percentile(xy.y, 1), np.percentile(xy.y, 99)\n",
    "    ax.plot([0, 0], ylim, color = 'black')\n",
    "    ax.plot(xlim, [0, 0], color = 'black')\n",
    "    ax.set_xlim(xlim)fig \n",
    "    ax.set_ylim(ylim)\n",
    "    ax.set_xlabel('Slope Excitatory')\n",
    "    ax.set_ylabel('Slope Inhibitory')\n",
    "    plt.legend(loc = 'upper left', bbox_to_anchor = (1, 1))\n",
    "\n",
    "    plt.show()"
   ]
  },
  {
   "cell_type": "markdown",
   "metadata": {
    "collapsed": true
   },
   "source": [
    "# Get beta SEM values for selected genes"
   ]
  },
  {
   "cell_type": "code",
   "execution_count": null,
   "metadata": {
    "collapsed": true
   },
   "outputs": [],
   "source": [
    "import statsmodels.formula.api as smf\n",
    "from statsmodels.stats.anova import anova_lm\n",
    "import statsmodels.api as sm\n",
    "\n",
    "# fit linear models explaining ephys according to gene expression and/or cell class\n",
    "# returns a summary dataframe containing beta values, class-specific slopes, and p-values\n",
    "\n",
    "def fit_models(df_seq, df_var2, line_labels, genes, measures, zero_threshold = 2, min_samples = 10):\n",
    "    \n",
    "    result_list = []\n",
    "    result_dict = {}\n",
    "        \n",
    "    line_labels = pd.DataFrame([{1 : 'exc', 0 : 'inh'}[n] for n in line_labels], index = df_var2.columns, columns = ['cell_class'])\n",
    "    \n",
    "    # For each combination of gene and measure, pull out data into x and y variables\n",
    "    for n, measure in enumerate(measures):\n",
    "        for m, gene in enumerate(genes):\n",
    "            if (gene in df_seq.index) & ((df_seq.loc[gene] > 1).sum() >= min_samples):\n",
    "                x = df_seq.loc[gene, :]\n",
    "                y = df_var2.loc[measure, :]\n",
    "                \n",
    "                # If shapes of x and y make sense, create models\n",
    "                if x.shape == (df_var2.shape[1],) and y.shape == (df_var2.shape[1],):\n",
    "                                  \n",
    "                    # Make a data frame with x and y data plus cell class\n",
    "                    df_int = pd.concat([x, y, line_labels], axis = 1)\n",
    "                    gene_idx = 'Gene' + str(gene)\n",
    "                    df_int.rename(columns = {gene: gene_idx}, inplace = True)\n",
    "\n",
    "                    # Calculate models\n",
    "                    mod1 = smf.ols(formula = measure + ' ~ ' + ' +  ' + gene_idx, data = df_int)\n",
    "                    res1 = mod1.fit()\n",
    "\n",
    "                    # run class-based models only if both cell types present\n",
    "                    if set(df_int['cell_class']) == {'exc', 'inh'}:\n",
    "                        mod2 = smf.ols(formula = measure + ' ~ ' + 'C(cell_class)', data = df_int)\n",
    "                        mod3 = smf.ols(formula = measure + ' ~ ' + gene_idx + ' + C(cell_class)', data = df_int)\n",
    "                        mod4 = smf.ols(formula = measure + ' ~ ' + gene_idx + ' + C(cell_class) + ' + gene_idx + ' * C(cell_class)', data = df_int)\n",
    "                        res2 = mod2.fit()\n",
    "                        res3 = mod3.fit()\n",
    "                        res4 = mod4.fit()\n",
    "\n",
    "                        a1 = anova_lm(res2, res3)\n",
    "                        a2 = anova_lm(res3, res4)\n",
    "\n",
    "                        result_dict[(gene, measure, 'class-independent')] = res1\n",
    "                        result_dict[(gene, measure, 'class-conditional')] = res3\n",
    "\n",
    "                        results = [measure, gene, \n",
    "                                   res1.params[gene_idx], res3.params[gene_idx],  \n",
    "                                   res4.params[gene_idx], res4.params[gene_idx] + res4.params[gene_idx + ':C(cell_class)[T.inh]'], \n",
    "                                   res1.pvalues[gene_idx], a1.loc[1, 'Pr(>F)'], a2.loc[1, 'Pr(>F)'], \n",
    "                                   res1.aic, res2.aic, res3.aic, res4.aic]\n",
    "                    else:\n",
    "                        results = [measure, gene, \n",
    "                                   res1.params[gene_idx], np.nan, \n",
    "                                   np.nan, np.nan, \n",
    "                                   res1.pvalues[gene_idx], np.nan, np.nan, \n",
    "                                   res1.aic, np.nan, np.nan, np.nan]\n",
    "\n",
    "                    result_list.append(results)\n",
    "                    \n",
    "    # Convert to dataframe\n",
    "    df = pd.DataFrame(result_list, columns = ['ephys_measure', 'gene_entrez_id', \n",
    "                                              'beta_gene', 'beta_gene|class', \n",
    "                                              'slope_exc', 'slope_inh', \n",
    "                                              'pval_gene', 'pval_gene|class_anova', 'pval_int_anova', \n",
    "                                              'model1_aic', 'model2_aic', 'model3_aic', 'model4_aic'])\n",
    "    return df, result_dict"
   ]
  },
  {
   "cell_type": "code",
   "execution_count": null,
   "metadata": {
    "collapsed": true
   },
   "outputs": [],
   "source": [
    "# Genes: Atp2a2, Kcna1, Fxyd6\n",
    "\n",
    "df_test, result_dict = fit_models(df_seq, df_ephys, line_labels, \n",
    "                                  [11938, 16485, 59095], ['aphw', 'ahpamp_log10'])"
   ]
  },
  {
   "cell_type": "code",
   "execution_count": null,
   "metadata": {
    "collapsed": true
   },
   "outputs": [],
   "source": [
    "df_test"
   ]
  },
  {
   "cell_type": "code",
   "execution_count": null,
   "metadata": {
    "collapsed": true
   },
   "outputs": [],
   "source": [
    "res_ind = result_dict[(59095, u'ahpamp_log10', u'class-conditional')]\n",
    "res_ind.summary()"
   ]
  },
  {
   "cell_type": "code",
   "execution_count": null,
   "metadata": {
    "collapsed": true
   },
   "outputs": [],
   "source": []
  }
 ],
 "metadata": {
  "kernelspec": {
   "display_name": "Python 2",
   "language": "python",
   "name": "python2"
  },
  "language_info": {
   "codemirror_mode": {
    "name": "ipython",
    "version": 2
   },
   "file_extension": ".py",
   "mimetype": "text/x-python",
   "name": "python",
   "nbconvert_exporter": "python",
   "pygments_lexer": "ipython2",
   "version": "2.7.13"
  }
 },
 "nbformat": 4,
 "nbformat_minor": 2
}
