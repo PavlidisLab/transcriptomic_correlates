{
 "cells": [
  {
   "cell_type": "markdown",
   "metadata": {},
   "source": [
    "Analyses from SWDB are in V1 file\n",
    "\n",
    "\n",
    "Copied everything over so that I can change function definitions without breaking everything (2017-09-18)\n",
    "\n",
    "Copied again for (hopefully!) finalized analysis (2017-10-12)\n",
    "\n",
    "New version with newest ephys data (2017-10-25)\n",
    "\n",
    "Re-analyze using newest ephys & RNA-seq data downloaded 2018-06-19 (many more cells in RNA-seq set)\n",
    "\n",
    "Re-do using linear model instead of partial correlations (started 2018-09-25)\n",
    "\n",
    "Morphology data (run separately because numbers of cells per type is v different (2018-10-16)"
   ]
  },
  {
   "cell_type": "code",
   "execution_count": 1,
   "metadata": {},
   "outputs": [
    {
     "name": "stderr",
     "output_type": "stream",
     "text": [
      "//anaconda/envs/py27/lib/python2.7/site-packages/statsmodels/compat/pandas.py:56: FutureWarning: The pandas.core.datetools module is deprecated and will be removed in a future version. Please use the pandas.tseries module instead.\n",
      "  from pandas.core import datetools\n"
     ]
    }
   ],
   "source": [
    "# Imports\n",
    "\n",
    "import sys\n",
    "import os\n",
    "\n",
    "import pandas as pd\n",
    "import numpy as np\n",
    "\n",
    "from scipy import stats\n",
    "from statsmodels.sandbox.stats.multicomp import fdrcorrection0\n",
    "from statsmodels.stats.anova import anova_lm\n",
    "import statsmodels.api as sm\n",
    "import statsmodels.formula.api as smf\n",
    "\n",
    "import matplotlib.pyplot as plt\n",
    "from matplotlib_venn import venn3\n",
    "from matplotlib_venn import venn2\n",
    "from matplotlib_venn import venn2_circles\n",
    "import seaborn as sns\n",
    "%matplotlib inline\n"
   ]
  },
  {
   "cell_type": "code",
   "execution_count": 2,
   "metadata": {
    "collapsed": true
   },
   "outputs": [],
   "source": [
    "# Transform AIBS dataset downloaded from website (ran once & saved)\n",
    "# Log2(TPM + 1)\n",
    "\n",
    "# ds = pd.read_csv('/Users/Claire/Dropbox/Allen_Institute_Stuff/Ephys_GE/mouse_VISp_gene_expression_matrices_2018-06-14/mouse_VISp_2018-06-14_exon-matrix.csv', index_col = 0)\n",
    "\n",
    "# ds_plus_1 = ds.values + 1\n",
    "\n",
    "# ds_log = np.log2(ds_plus_1)\n",
    "# ds_log_df = pd.DataFrame(ds_log, index = ds.index, columns = ds.columns)\n",
    "# ds_log_df.to_csv('/Users/Claire/Dropbox/Allen_Institute_Stuff/Ephys_GE/mouse_VISp_gene_expression_matrices_2018-06-14/mouse_VISp_2018-06-14_exon-matrix_log.csv')\n"
   ]
  },
  {
   "cell_type": "code",
   "execution_count": 3,
   "metadata": {
    "collapsed": true
   },
   "outputs": [],
   "source": [
    "# Returns a dictionary mapping from cell ID to cell type, based on a dataframe containing cell type definitions\n",
    "\n",
    "def assign_cell_types(raw, mapping, name_to_cre, name_to_class, name_to_layer):\n",
    "\n",
    "    layer_range_dict = {'L1' : ['L1'],\n",
    "                        'L1-L2/3' : ['L1', 'L2/3', 'L1-L2/3'],\n",
    "                        'L1-L4' : ['L1', 'L2/3', 'L4', 'L1-L2/3', 'L2/3-L4', 'L1-L4'],\n",
    "                        'L1-L6' : ['L2/3', 'L4-L6', 'L1-L2/3', 'L4-L5', 'L6b', 'L2/3-L4', 'L6', 'L5-L6', 'L4', 'L5', 'L1', 'L1-L6', 'L1-L4'],\n",
    "                        'L2/3' : ['L2/3'],\n",
    "                        'L2/3-L4' : ['L2/3', 'L4', 'L2/3-L4'],\n",
    "                        'L4' : ['L4'],\n",
    "                        'L4-L6' : ['L4', 'L5', 'L6', 'L4-L5', 'L5-L6', 'L4-L6'],\n",
    "                        'L5' : ['L5'],\n",
    "                        'L5-L6' : ['L5', 'L6', 'L5-L6'],\n",
    "                        'L6' : ['L6']}    \n",
    "\n",
    "    name_to_type = {cell: 'None' for cell in raw.columns}\n",
    "\n",
    "    for row in mapping.iterrows():\n",
    "        line, layer, cell_class = row[1][['driver_lines', 'brain_subregion', 'class']]\n",
    "        defined_type = '__'.join([line, layer, cell_class])\n",
    "        for cell in raw.columns:\n",
    "            if name_to_cre[cell] == line:\n",
    "                if name_to_class[cell] == cell_class:\n",
    "                    if name_to_layer[cell] in layer_range_dict[layer]:\n",
    "                        name_to_type[cell] = defined_type\n",
    "\n",
    "    return name_to_type"
   ]
  },
  {
   "cell_type": "code",
   "execution_count": 4,
   "metadata": {
    "collapsed": true
   },
   "outputs": [],
   "source": [
    "# calculates means, SEMs, and counts for each cell type\n",
    "# If keep_first_only is set to True, returns only the first column of the count dataframe since this is mostly redundant\n",
    "\n",
    "def collapse(raw, name_to_type, keep_first_only = False):\n",
    "    \n",
    "    raw = raw.copy()\n",
    "    raw.columns = [name_to_type[cell] for cell in raw.columns]\n",
    "    raw = raw.loc[:, raw.columns != 'None']\n",
    "\n",
    "    raw = raw.astype(float)\n",
    "    groups = raw.groupby(raw.columns, axis = 1)\n",
    "    mean = groups.mean()\n",
    "    sem = groups.sem()\n",
    "    count_complete = groups.count()\n",
    "\n",
    "    threshold = [n >= 3 for n in count_complete.iloc[0].values]\n",
    "    below_threshold = [n < 3 for n in count_complete.iloc[0].values]\n",
    "    \n",
    "    mean = mean.loc[: , threshold]\n",
    "    sem = sem.loc[: , threshold]\n",
    "    count = count_complete.loc[: , threshold]\n",
    "    dropped_types = count_complete.loc[:, below_threshold].iloc[0]\n",
    "    \n",
    "    if keep_first_only:\n",
    "        count = count.iloc[0]\n",
    "        count_complete = count_complete.iloc[0]\n",
    "\n",
    "    return mean, sem, count, count_complete, dropped_types\n"
   ]
  },
  {
   "cell_type": "code",
   "execution_count": 5,
   "metadata": {
    "collapsed": true
   },
   "outputs": [],
   "source": [
    "# Merge two dataframes containing cell counts for each type\n",
    "# If drop is set to True, include only types which are shared across data modalities\n",
    "\n",
    "def merge_counts(seq_counts, morph_counts, drop = True):\n",
    "    counts = pd.concat([seq_counts.T, morph_counts.T], axis = 1, sort = False)\n",
    "    if drop:\n",
    "        counts.dropna(inplace = True)\n",
    "        counts = counts.astype(int)\n",
    "    \n",
    "    return counts"
   ]
  },
  {
   "cell_type": "code",
   "execution_count": 6,
   "metadata": {
    "collapsed": true
   },
   "outputs": [],
   "source": [
    "# fit linear models explaining morphology according to gene expression and/or cell class\n",
    "# returns a summary dataframe containing beta values, class-specific slopes, and p-values\n",
    "\n",
    "def fit_models(df_seq, df_var2, line_labels, zero_threshold = 2, min_samples = 10):\n",
    "    \n",
    "    measures = df_var2.index\n",
    "    genes = df_seq.index\n",
    "    \n",
    "    result_list = []\n",
    "    \n",
    "    line_labels = pd.DataFrame(line_labels, index = df_var2.columns, columns = ['cell_class'])\n",
    "    \n",
    "    # For each combination of gene and measure, pull out data into x and y variables\n",
    "    for n, measure in enumerate(measures):\n",
    "        for m, gene in enumerate(genes):\n",
    "            if (gene in df_seq.index) & ((df_seq.loc[gene] > 1).sum() >= min_samples):\n",
    "                x = df_seq.loc[gene, :]\n",
    "                y = df_var2.loc[measure, :]\n",
    "                \n",
    "                # If shapes of x and y make sense, create models\n",
    "                if x.shape == (df_var2.shape[1],) and y.shape == (df_var2.shape[1],):\n",
    "                                  \n",
    "                    # Remove all zero values if there are more than the specified threshold value                \n",
    "                    not_zero = [val > 0 for val in x]\n",
    "                    if not_zero.count(False) >= zero_threshold:\n",
    "                        x = x[not_zero]\n",
    "                        y = y[not_zero]\n",
    "                        line_labels_gene = line_labels[not_zero]\n",
    "                    else:\n",
    "                        line_labels_gene = line_labels\n",
    "                    \n",
    "                    if not_zero.count(True) >= min_samples:\n",
    "\n",
    "                        # Make a data frame with x and y data plus cell class\n",
    "                        df_int = pd.concat([x, y, line_labels_gene], axis = 1)\n",
    "                        gene_idx = 'Gene' + str(gene)\n",
    "                        df_int.rename(columns = {gene: gene_idx}, inplace = True)\n",
    "\n",
    "                        # Calculate models\n",
    "                        mod1 = smf.ols(formula = measure + ' ~ ' + ' +  ' + gene_idx, data = df_int)\n",
    "                        res1 = mod1.fit()\n",
    "                        \n",
    "                        # run class-based models only if both cell types present\n",
    "                        if set(df_int['cell_class']) == {'exc', 'inh'}:\n",
    "                            mod2 = smf.ols(formula = measure + ' ~ ' + 'C(cell_class)', data = df_int)\n",
    "                            mod3 = smf.ols(formula = measure + ' ~ ' + gene_idx + ' + C(cell_class)', data = df_int)\n",
    "                            mod4 = smf.ols(formula = measure + ' ~ ' + gene_idx + ' + C(cell_class) + ' + gene_idx + ' * C(cell_class)', data = df_int)\n",
    "                            res2 = mod2.fit()\n",
    "                            res3 = mod3.fit()\n",
    "                            res4 = mod4.fit()\n",
    "\n",
    "                            a1 = anova_lm(res2, res3)\n",
    "                            a2 = anova_lm(res3, res4)\n",
    "                            \n",
    "                            results = [measure, gene, \n",
    "                                       res1.params[gene_idx], res3.params[gene_idx],  \n",
    "                                       res4.params[gene_idx], res4.params[gene_idx] + res4.params[gene_idx + ':C(cell_class)[T.inh]'], \n",
    "                                       res1.pvalues[gene_idx], a1.loc[1, 'Pr(>F)'], a2.loc[1, 'Pr(>F)'], \n",
    "                                       res1.aic, res2.aic, res3.aic, res4.aic]\n",
    "                        else:\n",
    "                            results = [measure, gene, \n",
    "                                       res1.params[gene_idx], np.nan, \n",
    "                                       np.nan, np.nan, \n",
    "                                       res1.pvalues[gene_idx], np.nan, np.nan, \n",
    "                                       res1.aic, np.nan, np.nan, np.nan]\n",
    "                                                \n",
    "                        result_list.append(results)\n",
    "                    \n",
    "    # Convert to dataframe\n",
    "    df = pd.DataFrame(result_list, columns = ['morph_measure', 'gene_entrez_id', \n",
    "                                              'beta_gene', 'beta_gene|class', \n",
    "                                              'slope_exc', 'slope_inh', \n",
    "                                              'pval_gene', 'pval_gene|class_anova', 'pval_int_anova', \n",
    "                                              'model1_aic', 'model2_aic', 'model3_aic', 'model4_aic'])\n",
    "    return df"
   ]
  },
  {
   "cell_type": "markdown",
   "metadata": {},
   "source": [
    "<h3>Load RNA seq data</h3>"
   ]
  },
  {
   "cell_type": "code",
   "execution_count": 7,
   "metadata": {
    "collapsed": true
   },
   "outputs": [],
   "source": [
    "# columns are samples and rows are genes\n",
    "\n",
    "path_seq = '/Users/Claire/Dropbox/Allen_Institute_Stuff/Ephys_GE/mouse_VISp_gene_expression_matrices_2018-06-14/'\n",
    "filename_seq_log = 'mouse_VISp_2018-06-14_exon-matrix_log.csv'\n",
    "filename_samples = 'mouse_VISp_2018-06-14_samples-columns.csv'\n",
    "\n",
    "seq_raw = pd.read_csv(path_seq + filename_seq_log, index_col = 0)\n",
    "cell_info = pd.read_csv(path_seq + filename_samples, index_col = 0)\n",
    "\n",
    "cell_info = pd.DataFrame([cell_info['driver_lines'], cell_info['brain_subregion'], \n",
    "                          cell_info['class'], cell_info['tdt_cpm'] > 0], \n",
    "                         index = ['cre', 'layer_dissection', 'major_class', 'tdTom']).T\n",
    "seq_name_to_cre = cell_info['cre'].to_dict()\n",
    "seq_name_to_layer = cell_info['layer_dissection'].to_dict()\n",
    "cell_info['major_class'] = ['exc' if n == 'Glutamatergic' else 'inh' if n == 'GABAergic' else \"Other\" for n in cell_info['major_class']]\n",
    "\n",
    "# Filter out cells that were cre-negative or that did not pass qc, as well as non-neuronal cells\n",
    "seq_name_to_tdTom = cell_info['tdTom'].to_dict()\n",
    "seq_name_to_class = cell_info['major_class'].to_dict()\n",
    "seq_raw = seq_raw.loc[:, [seq_name_to_tdTom[n] for n in seq_raw.columns]]\n",
    "seq_raw = seq_raw.loc[:, [(seq_name_to_class[n] == 'inh') | (seq_name_to_class[n] == 'exc') for n in seq_raw.columns]]\n"
   ]
  },
  {
   "cell_type": "markdown",
   "metadata": {},
   "source": [
    "<h3>Load morphology data</h3>"
   ]
  },
  {
   "cell_type": "code",
   "execution_count": 37,
   "metadata": {
    "collapsed": true
   },
   "outputs": [],
   "source": [
    "morph_features = ['branchiness', 'average_bifurcation_angle_local', 'max_branch_order', \n",
    "                  'soma_surface', 'total_length', 'total_volume']\n",
    "\n",
    "path_morph = '/Users/Claire/Dropbox/Allen_Institute_Stuff/Ephys_GE/Ephys_Data/'\n",
    "filename_morph = 'aibs_aggregated_morpho_v7.csv'\n",
    "\n",
    "morph_raw = pd.read_csv(path_morph + filename_morph, index_col = 0)\n",
    "\n",
    "morph_raw = morph_raw[morph_raw.superseded == False]\n",
    "morph_raw = morph_raw[~morph_raw.structure_area_abbrev.isna()]\n",
    "morph_raw = morph_raw[morph_raw.reporter_status == 'positive']\n",
    "morph_raw['structure_layer_name'] =['L' + n.replace('a', '').replace('b', '') for n in morph_raw['structure_layer_name']]\n",
    "morph_raw['EI'] = ['exc' if dendrite == 'spiny' else 'inh' if dendrite in ['aspiny', 'sparsely spiny'] else 'Unknown' for dendrite in morph_raw.dendrite_type]\n",
    "morph_raw.index = morph_raw.specimen_id\n",
    "morph_name_to_cre = morph_raw['transgenic_line'].to_dict()\n",
    "morph_name_to_layer = morph_raw['structure_layer_name'].to_dict()\n",
    "morph_name_to_class = morph_raw['EI'].to_dict()\n",
    "morph_raw['branchiness'] = morph_raw['number_branches'] / morph_raw['total_length']\n",
    "morph_raw = morph_raw[morph_features].T\n"
   ]
  },
  {
   "cell_type": "code",
   "execution_count": 38,
   "metadata": {},
   "outputs": [
    {
     "data": {
      "text/plain": [
       "(6, 471)"
      ]
     },
     "execution_count": 38,
     "metadata": {},
     "output_type": "execute_result"
    }
   ],
   "source": [
    "morph_raw.shape"
   ]
  },
  {
   "cell_type": "markdown",
   "metadata": {},
   "source": [
    "<h3>Assign cell type labels</h3>"
   ]
  },
  {
   "cell_type": "code",
   "execution_count": 10,
   "metadata": {
    "collapsed": true
   },
   "outputs": [],
   "source": [
    "mapping = pd.read_csv('/Users/Claire/Dropbox/Allen_Institute_Stuff/Ephys_GE/2018_mapping_Sept2018.csv', index_col = 0)\n",
    "mapping['class'] = ['exc' if n == 'Glutamatergic' else 'inh' if n == 'GABAergic' else n for n in mapping['class']]"
   ]
  },
  {
   "cell_type": "code",
   "execution_count": 11,
   "metadata": {
    "collapsed": true
   },
   "outputs": [],
   "source": [
    "seq_name_to_type = assign_cell_types(seq_raw, mapping, seq_name_to_cre, seq_name_to_class, seq_name_to_layer)\n",
    "morph_name_to_type = assign_cell_types(morph_raw, mapping, morph_name_to_cre, morph_name_to_class, morph_name_to_layer)"
   ]
  },
  {
   "cell_type": "markdown",
   "metadata": {},
   "source": [
    "<h3>Average across cell types, combine RNA-seq + morphology</h3>"
   ]
  },
  {
   "cell_type": "code",
   "execution_count": 12,
   "metadata": {
    "scrolled": true
   },
   "outputs": [
    {
     "name": "stdout",
     "output_type": "stream",
     "text": [
      "Dropped because not present in RNA-seq data:\n",
      "['Scnn1a-Tg3-Cre__L5-L6__exc']\n",
      "Dropped because not present in morphology data:\n",
      "['Slc32a1-T2A-FlpO|Vipr2-IRES2-Cre__L5-L6__inh', 'Chrna2-Cre_OE25|Pvalb-T2A-Dre__L5-L6__inh', 'Nos1-CreERT2__L5-L6__exc', 'Scnn1a-Tg3-Cre__L5-L6__inh', 'Htr3a-Cre_NO152__L1__inh', 'Htr3a-Cre_NO152__L5-L6__exc', 'Gad2-IRES-Cre__L4__inh', 'Htr3a-Cre_NO152|Pvalb-T2A-Dre__L1-L4__inh', 'Vipr2-IRES2-Cre__L1-L6__exc', 'Oxtr-T2A-Cre__L5-L6__inh', 'Nkx2-1-CreERT2__L5-L6__inh', 'Vip-IRES-Cre__L5__inh', 'Rbp4-Cre_KL100__L6__exc', 'Gad2-IRES-Cre__L6__inh', 'Chrna2-Cre_OE25__L6__inh']\n"
     ]
    }
   ],
   "source": [
    "seq_mean, seq_sem, seq_count, seq_count_complete, dropped_seq = collapse(seq_raw, seq_name_to_type, keep_first_only = True)\n",
    "morph_mean, morph_sem, morph_count, morph_count_complete, dropped_morph = collapse(morph_raw, morph_name_to_type)\n",
    "\n",
    "dropped = list(dropped_morph.keys()) + list(dropped_seq.keys())\n",
    "\n",
    "types_intersect = list(set(seq_mean.columns) & set(morph_mean.columns))\n",
    "morph_only = list(set(morph_mean.columns).difference(set(seq_mean.columns)))\n",
    "seq_only = list(set(seq_mean.columns).difference(set(morph_mean.columns)))\n",
    "print('Dropped because not present in RNA-seq data:')\n",
    "print(morph_only)\n",
    "print('Dropped because not present in morphology data:')\n",
    "print(seq_only)\n",
    "seq_mean = seq_mean.reindex(types_intersect, axis = 1)\n",
    "morph_mean = morph_mean.reindex(types_intersect, axis = 1)\n",
    "\n",
    "dropped = dropped + morph_only + seq_only"
   ]
  },
  {
   "cell_type": "code",
   "execution_count": 13,
   "metadata": {},
   "outputs": [
    {
     "name": "stdout",
     "output_type": "stream",
     "text": [
      "branchiness\n"
     ]
    },
    {
     "data": {
      "image/png": "[encoded data removed]",
      "text/plain": [
       "<matplotlib.figure.Figure at 0x1664c9410>"
      ]
     },
     "metadata": {},
     "output_type": "display_data"
    },
    {
     "name": "stdout",
     "output_type": "stream",
     "text": [
      "average_bifurcation_angle_local\n"
     ]
    },
    {
     "data": {
      "image/png": "[encoded data removed]",
      "text/plain": [
       "<matplotlib.figure.Figure at 0x169b80d50>"
      ]
     },
     "metadata": {},
     "output_type": "display_data"
    },
    {
     "name": "stdout",
     "output_type": "stream",
     "text": [
      "max_branch_order\n"
     ]
    },
    {
     "data": {
      "image/png": "[encoded data removed]",
      "text/plain": [
       "<matplotlib.figure.Figure at 0x113da5750>"
      ]
     },
     "metadata": {},
     "output_type": "display_data"
    },
    {
     "name": "stdout",
     "output_type": "stream",
     "text": [
      "soma_surface\n"
     ]
    },
    {
     "data": {
      "image/png": "[encoded data removed]",
      "text/plain": [
       "<matplotlib.figure.Figure at 0x10daadc50>"
      ]
     },
     "metadata": {},
     "output_type": "display_data"
    },
    {
     "name": "stdout",
     "output_type": "stream",
     "text": [
      "total_length\n"
     ]
    },
    {
     "data": {
      "image/png": "[encoded data removed]",
      "text/plain": [
       "<matplotlib.figure.Figure at 0x11145dd10>"
      ]
     },
     "metadata": {},
     "output_type": "display_data"
    },
    {
     "name": "stdout",
     "output_type": "stream",
     "text": [
      "total_volume\n"
     ]
    },
    {
     "data": {
      "image/png": "[encoded data removed]",
      "text/plain": [
       "<matplotlib.figure.Figure at 0x1117e3310>"
      ]
     },
     "metadata": {},
     "output_type": "display_data"
    }
   ],
   "source": [
    "# decide which features to take log of\n",
    "\n",
    "for measure in morph_features:\n",
    "    print(measure)\n",
    "    sns.kdeplot(stats.zscore(abs(morph_mean.loc[measure])), label = 'raw')\n",
    "    sns.kdeplot(stats.zscore(np.log10(abs(morph_mean.loc[measure]))), label = 'log')\n",
    "    plt.legend()\n",
    "    plt.show()"
   ]
  },
  {
   "cell_type": "code",
   "execution_count": 14,
   "metadata": {
    "collapsed": true
   },
   "outputs": [],
   "source": [
    "# log transform of measures \n",
    "for measure in ['branchiness', 'max_branch_order', 'total_length', 'total_volume']:\n",
    "    morph_mean.loc[measure + '_log10'] = np.log10(morph_mean.loc[measure])\n",
    "    morph_features.remove(measure)\n",
    "    morph_features.append(measure + '_log10')"
   ]
  },
  {
   "cell_type": "markdown",
   "metadata": {},
   "source": [
    "<h3>Save metadata</h3>"
   ]
  },
  {
   "cell_type": "code",
   "execution_count": 19,
   "metadata": {
    "collapsed": true
   },
   "outputs": [],
   "source": [
    "counts = merge_counts(seq_count, morph_count, drop = True)\n",
    "counts_complete = merge_counts(seq_count_complete, morph_count_complete, drop = False)\n",
    "\n",
    "counts_complete.rename(columns={counts_complete.columns[0] : \"RNA_seq\"}, inplace = True)\n",
    "counts_complete['dropped'] = ['yes' if line in dropped else 'no' for line in counts_complete.index]\n",
    "\n",
    "counts = counts.iloc[:, [0, 1]]\n",
    "counts.columns = ['RNA_seq', 'Morphology']"
   ]
  },
  {
   "cell_type": "code",
   "execution_count": 20,
   "metadata": {
    "collapsed": true
   },
   "outputs": [],
   "source": [
    "morph_types = pd.DataFrame.from_dict(morph_name_to_type, orient = 'index', columns = ['Assigned_Cell_Type'])\n",
    "seq_types = pd.DataFrame.from_dict(seq_name_to_type, orient = 'index', columns = ['Assigned_Cell_Type'])\n",
    "\n",
    "morph_types['Layer'] = [morph_name_to_layer[n] for n in morph_types.index]\n",
    "seq_types['Layer'] = [seq_name_to_layer[n] for n in seq_types.index]\n",
    "morph_types['dropped'] = ['yes' if line in dropped else 'no' for line in morph_types.Assigned_Cell_Type]\n",
    "seq_types['dropped'] = ['yes' if line in dropped else 'no' for line in seq_types.Assigned_Cell_Type]\n"
   ]
  },
  {
   "cell_type": "code",
   "execution_count": 21,
   "metadata": {
    "collapsed": true
   },
   "outputs": [],
   "source": [
    "output_folder = '/Users/Claire/Dropbox/Allen_Institute_Stuff/Ephys_GE/Analysis/2018-10-16/'\n",
    "\n",
    "counts.to_csv(output_folder + 'Counts.csv')\n",
    "counts_complete.to_csv(output_folder + 'Counts_complete.csv')\n",
    "\n",
    "seq_types.to_csv(output_folder + 'seq_types.csv')\n",
    "morph_types.to_csv(output_folder + 'morph_types.csv')\n",
    "\n",
    "seq_mean.to_csv(output_folder + 'seq_mean.csv')\n",
    "morph_mean.to_csv(output_folder + 'morph_mean.csv')\n",
    "\n",
    "seq_sem.to_csv(output_folder + 'seq_sem.csv')\n",
    "morph_sem.to_csv(output_folder + 'morph_sem.csv')\n"
   ]
  },
  {
   "cell_type": "markdown",
   "metadata": {},
   "source": [
    "<h3>OLS regression analysis</h3>"
   ]
  },
  {
   "cell_type": "code",
   "execution_count": 22,
   "metadata": {
    "collapsed": true
   },
   "outputs": [],
   "source": [
    "# Remove raw values of features that were log transformed\n",
    "\n",
    "morph_mean = morph_mean.loc[morph_features]"
   ]
  },
  {
   "cell_type": "code",
   "execution_count": 23,
   "metadata": {
    "collapsed": true
   },
   "outputs": [],
   "source": [
    "df_seq = seq_mean\n",
    "df_morph = morph_mean\n",
    "\n",
    "if not all(df_morph.columns == df_seq.columns):\n",
    "    print('Warning: Check inputs!')\n",
    "\n",
    "line_labels = [line.split('__')[-1] for line in df_morph.columns]"
   ]
  },
  {
   "cell_type": "code",
   "execution_count": 24,
   "metadata": {},
   "outputs": [
    {
     "name": "stderr",
     "output_type": "stream",
     "text": [
      "//anaconda/envs/py27/lib/python2.7/site-packages/scipy/stats/_distn_infrastructure.py:879: RuntimeWarning: invalid value encountered in greater\n",
      "  return (self.a < x) & (x < self.b)\n",
      "//anaconda/envs/py27/lib/python2.7/site-packages/scipy/stats/_distn_infrastructure.py:879: RuntimeWarning: invalid value encountered in less\n",
      "  return (self.a < x) & (x < self.b)\n",
      "//anaconda/envs/py27/lib/python2.7/site-packages/scipy/stats/_distn_infrastructure.py:1818: RuntimeWarning: invalid value encountered in less_equal\n",
      "  cond2 = cond0 & (x <= self.a)\n"
     ]
    }
   ],
   "source": [
    "df = fit_models(df_seq, df_morph, line_labels)"
   ]
  },
  {
   "cell_type": "code",
   "execution_count": 25,
   "metadata": {
    "collapsed": true
   },
   "outputs": [],
   "source": [
    "for ptype in ['pval_gene', 'pval_gene|class_anova', 'pval_int_anova']:\n",
    "    q_list_all = []\n",
    "    mask = np.isfinite(df[ptype])\n",
    "    for measure in morph_features:\n",
    "        p_list = np.array(df[mask][df[mask].morph_measure == measure][ptype])\n",
    "        _, q_list = fdrcorrection0(p_list, alpha = 0.05)\n",
    "        q_list_all.append(q_list)\n",
    "    df[ptype.replace('pval', 'FDR')] = np.nan\n",
    "    df.loc[mask, ptype.replace('pval', 'FDR')] = np.hstack(q_list_all)"
   ]
  },
  {
   "cell_type": "code",
   "execution_count": 26,
   "metadata": {
    "collapsed": true
   },
   "outputs": [],
   "source": [
    "# add gene symbols\n",
    "\n",
    "filename_genes = 'mouse_VISp_2018-06-14_genes-rows.csv'\n",
    "gene_info = pd.read_csv(path_seq + filename_genes)\n",
    "df.insert(2, 'gene_symbol', [gene_info[gene_info.gene_entrez_id == n]['gene_symbol'].values[0] for n in df.gene_entrez_id])\n"
   ]
  },
  {
   "cell_type": "code",
   "execution_count": 27,
   "metadata": {
    "collapsed": true
   },
   "outputs": [],
   "source": [
    "df.to_csv(output_folder + 'results_table.csv')"
   ]
  },
  {
   "cell_type": "code",
   "execution_count": 28,
   "metadata": {},
   "outputs": [
    {
     "data": {
      "text/plain": [
       "26.46390491172872"
      ]
     },
     "execution_count": 28,
     "metadata": {},
     "output_type": "execute_result"
    }
   ],
   "source": [
    "# percentage of genes with acceptable expression\n",
    "\n",
    "((float(df.shape[0]) / len(morph_features)) / float(seq_raw.shape[0])) * 100"
   ]
  },
  {
   "cell_type": "markdown",
   "metadata": {
    "collapsed": true
   },
   "source": [
    "# Plots"
   ]
  },
  {
   "cell_type": "code",
   "execution_count": 29,
   "metadata": {
    "collapsed": true
   },
   "outputs": [],
   "source": [
    "condition_list = ['FDR_gene', 'FDR_gene|class_anova', 'FDR_int_anova']\n",
    "alpha_list = [0.1, 0.05, 0.01]\n",
    "\n",
    "sig_dd = {}\n",
    "counts_dd = {}\n",
    "\n",
    "for alpha in alpha_list:\n",
    "\n",
    "    for condition in condition_list:\n",
    "        sig_d = {}\n",
    "        counts_d = {}\n",
    "        for measure in morph_features:\n",
    "            qvals = df[df.morph_measure == measure]\n",
    "            genes_sig = qvals[qvals[condition] < alpha]['gene_entrez_id'].values\n",
    "            sig_d[measure] = genes_sig\n",
    "            counts_d[measure] = len(genes_sig)\n",
    "        sig_dd[(condition, alpha)] = sig_d\n",
    "        counts_dd[(condition, alpha)] = counts_d"
   ]
  },
  {
   "cell_type": "code",
   "execution_count": 30,
   "metadata": {},
   "outputs": [
    {
     "name": "stderr",
     "output_type": "stream",
     "text": [
      "//anaconda/envs/py27/lib/python2.7/site-packages/matplotlib_venn/_venn3.py:47: UserWarning: All circles have zero area\n",
      "  warnings.warn(\"All circles have zero area\")\n",
      "//anaconda/envs/py27/lib/python2.7/site-packages/matplotlib_venn/_venn3.py:57: UserWarning: Circle B has zero area\n",
      "  warnings.warn(\"Circle B has zero area\")\n",
      "//anaconda/envs/py27/lib/python2.7/site-packages/matplotlib_venn/_venn3.py:61: UserWarning: Circle C has zero area\n",
      "  warnings.warn(\"Circle C has zero area\")\n",
      "//anaconda/envs/py27/lib/python2.7/site-packages/matplotlib_venn/_venn3.py:53: UserWarning: Circle A has zero area\n",
      "  warnings.warn(\"Circle A has zero area\")\n",
      "//anaconda/envs/py27/lib/python2.7/site-packages/matplotlib/legend.py:634: UserWarning: Legend does not support None instances.\n",
      "A proxy artist may be used instead.\n",
      "See: http://matplotlib.org/users/legend_guide.html#using-proxy-artist\n",
      "  \"#using-proxy-artist\".format(orig_handle)\n"
     ]
    }
   ],
   "source": [
    "# E~G versus E~G|C\n",
    "\n",
    "conditions = ['FDR_gene', 'FDR_gene|class_anova', 'FDR_int_anova']\n",
    "\n",
    "for alpha in alpha_list:\n",
    "    fig, ax = plt.subplots(4, 5, figsize = (12, 10))\n",
    "    v = []\n",
    "    for i, measure in enumerate(morph_features):\n",
    "        set1 = set(sig_dd[(conditions[0], alpha)][measure])\n",
    "        set2 = set(sig_dd[(conditions[1], alpha)][measure])\n",
    "        set3 = set(sig_dd[(conditions[2], alpha)][measure])\n",
    "\n",
    "        venn = venn3([set1, set2, set3], set_labels = None, set_colors = ('g', 'b', 'r'), ax = ax.flatten()[i])\n",
    "        v.append(venn)\n",
    "        ax.flatten()[i].set_title(measure[:16] + '\\n' + measure[16:], loc = 'center')\n",
    "\n",
    "    green_patch = v[3].get_patch_by_id('100')\n",
    "    blue_patch = v[3].get_patch_by_id('010')\n",
    "    red_patch = v[3].get_patch_by_id('001')\n",
    "    \n",
    "    fig.delaxes(ax.flatten()[len(ax.flatten()) - 1])\n",
    "    plt.legend(handles=[green_patch, blue_patch, red_patch], labels = ['morph~gene', 'morph~gene|class', 'interaction'], \n",
    "               bbox_to_anchor=(1.05, 1), loc=2, borderaxespad=0.)\n",
    "\n",
    "    fig.suptitle('Number of genes detected (FDR < ' + str(alpha) + ')', fontsize = 18)\n",
    "    plt.savefig('/Users/Claire/Dropbox/Allen_Institute_Stuff/Ephys_GE/Analysis/2018-10-16/venn' + str(alpha) + '.png', bbox_inches='tight')\n",
    "    plt.close('all')\n",
    "#     plt.show()"
   ]
  },
  {
   "cell_type": "code",
   "execution_count": 31,
   "metadata": {
    "collapsed": true
   },
   "outputs": [],
   "source": [
    "# re-run model #2 (E~C) for each morphology feature\n",
    "\n",
    "df_var2 = df_morph\n",
    "    \n",
    "measures = df_var2.index\n",
    "\n",
    "result_list = []\n",
    "\n",
    "line_labels = pd.DataFrame(line_labels, index = df_var2.columns, columns = ['cell_class'])\n",
    "\n",
    "# For each measure, pull out data into and y variable\n",
    "for n, measure in enumerate(measures):\n",
    "    y = df_var2.loc[measure, :]\n",
    "\n",
    "    # If shape of y makes sense, create models\n",
    "    if y.shape == (df_var2.shape[1],):\n",
    "\n",
    "        # Make a data frame with y data plus cell class\n",
    "        df_int = pd.concat([y, line_labels], axis = 1)\n",
    "\n",
    "        # run class-based model only if both cell types present\n",
    "        if set(df_int['cell_class']) == {'exc', 'inh'}:\n",
    "            mod2 = smf.ols(formula = measure + ' ~ ' + 'C(cell_class)', data = df_int)\n",
    "            res2 = mod2.fit()\n",
    "            results = [measure, res2.params['C(cell_class)[T.inh]'], res2.pvalues['C(cell_class)[T.inh]']]\n",
    "        else:\n",
    "            results = [measure, np.nan, np.nan]\n",
    "\n",
    "        result_list.append(results)\n",
    "\n",
    "# Convert to dataframe\n",
    "df_class = pd.DataFrame(result_list, columns = ['morph_measure', 'beta_class', 'pval_class'])\n"
   ]
  },
  {
   "cell_type": "code",
   "execution_count": 32,
   "metadata": {
    "collapsed": true
   },
   "outputs": [],
   "source": [
    "ptype = 'pval_class'\n",
    "mask = np.isfinite(df_class[ptype])\n",
    "p_list = np.array(df_class[mask][ptype])\n",
    "_, q_list = fdrcorrection0(p_list, alpha = 0.05)\n",
    "df_class[ptype.replace('pval', 'FDR')] = np.nan\n",
    "df_class.loc[mask, ptype.replace('pval', 'FDR')] = np.hstack(q_list)"
   ]
  },
  {
   "cell_type": "code",
   "execution_count": 33,
   "metadata": {
    "collapsed": true
   },
   "outputs": [],
   "source": [
    "output_folder = '/Users/Claire/Dropbox/Allen_Institute_Stuff/Ephys_GE/Analysis/2018-10-16/'\n",
    "\n",
    "df_class.to_csv(output_folder + 'results_table_class.csv')"
   ]
  },
  {
   "cell_type": "code",
   "execution_count": null,
   "metadata": {
    "collapsed": true
   },
   "outputs": [],
   "source": []
  }
 ],
 "metadata": {
  "kernelspec": {
   "display_name": "Python 2",
   "language": "python",
   "name": "python2"
  },
  "language_info": {
   "codemirror_mode": {
    "name": "ipython",
    "version": 2
   },
   "file_extension": ".py",
   "mimetype": "text/x-python",
   "name": "python",
   "nbconvert_exporter": "python",
   "pygments_lexer": "ipython2",
   "version": "2.7.13"
  }
 },
 "nbformat": 4,
 "nbformat_minor": 2
}
