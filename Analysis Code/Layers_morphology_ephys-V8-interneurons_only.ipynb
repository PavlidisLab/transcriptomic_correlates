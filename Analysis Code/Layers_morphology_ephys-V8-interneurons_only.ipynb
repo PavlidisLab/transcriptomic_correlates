{
 "cells": [
  {
   "cell_type": "markdown",
   "metadata": {},
   "source": [
    "Analyses from SWDB are in V1 file\n",
    "\n",
    "\n",
    "Copied everything over so that I can change function definitions without breaking everything (2017-09-18)\n",
    "\n",
    "Copied again for (hopefully!) finalized analysis (2017-10-12)\n",
    "\n",
    "New version with newest ephys data (2017-10-25)\n",
    "\n",
    "Re-analyze using newest ephys & RNA-seq data downloaded 2018-06-19 (many more cells in RNA-seq set)\n",
    "\n",
    "Re-do using linear model instead of partial correlations (started 2018-09-25)\n",
    "\n",
    "Run analysis on PCA-transformed data with same layer splits, also removed zero filtering step (started 2019-03-21)\n",
    "\n",
    "Run on inhibitory neurons only as an alternative means of dealing with the class-driven correlation problem (2019-04-11)"
   ]
  },
  {
   "cell_type": "code",
   "execution_count": 1,
   "metadata": {},
   "outputs": [
    {
     "name": "stderr",
     "output_type": "stream",
     "text": [
      "//anaconda/envs/py27/lib/python2.7/site-packages/statsmodels/compat/pandas.py:56: FutureWarning: The pandas.core.datetools module is deprecated and will be removed in a future version. Please use the pandas.tseries module instead.\n",
      "  from pandas.core import datetools\n"
     ]
    }
   ],
   "source": [
    "# Imports\n",
    "\n",
    "import sys\n",
    "import os\n",
    "\n",
    "import pandas as pd\n",
    "import numpy as np\n",
    "\n",
    "from scipy import stats\n",
    "from statsmodels.sandbox.stats.multicomp import fdrcorrection0\n",
    "from statsmodels.stats.anova import anova_lm\n",
    "import statsmodels.api as sm\n",
    "import statsmodels.formula.api as smf\n",
    "\n",
    "import matplotlib.pyplot as plt\n",
    "from matplotlib_venn import venn3\n",
    "from matplotlib_venn import venn2\n",
    "from matplotlib_venn import venn2_circles\n",
    "import seaborn as sns\n",
    "%matplotlib inline\n"
   ]
  },
  {
   "cell_type": "code",
   "execution_count": 2,
   "metadata": {
    "collapsed": true
   },
   "outputs": [],
   "source": [
    "# fit linear models explaining ephys according to gene expression and/or cell class\n",
    "# returns a summary dataframe containing beta values, class-specific slopes, and p-values\n",
    "\n",
    "def fit_models(df_seq, df_var2, line_labels, min_samples = 10):\n",
    "    \n",
    "    measures = df_var2.index\n",
    "    genes = df_seq.index\n",
    "        \n",
    "    result_list = []\n",
    "    \n",
    "    line_labels = pd.DataFrame(line_labels, index = df_var2.columns, columns = ['cell_class'])\n",
    "\n",
    "    df_seq = df_seq.loc[:, line_labels.cell_class == 'inh']\n",
    "    df_var2 = df_var2.loc[:, line_labels.cell_class == 'inh']\n",
    "    \n",
    "    # For each combination of gene and measure, pull out data into x and y variables\n",
    "    for n, measure in enumerate(measures):\n",
    "        for m, gene in enumerate(genes):\n",
    "            if (gene in df_seq.index) & ((df_seq.loc[gene] > 1).sum() >= min_samples):\n",
    "                x = df_seq.loc[gene, :]\n",
    "                y = df_var2.loc[measure, :]\n",
    "                \n",
    "                # If shapes of x and y make sense, create models\n",
    "                if x.shape == (df_var2.shape[1],) and y.shape == (df_var2.shape[1],):\n",
    "\n",
    "                    # Make a data frame with x and y data\n",
    "                    df_int = pd.concat([x, y], axis = 1)\n",
    "                    gene_idx = 'Gene' + str(gene)\n",
    "                    df_int.rename(columns = {gene: gene_idx}, inplace = True)\n",
    "\n",
    "                    # Calculate models\n",
    "                    mod1 = smf.ols(formula = measure + ' ~ ' + ' +  ' + gene_idx, data = df_int)\n",
    "                    res1 = mod1.fit()\n",
    "\n",
    "                    results = [measure, gene, \n",
    "                               res1.params[gene_idx],\n",
    "                               res1.pvalues[gene_idx], \n",
    "                               res1.aic]\n",
    "\n",
    "                    result_list.append(results)\n",
    "                    \n",
    "    # Convert to dataframe\n",
    "    df = pd.DataFrame(result_list, columns = ['property', 'gene_entrez_id', \n",
    "                                              'beta_gene_inh_only',  \n",
    "                                              'pval_gene_inh_only', \n",
    "                                              'inh_only_aic'])\n",
    "    return df"
   ]
  },
  {
   "cell_type": "code",
   "execution_count": 3,
   "metadata": {
    "collapsed": true
   },
   "outputs": [],
   "source": [
    "# Load ephys data\n",
    "\n",
    "input_folder_1 = '/Users/Claire/Dropbox/Allen_Institute_Stuff/Ephys_GE/Analysis/2018-10-09/'\n",
    "input_folder_2 = '/Users/Claire/Dropbox/Allen_Institute_Stuff/Ephys_GE/Analysis/2019-03-21 PCA/'\n",
    "\n",
    "df_seq_ephys = pd.read_csv(input_folder_1 + 'seq_mean.csv', index_col = 0)\n",
    "df_ephys = pd.read_csv(input_folder_1 + 'ephys_mean.csv', index_col = 0)\n",
    "df_ephys_pca = pd.read_csv(input_folder_2 + 'ephys_mean_pca.csv', index_col = 0)\n",
    "df_ephys = pd.concat([df_ephys, df_ephys_pca])\n",
    "\n",
    "# Remove raw data for features that were log transformed\n",
    "ephys_features = ['rmp', 'tau', 'apthr', 'apamp', 'ahpamp', 'aphw', 'rheo', 'cap', 'maxfreq', \n",
    "                  'adratio', 'ri', 'sag', 'f_i_curve_slope', 'avg_isi', 'latency', 'isi_cv']\n",
    "for measure in ['ri', 'tau', 'cap', 'rheo', 'maxfreq', 'ahpamp', 'adratio', \n",
    "                'f_i_curve_slope', 'avg_isi', 'latency', 'isi_cv', 'sag']:\n",
    "    ephys_features.remove(measure)\n",
    "    ephys_features.append(measure + '_log10')\n",
    "ephys_features = ephys_features + ['PC1', 'PC2', 'PC3']\n",
    "df_ephys = df_ephys.loc[ephys_features]"
   ]
  },
  {
   "cell_type": "code",
   "execution_count": 4,
   "metadata": {
    "collapsed": true
   },
   "outputs": [],
   "source": [
    "# Load morphology data\n",
    "\n",
    "input_folder_1 = '/Users/Claire/Dropbox/Allen_Institute_Stuff/Ephys_GE/Analysis/2018-10-16/'\n",
    "input_folder_2 = '/Users/Claire/Dropbox/Allen_Institute_Stuff/Ephys_GE/Analysis/2019-03-21 PCA/'\n",
    "\n",
    "df_seq_morph = pd.read_csv(input_folder_1 + 'seq_mean.csv', index_col = 0)\n",
    "df_morph = pd.read_csv(input_folder_1 + 'morph_mean.csv', index_col = 0)\n",
    "df_morph_pca = pd.read_csv(input_folder_2 + 'morph_mean_pca.csv', index_col = 0)\n",
    "df_morph = pd.concat([df_morph, df_morph_pca])\n",
    "\n",
    "morph_features = ['branchiness', 'average_bifurcation_angle_local', 'max_branch_order', \n",
    "                  'soma_surface', 'total_length', 'total_volume']\n",
    "for measure in ['branchiness', 'max_branch_order', 'total_length', 'total_volume']:\n",
    "    morph_features.remove(measure)\n",
    "    morph_features.append(measure + '_log10')\n",
    "morph_features = morph_features + ['PC1', 'PC2', 'PC3']\n",
    "df_morph = df_morph.loc[morph_features]"
   ]
  },
  {
   "cell_type": "code",
   "execution_count": 5,
   "metadata": {
    "collapsed": true
   },
   "outputs": [],
   "source": [
    "path_seq = '/Users/Claire/Dropbox/Allen_Institute_Stuff/Ephys_GE/mouse_VISp_gene_expression_matrices_2018-06-14/'\n",
    "filename_genes = 'mouse_VISp_2018-06-14_genes-rows.csv'\n",
    "gene_info = pd.read_csv(path_seq + filename_genes)"
   ]
  },
  {
   "cell_type": "code",
   "execution_count": 6,
   "metadata": {
    "collapsed": true
   },
   "outputs": [],
   "source": [
    "output_folder_ephys = '/Users/Claire/Dropbox/Allen_Institute_Stuff/Ephys_GE/Analysis/2019-04-11 Interneurons only Ephys/'\n",
    "output_folder_morph = '/Users/Claire/Dropbox/Allen_Institute_Stuff/Ephys_GE/Analysis/2019-04-11 Interneurons only Morphology/'"
   ]
  },
  {
   "cell_type": "markdown",
   "metadata": {},
   "source": [
    "<h3>OLS regression analysis</h3>"
   ]
  },
  {
   "cell_type": "code",
   "execution_count": 7,
   "metadata": {},
   "outputs": [
    {
     "name": "stdout",
     "output_type": "stream",
     "text": [
      "25.2753015207\n",
      "24.9956301346\n"
     ]
    }
   ],
   "source": [
    "for df_seq, df_var2, output_folder, label in [(df_seq_ephys, df_ephys, output_folder_ephys, 'ephys'), \n",
    "                                              (df_seq_morph, df_morph, output_folder_morph, 'morph')]:\n",
    "\n",
    "    if not all(df_var2.columns == df_seq.columns):\n",
    "        print('Warning: Check inputs!')\n",
    "\n",
    "    line_labels = [line.split('__')[-1] for line in df_var2.columns]\n",
    "\n",
    "    features = df_var2.index\n",
    "\n",
    "    df = fit_models(df_seq, df_var2, line_labels)\n",
    "\n",
    "    ptype = 'pval_gene_inh_only'\n",
    "    q_list_all = []\n",
    "    mask = np.isfinite(df[ptype])\n",
    "    for measure in features:\n",
    "        p_list = np.array(df[mask][df[mask].property == measure][ptype])\n",
    "        _, q_list = fdrcorrection0(p_list, alpha = 0.05)\n",
    "        q_list_all.append(q_list)\n",
    "    df[ptype.replace('pval', 'FDR')] = np.nan\n",
    "    df.loc[mask, ptype.replace('pval', 'FDR')] = np.hstack(q_list_all)\n",
    "\n",
    "    # add gene symbols\n",
    "    df.insert(2, 'gene_symbol', [gene_info[gene_info.gene_entrez_id == n]['gene_symbol'].values[0] for n in df.gene_entrez_id])\n",
    "\n",
    "    # Save\n",
    "    df.to_csv(output_folder + 'results_table.csv')\n",
    "\n",
    "    # percentage of genes with acceptable expression\n",
    "    print(((float(df.shape[0]) / len(features)) / float(df_seq.shape[0])) * 100)\n",
    "    "
   ]
  },
  {
   "cell_type": "code",
   "execution_count": null,
   "metadata": {
    "collapsed": true
   },
   "outputs": [],
   "source": []
  }
 ],
 "metadata": {
  "kernelspec": {
   "display_name": "Python 2",
   "language": "python",
   "name": "python2"
  },
  "language_info": {
   "codemirror_mode": {
    "name": "ipython",
    "version": 2
   },
   "file_extension": ".py",
   "mimetype": "text/x-python",
   "name": "python",
   "nbconvert_exporter": "python",
   "pygments_lexer": "ipython2",
   "version": "2.7.13"
  }
 },
 "nbformat": 4,
 "nbformat_minor": 2
}
